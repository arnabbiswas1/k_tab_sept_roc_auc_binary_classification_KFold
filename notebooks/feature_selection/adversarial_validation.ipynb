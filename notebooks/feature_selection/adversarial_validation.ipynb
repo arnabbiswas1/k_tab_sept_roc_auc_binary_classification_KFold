{
 "cells": [
  {
   "cell_type": "markdown",
   "id": "industrial-award",
   "metadata": {},
   "source": [
    "# Simple Adeversarial Code.\n",
    "\n",
    "If the score (roc auc) of this model is around 0.5, we can colclude that the distribution of features between train and test data is very similar"
   ]
  },
  {
   "cell_type": "code",
   "execution_count": 42,
   "id": "outdoor-original",
   "metadata": {},
   "outputs": [],
   "source": [
    "import os\n",
    "import sys\n",
    "\n",
    "import pandas as pd\n",
    "import numpy as np\n",
    "import matplotlib.pyplot as plt\n",
    "import seaborn as sns\n",
    "\n",
    "from sklearn.preprocessing import LabelEncoder\n",
    "from sklearn.model_selection import train_test_split\n",
    "\n",
    "import lightgbm as lgb"
   ]
  },
  {
   "cell_type": "code",
   "execution_count": 2,
   "id": "prospective-africa",
   "metadata": {},
   "outputs": [],
   "source": [
    "sys.path.insert(0, \"/opt/vssexclude/personal/kaggle/kaggle_tab_mar/src\")"
   ]
  },
  {
   "cell_type": "code",
   "execution_count": 3,
   "id": "frozen-mustang",
   "metadata": {},
   "outputs": [],
   "source": [
    "%load_ext autoreload\n",
    "%autoreload 2"
   ]
  },
  {
   "cell_type": "code",
   "execution_count": 4,
   "id": "beneficial-haven",
   "metadata": {},
   "outputs": [],
   "source": [
    "import munging.process_data_util as process_data\n",
    "import common.com_util as util\n",
    "import config.constants as constants"
   ]
  },
  {
   "cell_type": "code",
   "execution_count": 5,
   "id": "powerful-pakistan",
   "metadata": {},
   "outputs": [],
   "source": [
    "logger = util.get_logger('main')"
   ]
  },
  {
   "cell_type": "code",
   "execution_count": 6,
   "id": "artistic-watershed",
   "metadata": {},
   "outputs": [
    {
     "name": "stdout",
     "output_type": "stream",
     "text": [
      "[INFO]2021-03-11 14:47:41,547:main:Reading Data from /opt/vssexclude/personal/kaggle/kaggle_tab_mar/data/processed...\n",
      "[INFO]2021-03-11 14:47:41,644:main:Shape of train_df : (300000, 31)\n",
      "[INFO]2021-03-11 14:47:41,679:main:Shape of test_df : (200000, 30)\n"
     ]
    },
    {
     "data": {
      "text/plain": [
       "((300000, 31), (200000, 30))"
      ]
     },
     "execution_count": 6,
     "metadata": {},
     "output_type": "execute_result"
    }
   ],
   "source": [
    "train_df, test_df, _ = process_data.read_processed_data(logger,\n",
    "                                                     constants.PROCESSED_DATA_DIR,\n",
    "                                                     train=True,\n",
    "                                                     test=True,\n",
    "                                                     sample_submission=False)\n",
    "\n",
    "train_df.shape, test_df.shape"
   ]
  },
  {
   "cell_type": "code",
   "execution_count": 7,
   "id": "unnecessary-metropolitan",
   "metadata": {},
   "outputs": [],
   "source": [
    "# Decide the predictors\n",
    "features = test_df.columns\n",
    "\n",
    "# Create the train & test data for adversarial validation\n",
    "train_df = train_df[features]\n",
    "# Create a dummy target to separate out train and test data\n",
    "train_df[\"target\"] = 0\n",
    "test_df[\"target\"] = 1\n",
    "\n",
    "train_test_df = pd.concat([train_df, test_df], axis=0)"
   ]
  },
  {
   "cell_type": "code",
   "execution_count": 8,
   "id": "attempted-april",
   "metadata": {},
   "outputs": [
    {
     "data": {
      "text/plain": [
       "0    300000\n",
       "1    200000\n",
       "Name: target, dtype: int64"
      ]
     },
     "execution_count": 8,
     "metadata": {},
     "output_type": "execute_result"
    }
   ],
   "source": [
    "# Confirm the target distribution in train_test_df\n",
    "train_test_df.target.value_counts()"
   ]
  },
  {
   "cell_type": "code",
   "execution_count": 9,
   "id": "fundamental-robin",
   "metadata": {},
   "outputs": [],
   "source": [
    "# Label encode categorical features\n",
    "cat_features = [name for name in features if 'cat' in name]\n",
    "\n",
    "for name in cat_features:\n",
    "    le = LabelEncoder()\n",
    "    le.fit(train_test_df[name])\n",
    "    train_test_df[name] = le.transform(train_test_df[name])"
   ]
  },
  {
   "cell_type": "code",
   "execution_count": 13,
   "id": "focal-mention",
   "metadata": {},
   "outputs": [
    {
     "data": {
      "text/plain": [
       "((335000, 31), (165000, 31))"
      ]
     },
     "execution_count": 13,
     "metadata": {},
     "output_type": "execute_result"
    }
   ],
   "source": [
    "# Create train & validation data set to validate the model built for adversarial validation\n",
    "train_df, validation_df = train_test_split(train_test_df, test_size=0.33, random_state=42, shuffle=True)\n",
    "\n",
    "train_df.shape, validation_df.shape"
   ]
  },
  {
   "cell_type": "code",
   "execution_count": 14,
   "id": "developmental-drill",
   "metadata": {},
   "outputs": [
    {
     "data": {
      "text/plain": [
       "0    201000\n",
       "1    134000\n",
       "Name: target, dtype: int64"
      ]
     },
     "execution_count": 14,
     "metadata": {},
     "output_type": "execute_result"
    }
   ],
   "source": [
    "# To be on the safer side, check target value distribution in train_df\n",
    "train_df.target.value_counts()"
   ]
  },
  {
   "cell_type": "code",
   "execution_count": 15,
   "id": "charitable-lobby",
   "metadata": {},
   "outputs": [
    {
     "data": {
      "text/plain": [
       "0    99000\n",
       "1    66000\n",
       "Name: target, dtype: int64"
      ]
     },
     "execution_count": 15,
     "metadata": {},
     "output_type": "execute_result"
    }
   ],
   "source": [
    "# To be on the safer side, check target value distribution in train_df\n",
    "validation_df.target.value_counts()"
   ]
  },
  {
   "cell_type": "code",
   "execution_count": 16,
   "id": "sought-intent",
   "metadata": {},
   "outputs": [
    {
     "data": {
      "text/html": [
       "<div>\n",
       "<style scoped>\n",
       "    .dataframe tbody tr th:only-of-type {\n",
       "        vertical-align: middle;\n",
       "    }\n",
       "\n",
       "    .dataframe tbody tr th {\n",
       "        vertical-align: top;\n",
       "    }\n",
       "\n",
       "    .dataframe thead th {\n",
       "        text-align: right;\n",
       "    }\n",
       "</style>\n",
       "<table border=\"1\" class=\"dataframe\">\n",
       "  <thead>\n",
       "    <tr style=\"text-align: right;\">\n",
       "      <th></th>\n",
       "      <th>cat0</th>\n",
       "      <th>cat1</th>\n",
       "      <th>cat2</th>\n",
       "      <th>cat3</th>\n",
       "      <th>cat4</th>\n",
       "      <th>cat5</th>\n",
       "      <th>cat6</th>\n",
       "      <th>cat7</th>\n",
       "      <th>cat8</th>\n",
       "      <th>cat9</th>\n",
       "      <th>...</th>\n",
       "      <th>cont2</th>\n",
       "      <th>cont3</th>\n",
       "      <th>cont4</th>\n",
       "      <th>cont5</th>\n",
       "      <th>cont6</th>\n",
       "      <th>cont7</th>\n",
       "      <th>cont8</th>\n",
       "      <th>cont9</th>\n",
       "      <th>cont10</th>\n",
       "      <th>target</th>\n",
       "    </tr>\n",
       "    <tr>\n",
       "      <th>id</th>\n",
       "      <th></th>\n",
       "      <th></th>\n",
       "      <th></th>\n",
       "      <th></th>\n",
       "      <th></th>\n",
       "      <th></th>\n",
       "      <th></th>\n",
       "      <th></th>\n",
       "      <th></th>\n",
       "      <th></th>\n",
       "      <th></th>\n",
       "      <th></th>\n",
       "      <th></th>\n",
       "      <th></th>\n",
       "      <th></th>\n",
       "      <th></th>\n",
       "      <th></th>\n",
       "      <th></th>\n",
       "      <th></th>\n",
       "      <th></th>\n",
       "      <th></th>\n",
       "    </tr>\n",
       "  </thead>\n",
       "  <tbody>\n",
       "    <tr>\n",
       "      <th>308547</th>\n",
       "      <td>1</td>\n",
       "      <td>8</td>\n",
       "      <td>3</td>\n",
       "      <td>1</td>\n",
       "      <td>4</td>\n",
       "      <td>33</td>\n",
       "      <td>0</td>\n",
       "      <td>19</td>\n",
       "      <td>38</td>\n",
       "      <td>0</td>\n",
       "      <td>...</td>\n",
       "      <td>0.199874</td>\n",
       "      <td>0.667637</td>\n",
       "      <td>0.347652</td>\n",
       "      <td>0.733776</td>\n",
       "      <td>0.226715</td>\n",
       "      <td>0.683053</td>\n",
       "      <td>0.486450</td>\n",
       "      <td>0.301790</td>\n",
       "      <td>0.436562</td>\n",
       "      <td>1</td>\n",
       "    </tr>\n",
       "    <tr>\n",
       "      <th>356585</th>\n",
       "      <td>0</td>\n",
       "      <td>6</td>\n",
       "      <td>6</td>\n",
       "      <td>1</td>\n",
       "      <td>3</td>\n",
       "      <td>33</td>\n",
       "      <td>7</td>\n",
       "      <td>39</td>\n",
       "      <td>48</td>\n",
       "      <td>0</td>\n",
       "      <td>...</td>\n",
       "      <td>0.329803</td>\n",
       "      <td>0.584787</td>\n",
       "      <td>0.578935</td>\n",
       "      <td>0.418120</td>\n",
       "      <td>0.467397</td>\n",
       "      <td>0.533833</td>\n",
       "      <td>0.411339</td>\n",
       "      <td>0.719804</td>\n",
       "      <td>0.511533</td>\n",
       "      <td>0</td>\n",
       "    </tr>\n",
       "    <tr>\n",
       "      <th>26290</th>\n",
       "      <td>1</td>\n",
       "      <td>8</td>\n",
       "      <td>0</td>\n",
       "      <td>1</td>\n",
       "      <td>4</td>\n",
       "      <td>2</td>\n",
       "      <td>0</td>\n",
       "      <td>14</td>\n",
       "      <td>13</td>\n",
       "      <td>0</td>\n",
       "      <td>...</td>\n",
       "      <td>0.254874</td>\n",
       "      <td>0.309040</td>\n",
       "      <td>0.292972</td>\n",
       "      <td>0.293131</td>\n",
       "      <td>0.678089</td>\n",
       "      <td>0.263619</td>\n",
       "      <td>0.330077</td>\n",
       "      <td>0.239734</td>\n",
       "      <td>0.314284</td>\n",
       "      <td>1</td>\n",
       "    </tr>\n",
       "    <tr>\n",
       "      <th>23025</th>\n",
       "      <td>0</td>\n",
       "      <td>7</td>\n",
       "      <td>14</td>\n",
       "      <td>0</td>\n",
       "      <td>4</td>\n",
       "      <td>69</td>\n",
       "      <td>2</td>\n",
       "      <td>11</td>\n",
       "      <td>38</td>\n",
       "      <td>0</td>\n",
       "      <td>...</td>\n",
       "      <td>0.297880</td>\n",
       "      <td>0.334087</td>\n",
       "      <td>0.462165</td>\n",
       "      <td>0.272757</td>\n",
       "      <td>0.407102</td>\n",
       "      <td>0.259435</td>\n",
       "      <td>0.360080</td>\n",
       "      <td>0.261884</td>\n",
       "      <td>0.462042</td>\n",
       "      <td>1</td>\n",
       "    </tr>\n",
       "    <tr>\n",
       "      <th>115407</th>\n",
       "      <td>1</td>\n",
       "      <td>10</td>\n",
       "      <td>0</td>\n",
       "      <td>0</td>\n",
       "      <td>4</td>\n",
       "      <td>33</td>\n",
       "      <td>2</td>\n",
       "      <td>19</td>\n",
       "      <td>38</td>\n",
       "      <td>5</td>\n",
       "      <td>...</td>\n",
       "      <td>0.307156</td>\n",
       "      <td>0.315753</td>\n",
       "      <td>0.352470</td>\n",
       "      <td>0.734848</td>\n",
       "      <td>0.594551</td>\n",
       "      <td>0.385752</td>\n",
       "      <td>0.386277</td>\n",
       "      <td>0.548261</td>\n",
       "      <td>0.267465</td>\n",
       "      <td>0</td>\n",
       "    </tr>\n",
       "  </tbody>\n",
       "</table>\n",
       "<p>5 rows × 31 columns</p>\n",
       "</div>"
      ],
      "text/plain": [
       "        cat0  cat1  cat2  cat3  cat4  cat5  cat6  cat7  cat8  cat9  ...  \\\n",
       "id                                                                  ...   \n",
       "308547     1     8     3     1     4    33     0    19    38     0  ...   \n",
       "356585     0     6     6     1     3    33     7    39    48     0  ...   \n",
       "26290      1     8     0     1     4     2     0    14    13     0  ...   \n",
       "23025      0     7    14     0     4    69     2    11    38     0  ...   \n",
       "115407     1    10     0     0     4    33     2    19    38     5  ...   \n",
       "\n",
       "           cont2     cont3     cont4     cont5     cont6     cont7     cont8  \\\n",
       "id                                                                             \n",
       "308547  0.199874  0.667637  0.347652  0.733776  0.226715  0.683053  0.486450   \n",
       "356585  0.329803  0.584787  0.578935  0.418120  0.467397  0.533833  0.411339   \n",
       "26290   0.254874  0.309040  0.292972  0.293131  0.678089  0.263619  0.330077   \n",
       "23025   0.297880  0.334087  0.462165  0.272757  0.407102  0.259435  0.360080   \n",
       "115407  0.307156  0.315753  0.352470  0.734848  0.594551  0.385752  0.386277   \n",
       "\n",
       "           cont9    cont10  target  \n",
       "id                                  \n",
       "308547  0.301790  0.436562       1  \n",
       "356585  0.719804  0.511533       0  \n",
       "26290   0.239734  0.314284       1  \n",
       "23025   0.261884  0.462042       1  \n",
       "115407  0.548261  0.267465       0  \n",
       "\n",
       "[5 rows x 31 columns]"
      ]
     },
     "execution_count": 16,
     "metadata": {},
     "output_type": "execute_result"
    }
   ],
   "source": [
    "# id should be mixed up\n",
    "train_df.head()"
   ]
  },
  {
   "cell_type": "code",
   "execution_count": 18,
   "id": "dynamic-humidity",
   "metadata": {},
   "outputs": [
    {
     "data": {
      "text/html": [
       "<div>\n",
       "<style scoped>\n",
       "    .dataframe tbody tr th:only-of-type {\n",
       "        vertical-align: middle;\n",
       "    }\n",
       "\n",
       "    .dataframe tbody tr th {\n",
       "        vertical-align: top;\n",
       "    }\n",
       "\n",
       "    .dataframe thead th {\n",
       "        text-align: right;\n",
       "    }\n",
       "</style>\n",
       "<table border=\"1\" class=\"dataframe\">\n",
       "  <thead>\n",
       "    <tr style=\"text-align: right;\">\n",
       "      <th></th>\n",
       "      <th>cat0</th>\n",
       "      <th>cat1</th>\n",
       "      <th>cat2</th>\n",
       "      <th>cat3</th>\n",
       "      <th>cat4</th>\n",
       "      <th>cat5</th>\n",
       "      <th>cat6</th>\n",
       "      <th>cat7</th>\n",
       "      <th>cat8</th>\n",
       "      <th>cat9</th>\n",
       "      <th>...</th>\n",
       "      <th>cont2</th>\n",
       "      <th>cont3</th>\n",
       "      <th>cont4</th>\n",
       "      <th>cont5</th>\n",
       "      <th>cont6</th>\n",
       "      <th>cont7</th>\n",
       "      <th>cont8</th>\n",
       "      <th>cont9</th>\n",
       "      <th>cont10</th>\n",
       "      <th>target</th>\n",
       "    </tr>\n",
       "    <tr>\n",
       "      <th>id</th>\n",
       "      <th></th>\n",
       "      <th></th>\n",
       "      <th></th>\n",
       "      <th></th>\n",
       "      <th></th>\n",
       "      <th></th>\n",
       "      <th></th>\n",
       "      <th></th>\n",
       "      <th></th>\n",
       "      <th></th>\n",
       "      <th></th>\n",
       "      <th></th>\n",
       "      <th></th>\n",
       "      <th></th>\n",
       "      <th></th>\n",
       "      <th></th>\n",
       "      <th></th>\n",
       "      <th></th>\n",
       "      <th></th>\n",
       "      <th></th>\n",
       "      <th></th>\n",
       "    </tr>\n",
       "  </thead>\n",
       "  <tbody>\n",
       "    <tr>\n",
       "      <th>174138</th>\n",
       "      <td>0</td>\n",
       "      <td>5</td>\n",
       "      <td>0</td>\n",
       "      <td>0</td>\n",
       "      <td>4</td>\n",
       "      <td>33</td>\n",
       "      <td>2</td>\n",
       "      <td>9</td>\n",
       "      <td>55</td>\n",
       "      <td>2</td>\n",
       "      <td>...</td>\n",
       "      <td>0.541051</td>\n",
       "      <td>0.657140</td>\n",
       "      <td>0.470970</td>\n",
       "      <td>0.620552</td>\n",
       "      <td>0.569496</td>\n",
       "      <td>0.552985</td>\n",
       "      <td>0.458565</td>\n",
       "      <td>0.468596</td>\n",
       "      <td>0.689696</td>\n",
       "      <td>0</td>\n",
       "    </tr>\n",
       "    <tr>\n",
       "      <th>333235</th>\n",
       "      <td>1</td>\n",
       "      <td>5</td>\n",
       "      <td>0</td>\n",
       "      <td>0</td>\n",
       "      <td>4</td>\n",
       "      <td>33</td>\n",
       "      <td>2</td>\n",
       "      <td>30</td>\n",
       "      <td>38</td>\n",
       "      <td>8</td>\n",
       "      <td>...</td>\n",
       "      <td>0.342121</td>\n",
       "      <td>0.275492</td>\n",
       "      <td>0.784097</td>\n",
       "      <td>0.557006</td>\n",
       "      <td>0.592018</td>\n",
       "      <td>0.545133</td>\n",
       "      <td>0.372315</td>\n",
       "      <td>0.480407</td>\n",
       "      <td>0.323813</td>\n",
       "      <td>0</td>\n",
       "    </tr>\n",
       "    <tr>\n",
       "      <th>233842</th>\n",
       "      <td>0</td>\n",
       "      <td>8</td>\n",
       "      <td>0</td>\n",
       "      <td>0</td>\n",
       "      <td>5</td>\n",
       "      <td>33</td>\n",
       "      <td>0</td>\n",
       "      <td>6</td>\n",
       "      <td>28</td>\n",
       "      <td>5</td>\n",
       "      <td>...</td>\n",
       "      <td>0.371414</td>\n",
       "      <td>0.558232</td>\n",
       "      <td>0.208408</td>\n",
       "      <td>0.168313</td>\n",
       "      <td>0.521958</td>\n",
       "      <td>0.566209</td>\n",
       "      <td>0.507267</td>\n",
       "      <td>0.360524</td>\n",
       "      <td>0.543451</td>\n",
       "      <td>0</td>\n",
       "    </tr>\n",
       "    <tr>\n",
       "      <th>221699</th>\n",
       "      <td>1</td>\n",
       "      <td>10</td>\n",
       "      <td>0</td>\n",
       "      <td>1</td>\n",
       "      <td>4</td>\n",
       "      <td>33</td>\n",
       "      <td>0</td>\n",
       "      <td>39</td>\n",
       "      <td>5</td>\n",
       "      <td>4</td>\n",
       "      <td>...</td>\n",
       "      <td>0.532820</td>\n",
       "      <td>0.548292</td>\n",
       "      <td>0.496403</td>\n",
       "      <td>0.122048</td>\n",
       "      <td>0.184388</td>\n",
       "      <td>0.529037</td>\n",
       "      <td>0.693064</td>\n",
       "      <td>0.318731</td>\n",
       "      <td>0.523785</td>\n",
       "      <td>0</td>\n",
       "    </tr>\n",
       "    <tr>\n",
       "      <th>271550</th>\n",
       "      <td>1</td>\n",
       "      <td>8</td>\n",
       "      <td>3</td>\n",
       "      <td>0</td>\n",
       "      <td>4</td>\n",
       "      <td>33</td>\n",
       "      <td>2</td>\n",
       "      <td>16</td>\n",
       "      <td>38</td>\n",
       "      <td>0</td>\n",
       "      <td>...</td>\n",
       "      <td>0.390959</td>\n",
       "      <td>0.317699</td>\n",
       "      <td>0.338363</td>\n",
       "      <td>0.555064</td>\n",
       "      <td>0.556805</td>\n",
       "      <td>0.385767</td>\n",
       "      <td>0.360034</td>\n",
       "      <td>0.320340</td>\n",
       "      <td>0.513304</td>\n",
       "      <td>1</td>\n",
       "    </tr>\n",
       "  </tbody>\n",
       "</table>\n",
       "<p>5 rows × 31 columns</p>\n",
       "</div>"
      ],
      "text/plain": [
       "        cat0  cat1  cat2  cat3  cat4  cat5  cat6  cat7  cat8  cat9  ...  \\\n",
       "id                                                                  ...   \n",
       "174138     0     5     0     0     4    33     2     9    55     2  ...   \n",
       "333235     1     5     0     0     4    33     2    30    38     8  ...   \n",
       "233842     0     8     0     0     5    33     0     6    28     5  ...   \n",
       "221699     1    10     0     1     4    33     0    39     5     4  ...   \n",
       "271550     1     8     3     0     4    33     2    16    38     0  ...   \n",
       "\n",
       "           cont2     cont3     cont4     cont5     cont6     cont7     cont8  \\\n",
       "id                                                                             \n",
       "174138  0.541051  0.657140  0.470970  0.620552  0.569496  0.552985  0.458565   \n",
       "333235  0.342121  0.275492  0.784097  0.557006  0.592018  0.545133  0.372315   \n",
       "233842  0.371414  0.558232  0.208408  0.168313  0.521958  0.566209  0.507267   \n",
       "221699  0.532820  0.548292  0.496403  0.122048  0.184388  0.529037  0.693064   \n",
       "271550  0.390959  0.317699  0.338363  0.555064  0.556805  0.385767  0.360034   \n",
       "\n",
       "           cont9    cont10  target  \n",
       "id                                  \n",
       "174138  0.468596  0.689696       0  \n",
       "333235  0.480407  0.323813       0  \n",
       "233842  0.360524  0.543451       0  \n",
       "221699  0.318731  0.523785       0  \n",
       "271550  0.320340  0.513304       1  \n",
       "\n",
       "[5 rows x 31 columns]"
      ]
     },
     "execution_count": 18,
     "metadata": {},
     "output_type": "execute_result"
    }
   ],
   "source": [
    "# ids should be mixed up\n",
    "validation_df.head()"
   ]
  },
  {
   "cell_type": "code",
   "execution_count": 27,
   "id": "subject-yorkshire",
   "metadata": {},
   "outputs": [],
   "source": [
    "# Create X & y for the model\n",
    "train_y = train_df['target'].values\n",
    "validation_y = validation_df['target'].values\n",
    "\n",
    "train_X = train_df.drop(['target'], axis=1)\n",
    "valid_X = validation_df.drop(['target'], axis=1)\n",
    "\n",
    "lgb_train = lgb.Dataset(train_X, label=train_y)\n",
    "lgb_validation = lgb.Dataset(valid_X, label=validation_y)"
   ]
  },
  {
   "cell_type": "code",
   "execution_count": 28,
   "id": "attempted-rocket",
   "metadata": {},
   "outputs": [],
   "source": [
    "# Deafult params\n",
    "lgb_params = {\n",
    "                'objective': 'binary',\n",
    "                'boosting_type': 'gbdt',\n",
    "                'n_jobs': -1,\n",
    "                'seed': 42,\n",
    "                'metric': 'auc',\n",
    "                'verbose': -1,\n",
    "                }"
   ]
  },
  {
   "cell_type": "code",
   "execution_count": 30,
   "id": "photographic-dodge",
   "metadata": {},
   "outputs": [
    {
     "name": "stdout",
     "output_type": "stream",
     "text": [
      "Training until validation scores don't improve for 100 rounds\n",
      "[20]\ttraining's auc: 0.540632\tvalid_1's auc: 0.499193\n",
      "[40]\ttraining's auc: 0.560208\tvalid_1's auc: 0.498492\n",
      "[60]\ttraining's auc: 0.57662\tvalid_1's auc: 0.498176\n",
      "[80]\ttraining's auc: 0.589536\tvalid_1's auc: 0.499279\n",
      "[100]\ttraining's auc: 0.601028\tvalid_1's auc: 0.498402\n",
      "Early stopping, best iteration is:\n",
      "[1]\ttraining's auc: 0.503927\tvalid_1's auc: 0.500776\n"
     ]
    }
   ],
   "source": [
    "model = lgb.train(lgb_params, \n",
    "                  lgb_train,\n",
    "                  num_boost_round=1000,\n",
    "                  valid_sets=[lgb_train, lgb_validation],\n",
    "                  verbose_eval=20, \n",
    "                  early_stopping_rounds=100)"
   ]
  },
  {
   "cell_type": "code",
   "execution_count": 32,
   "id": "falling-forth",
   "metadata": {},
   "outputs": [],
   "source": [
    "fe_importance = pd.DataFrame()\n",
    "fe_importance[\"feature\"] = features\n",
    "fe_importance[\"importance\"] = model.feature_importance()\n",
    "fe_importance.sort_values(by=[\"importance\"], ascending=False, inplace=True)\n",
    "fe_importance.reset_index(drop=True, inplace=True)"
   ]
  },
  {
   "cell_type": "code",
   "execution_count": 51,
   "id": "defensive-bundle",
   "metadata": {},
   "outputs": [
    {
     "data": {
      "text/plain": [
       "Text(0.5, 1.0, 'Feature Importance')"
      ]
     },
     "execution_count": 51,
     "metadata": {},
     "output_type": "execute_result"
    },
    {
     "data": {
      "image/png": "[encoded data removed]",
      "text/plain": [
       "<Figure size 864x576 with 1 Axes>"
      ]
     },
     "metadata": {
      "needs_background": "light"
     },
     "output_type": "display_data"
    }
   ],
   "source": [
    "plt.figure(figsize=(12, 8))\n",
    "sns.barplot(x=\"importance\", y=\"feature\", data=fe_importance, palette=\"deep\")\n",
    "plt.title(\"Feature Importance\")"
   ]
  },
  {
   "cell_type": "code",
   "execution_count": null,
   "id": "willing-belgium",
   "metadata": {},
   "outputs": [],
   "source": []
  }
 ],
 "metadata": {
  "kernelspec": {
   "display_name": "Python 3",
   "language": "python",
   "name": "python3"
  },
  "language_info": {
   "codemirror_mode": {
    "name": "ipython",
    "version": 3
   },
   "file_extension": ".py",
   "mimetype": "text/x-python",
   "name": "python",
   "nbconvert_exporter": "python",
   "pygments_lexer": "ipython3",
   "version": "3.8.6"
  }
 },
 "nbformat": 4,
 "nbformat_minor": 5
}
