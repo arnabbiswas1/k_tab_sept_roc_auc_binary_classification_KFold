{
 "cells": [
  {
   "cell_type": "markdown",
   "id": "completed-compact",
   "metadata": {},
   "source": [
    "## Simple Recursive Feature Elimination Notebook \n",
    "\n",
    "This code uses LGBMClassifier, since RFECV works with that (and not with vanilla LightGBM)\n",
    "\n",
    "References:\n",
    "- https://www.kaggle.com/tilii7/recursive-feature-elimination/code\n",
    "- https://www.kaggle.com/tilii7/features-we-don-t-need-no-stinking-features\n",
    "- https://www.kaggle.com/nroman/recursive-feature-elimination"
   ]
  },
  {
   "cell_type": "code",
   "execution_count": 2,
   "id": "secondary-hobby",
   "metadata": {},
   "outputs": [],
   "source": [
    "import os\n",
    "import sys\n",
    "\n",
    "import pandas as pd\n",
    "import numpy as np\n",
    "import seaborn as sns\n",
    "\n",
    "import matplotlib.pyplot as plt\n",
    "\n",
    "import lightgbm as lgb\n",
    "\n",
    "from sklearn.preprocessing import LabelEncoder\n",
    "from sklearn.model_selection import StratifiedKFold\n",
    "from sklearn.feature_selection import RFECV\n",
    "from sklearn.metrics import make_scorer\n",
    "from sklearn.metrics import roc_auc_score\n",
    "\n",
    "pd.options.display.max_rows = 1000"
   ]
  },
  {
   "cell_type": "code",
   "execution_count": 3,
   "id": "instant-affairs",
   "metadata": {},
   "outputs": [],
   "source": [
    "sys.path.insert(0, \"/opt/vssexclude/personal/kaggle/kaggle_tab_mar/src\")"
   ]
  },
  {
   "cell_type": "code",
   "execution_count": 4,
   "id": "demanding-flooring",
   "metadata": {},
   "outputs": [],
   "source": [
    "%load_ext autoreload\n",
    "%autoreload 2"
   ]
  },
  {
   "cell_type": "code",
   "execution_count": 5,
   "id": "missing-housing",
   "metadata": {},
   "outputs": [],
   "source": [
    "import munging.process_data_util as process_data\n",
    "import common.com_util as common\n",
    "import config.constants as constants\n",
    "import modeling.train_util as model"
   ]
  },
  {
   "cell_type": "code",
   "execution_count": 6,
   "id": "emerging-mission",
   "metadata": {},
   "outputs": [],
   "source": [
    "SEED = 42\n",
    "TARGET = 'target'\n",
    "\n",
    "LOGGER_NAME = 'main'\n",
    "logger = common.get_logger(LOGGER_NAME)\n",
    "common.set_seed(SEED)"
   ]
  },
  {
   "cell_type": "code",
   "execution_count": 7,
   "id": "decreased-alaska",
   "metadata": {},
   "outputs": [
    {
     "name": "stdout",
     "output_type": "stream",
     "text": [
      "[INFO]2021-03-23 10:29:41,719:main:Reading Data from /opt/vssexclude/personal/kaggle/kaggle_tab_mar/data/processed...\n",
      "[INFO]2021-03-23 10:29:41,875:main:Shape of train_df : (30000, 31)\n",
      "[INFO]2021-03-23 10:29:41,925:main:Shape of test_df : (20000, 30)\n",
      "[INFO]2021-03-23 10:29:41,938:main:Shape of sample_submission_df : (20000, 1)\n"
     ]
    }
   ],
   "source": [
    "train_df, test_df, sample_submission_df = process_data.read_processed_data(\n",
    "    logger, constants.PROCESSED_DATA_DIR, train=True, test=True, sample_submission=True, frac=0.1)"
   ]
  },
  {
   "cell_type": "code",
   "execution_count": 11,
   "id": "golden-silver",
   "metadata": {},
   "outputs": [
    {
     "name": "stdout",
     "output_type": "stream",
     "text": [
      "[INFO]2021-03-23 10:31:00,574:main:Label Encoding the categorcal features\n"
     ]
    }
   ],
   "source": [
    "combined_df = pd.concat([train_df.drop('target', axis=1), test_df])\n",
    "target = train_df[TARGET]\n",
    "\n",
    "cat_fetaures = [name for name in train_df.columns if \"cat\" in name]\n",
    "\n",
    "logger.info(\"Label Encoding the categorcal features\")\n",
    "for name in cat_fetaures:\n",
    "    lb = LabelEncoder()\n",
    "    combined_df[name] = lb.fit_transform(combined_df[name])\n",
    "\n",
    "train_df = combined_df.loc[train_df.index]\n",
    "train_df[TARGET] = target\n",
    "\n",
    "test_df = combined_df.loc[test_df.index]\n",
    "\n",
    "train_X = train_df.drop([TARGET], axis=1)\n",
    "train_Y = train_df[TARGET]\n",
    "test_X = test_df"
   ]
  },
  {
   "cell_type": "code",
   "execution_count": 12,
   "id": "contained-yacht",
   "metadata": {},
   "outputs": [],
   "source": [
    "features = train_X.columns"
   ]
  },
  {
   "cell_type": "code",
   "execution_count": 13,
   "id": "inner-narrow",
   "metadata": {},
   "outputs": [],
   "source": [
    "MODEL_TYPE = \"lgb\"\n",
    "OBJECTIVE = \"binary\"\n",
    "BOOSTING_TYPE = \"gbdt\"\n",
    "METRIC = \"auc\"\n",
    "VERBOSE = 100\n",
    "N_THREADS = -1\n",
    "NUM_LEAVES = 31\n",
    "MAX_DEPTH = -1\n",
    "N_ESTIMATORS = 10000\n",
    "LEARNING_RATE = 0.1\n",
    "EARLY_STOPPING_ROUNDS = 100\n",
    "\n",
    "\n",
    "lgb_params = {\n",
    "                'objective': OBJECTIVE,\n",
    "                'boosting_type': BOOSTING_TYPE,\n",
    "                'learning_rate': LEARNING_RATE,\n",
    "                'num_leaves': NUM_LEAVES,\n",
    "                'tree_learner': 'serial',\n",
    "                'n_jobs': N_THREADS,\n",
    "                'seed': SEED,\n",
    "                'max_depth': MAX_DEPTH,\n",
    "                'max_bin': 255,\n",
    "                'metric': METRIC,\n",
    "                'verbose': -1,\n",
    "                'n_estimators': N_ESTIMATORS\n",
    "                }\n",
    "\n",
    "model = lgb.LGBMClassifier(**lgb_params)"
   ]
  },
  {
   "cell_type": "code",
   "execution_count": 14,
   "id": "pursuant-momentum",
   "metadata": {},
   "outputs": [],
   "source": [
    "rfecv = RFECV(estimator=model,\n",
    "              step=2,\n",
    "              cv=StratifiedKFold(\n",
    "                       n_splits=2,\n",
    "                       shuffle=False),\n",
    "              scoring=make_scorer(score_func=roc_auc_score),\n",
    "              verbose=10)"
   ]
  },
  {
   "cell_type": "code",
   "execution_count": 15,
   "id": "subtle-chick",
   "metadata": {},
   "outputs": [
    {
     "name": "stdout",
     "output_type": "stream",
     "text": [
      "Fitting estimator with 30 features.\n",
      "Fitting estimator with 28 features.\n",
      "Fitting estimator with 26 features.\n",
      "Fitting estimator with 24 features.\n",
      "Fitting estimator with 22 features.\n",
      "Fitting estimator with 20 features.\n",
      "Fitting estimator with 18 features.\n",
      "Fitting estimator with 16 features.\n",
      "Fitting estimator with 14 features.\n",
      "Fitting estimator with 12 features.\n",
      "Fitting estimator with 10 features.\n",
      "Fitting estimator with 8 features.\n",
      "Fitting estimator with 6 features.\n",
      "Fitting estimator with 4 features.\n",
      "Fitting estimator with 2 features.\n",
      "Fitting estimator with 30 features.\n",
      "Fitting estimator with 28 features.\n",
      "Fitting estimator with 26 features.\n",
      "Fitting estimator with 24 features.\n",
      "Fitting estimator with 22 features.\n",
      "Fitting estimator with 20 features.\n",
      "Fitting estimator with 18 features.\n",
      "Fitting estimator with 16 features.\n",
      "Fitting estimator with 14 features.\n",
      "Fitting estimator with 12 features.\n",
      "Fitting estimator with 10 features.\n",
      "Fitting estimator with 8 features.\n",
      "Fitting estimator with 6 features.\n",
      "Fitting estimator with 4 features.\n",
      "Fitting estimator with 2 features.\n",
      "Fitting estimator with 30 features.\n"
     ]
    },
    {
     "data": {
      "text/plain": [
       "RFECV(cv=StratifiedKFold(n_splits=2, random_state=None, shuffle=False),\n",
       "      estimator=LGBMClassifier(max_bin=255, metric='auc', n_estimators=10000,\n",
       "                               objective='binary', seed=42,\n",
       "                               tree_learner='serial', verbose=-1),\n",
       "      scoring=make_scorer(roc_auc_score), step=2, verbose=10)"
      ]
     },
     "execution_count": 15,
     "metadata": {},
     "output_type": "execute_result"
    }
   ],
   "source": [
    "rfecv.fit(train_X, train_Y)"
   ]
  },
  {
   "cell_type": "code",
   "execution_count": 18,
   "id": "early-claim",
   "metadata": {},
   "outputs": [
    {
     "name": "stdout",
     "output_type": "stream",
     "text": [
      "Optimal number of features: 28\n"
     ]
    }
   ],
   "source": [
    "# How many features were selected?\n",
    "print('Optimal number of features:', rfecv.n_features_)"
   ]
  },
  {
   "cell_type": "code",
   "execution_count": 19,
   "id": "sticky-express",
   "metadata": {},
   "outputs": [
    {
     "data": {
      "text/plain": [
       "['cat0',\n",
       " 'cat1',\n",
       " 'cat2',\n",
       " 'cat3',\n",
       " 'cat4',\n",
       " 'cat5',\n",
       " 'cat6',\n",
       " 'cat7',\n",
       " 'cat8',\n",
       " 'cat9',\n",
       " 'cat10',\n",
       " 'cat11',\n",
       " 'cat14',\n",
       " 'cat15',\n",
       " 'cat16',\n",
       " 'cat17',\n",
       " 'cat18',\n",
       " 'cont0',\n",
       " 'cont1',\n",
       " 'cont2',\n",
       " 'cont3',\n",
       " 'cont4',\n",
       " 'cont5',\n",
       " 'cont6',\n",
       " 'cont7',\n",
       " 'cont8',\n",
       " 'cont9',\n",
       " 'cont10']"
      ]
     },
     "execution_count": 19,
     "metadata": {},
     "output_type": "execute_result"
    }
   ],
   "source": [
    "# What are the selected features\n",
    "selected_features = list(train_X.loc[:, rfecv.get_support()].columns)\n",
    "selected_features"
   ]
  },
  {
   "cell_type": "code",
   "execution_count": 20,
   "id": "unusual-green",
   "metadata": {},
   "outputs": [
    {
     "data": {
      "text/plain": [
       "{'cat12', 'cat13'}"
      ]
     },
     "execution_count": 20,
     "metadata": {},
     "output_type": "execute_result"
    }
   ],
   "source": [
    "# What are the dropped features\n",
    "dropped_features = set(train_X.columns) - set(selected_features)\n",
    "dropped_features"
   ]
  },
  {
   "cell_type": "markdown",
   "id": "impaired-pressing",
   "metadata": {},
   "source": [
    "### Plot number of features vs CV scores"
   ]
  },
  {
   "cell_type": "markdown",
   "id": "married-article",
   "metadata": {},
   "source": [
    "I am not sure what does it show. Number of optimal features is 28, but this plot shows only 16 features.\n",
    "\n",
    "As per the documentation:\n",
    "\n",
    "> The size of grid_scores_ is equal to ceil((n_features - min_features_to_select) / step) + 1, where step is the number of features removed at each iteration.\n"
   ]
  },
  {
   "cell_type": "code",
   "execution_count": 21,
   "id": "baking-sewing",
   "metadata": {},
   "outputs": [
    {
     "data": {
      "image/png": "[encoded data removed]",
      "text/plain": [
       "<Figure size 1008x576 with 1 Axes>"
      ]
     },
     "metadata": {
      "needs_background": "light"
     },
     "output_type": "display_data"
    }
   ],
   "source": [
    "plt.figure(figsize=(14, 8))\n",
    "plt.xlabel(\"Number of features selected\")\n",
    "plt.ylabel(\"Cross validation score\")\n",
    "plt.plot(range(1, len(rfecv.grid_scores_) + 1), rfecv.grid_scores_)\n",
    "plt.show()"
   ]
  },
  {
   "cell_type": "markdown",
   "id": "reported-report",
   "metadata": {},
   "source": [
    "### All features with Rank 1 should be considered\n",
    "There were two features which were dropped. Below DF shows that those two features are of rank 2."
   ]
  },
  {
   "cell_type": "code",
   "execution_count": 23,
   "id": "united-olive",
   "metadata": {},
   "outputs": [
    {
     "data": {
      "text/html": [
       "<div>\n",
       "<style scoped>\n",
       "    .dataframe tbody tr th:only-of-type {\n",
       "        vertical-align: middle;\n",
       "    }\n",
       "\n",
       "    .dataframe tbody tr th {\n",
       "        vertical-align: top;\n",
       "    }\n",
       "\n",
       "    .dataframe thead th {\n",
       "        text-align: right;\n",
       "    }\n",
       "</style>\n",
       "<table border=\"1\" class=\"dataframe\">\n",
       "  <thead>\n",
       "    <tr style=\"text-align: right;\">\n",
       "      <th></th>\n",
       "      <th>feature</th>\n",
       "      <th>rank</th>\n",
       "    </tr>\n",
       "  </thead>\n",
       "  <tbody>\n",
       "    <tr>\n",
       "      <th>0</th>\n",
       "      <td>cat0</td>\n",
       "      <td>1</td>\n",
       "    </tr>\n",
       "    <tr>\n",
       "      <th>27</th>\n",
       "      <td>cont8</td>\n",
       "      <td>1</td>\n",
       "    </tr>\n",
       "    <tr>\n",
       "      <th>26</th>\n",
       "      <td>cont7</td>\n",
       "      <td>1</td>\n",
       "    </tr>\n",
       "    <tr>\n",
       "      <th>25</th>\n",
       "      <td>cont6</td>\n",
       "      <td>1</td>\n",
       "    </tr>\n",
       "    <tr>\n",
       "      <th>24</th>\n",
       "      <td>cont5</td>\n",
       "      <td>1</td>\n",
       "    </tr>\n",
       "    <tr>\n",
       "      <th>23</th>\n",
       "      <td>cont4</td>\n",
       "      <td>1</td>\n",
       "    </tr>\n",
       "    <tr>\n",
       "      <th>22</th>\n",
       "      <td>cont3</td>\n",
       "      <td>1</td>\n",
       "    </tr>\n",
       "    <tr>\n",
       "      <th>21</th>\n",
       "      <td>cont2</td>\n",
       "      <td>1</td>\n",
       "    </tr>\n",
       "    <tr>\n",
       "      <th>20</th>\n",
       "      <td>cont1</td>\n",
       "      <td>1</td>\n",
       "    </tr>\n",
       "    <tr>\n",
       "      <th>19</th>\n",
       "      <td>cont0</td>\n",
       "      <td>1</td>\n",
       "    </tr>\n",
       "    <tr>\n",
       "      <th>18</th>\n",
       "      <td>cat18</td>\n",
       "      <td>1</td>\n",
       "    </tr>\n",
       "    <tr>\n",
       "      <th>17</th>\n",
       "      <td>cat17</td>\n",
       "      <td>1</td>\n",
       "    </tr>\n",
       "    <tr>\n",
       "      <th>16</th>\n",
       "      <td>cat16</td>\n",
       "      <td>1</td>\n",
       "    </tr>\n",
       "    <tr>\n",
       "      <th>15</th>\n",
       "      <td>cat15</td>\n",
       "      <td>1</td>\n",
       "    </tr>\n",
       "    <tr>\n",
       "      <th>14</th>\n",
       "      <td>cat14</td>\n",
       "      <td>1</td>\n",
       "    </tr>\n",
       "    <tr>\n",
       "      <th>11</th>\n",
       "      <td>cat11</td>\n",
       "      <td>1</td>\n",
       "    </tr>\n",
       "    <tr>\n",
       "      <th>10</th>\n",
       "      <td>cat10</td>\n",
       "      <td>1</td>\n",
       "    </tr>\n",
       "    <tr>\n",
       "      <th>9</th>\n",
       "      <td>cat9</td>\n",
       "      <td>1</td>\n",
       "    </tr>\n",
       "    <tr>\n",
       "      <th>8</th>\n",
       "      <td>cat8</td>\n",
       "      <td>1</td>\n",
       "    </tr>\n",
       "    <tr>\n",
       "      <th>7</th>\n",
       "      <td>cat7</td>\n",
       "      <td>1</td>\n",
       "    </tr>\n",
       "    <tr>\n",
       "      <th>6</th>\n",
       "      <td>cat6</td>\n",
       "      <td>1</td>\n",
       "    </tr>\n",
       "    <tr>\n",
       "      <th>5</th>\n",
       "      <td>cat5</td>\n",
       "      <td>1</td>\n",
       "    </tr>\n",
       "    <tr>\n",
       "      <th>4</th>\n",
       "      <td>cat4</td>\n",
       "      <td>1</td>\n",
       "    </tr>\n",
       "    <tr>\n",
       "      <th>3</th>\n",
       "      <td>cat3</td>\n",
       "      <td>1</td>\n",
       "    </tr>\n",
       "    <tr>\n",
       "      <th>2</th>\n",
       "      <td>cat2</td>\n",
       "      <td>1</td>\n",
       "    </tr>\n",
       "    <tr>\n",
       "      <th>1</th>\n",
       "      <td>cat1</td>\n",
       "      <td>1</td>\n",
       "    </tr>\n",
       "    <tr>\n",
       "      <th>28</th>\n",
       "      <td>cont9</td>\n",
       "      <td>1</td>\n",
       "    </tr>\n",
       "    <tr>\n",
       "      <th>29</th>\n",
       "      <td>cont10</td>\n",
       "      <td>1</td>\n",
       "    </tr>\n",
       "    <tr>\n",
       "      <th>13</th>\n",
       "      <td>cat13</td>\n",
       "      <td>2</td>\n",
       "    </tr>\n",
       "    <tr>\n",
       "      <th>12</th>\n",
       "      <td>cat12</td>\n",
       "      <td>2</td>\n",
       "    </tr>\n",
       "  </tbody>\n",
       "</table>\n",
       "</div>"
      ],
      "text/plain": [
       "   feature  rank\n",
       "0     cat0     1\n",
       "27   cont8     1\n",
       "26   cont7     1\n",
       "25   cont6     1\n",
       "24   cont5     1\n",
       "23   cont4     1\n",
       "22   cont3     1\n",
       "21   cont2     1\n",
       "20   cont1     1\n",
       "19   cont0     1\n",
       "18   cat18     1\n",
       "17   cat17     1\n",
       "16   cat16     1\n",
       "15   cat15     1\n",
       "14   cat14     1\n",
       "11   cat11     1\n",
       "10   cat10     1\n",
       "9     cat9     1\n",
       "8     cat8     1\n",
       "7     cat7     1\n",
       "6     cat6     1\n",
       "5     cat5     1\n",
       "4     cat4     1\n",
       "3     cat3     1\n",
       "2     cat2     1\n",
       "1     cat1     1\n",
       "28   cont9     1\n",
       "29  cont10     1\n",
       "13   cat13     2\n",
       "12   cat12     2"
      ]
     },
     "execution_count": 23,
     "metadata": {},
     "output_type": "execute_result"
    }
   ],
   "source": [
    "# Save sorted feature rankings\n",
    "ranking = pd.DataFrame({'feature': features})\n",
    "ranking['rank'] = rfecv.ranking_\n",
    "ranking = ranking.sort_values(['rank'], )\n",
    "ranking"
   ]
  },
  {
   "cell_type": "markdown",
   "id": "cardiovascular-privilege",
   "metadata": {},
   "source": [
    "### Make a prediction"
   ]
  },
  {
   "cell_type": "code",
   "execution_count": 26,
   "id": "tested-homework",
   "metadata": {},
   "outputs": [
    {
     "data": {
      "text/plain": [
       "0.75242"
      ]
     },
     "execution_count": 26,
     "metadata": {},
     "output_type": "execute_result"
    }
   ],
   "source": [
    "# Highest Score\n",
    "score = round(np.max(rfecv.grid_scores_), 5)\n",
    "score"
   ]
  },
  {
   "cell_type": "code",
   "execution_count": 35,
   "id": "turkish-emerald",
   "metadata": {},
   "outputs": [],
   "source": [
    "predictions = rfecv.predict_proba(test_X)[:, -1]\n",
    "\n",
    "sample_submission_df.target = predictions\n",
    "\n",
    "sample_submission_df.head()"
   ]
  },
  {
   "cell_type": "code",
   "execution_count": null,
   "id": "photographic-finish",
   "metadata": {},
   "outputs": [],
   "source": [
    "# score = round(-np.max(rfecv.grid_scores_), 3)\n",
    "# test['loss'] = rfecv.predict(Xt)\n",
    "# test = test[['id', 'loss']]\n",
    "# now = datetime.now()\n",
    "# sub_file = 'submission_5xRFECV-RandomForest_' + str(score) + '_' + str(\n",
    "#     now.strftime(\"%Y-%m-%d-%H-%M\")) + '.csv'\n",
    "# print(\"\\n Writing submission file: %s\" % sub_file)\n",
    "# test.to_csv(sub_file, index=False)"
   ]
  }
 ],
 "metadata": {
  "kernelspec": {
   "display_name": "Python 3",
   "language": "python",
   "name": "python3"
  },
  "language_info": {
   "codemirror_mode": {
    "name": "ipython",
    "version": 3
   },
   "file_extension": ".py",
   "mimetype": "text/x-python",
   "name": "python",
   "nbconvert_exporter": "python",
   "pygments_lexer": "ipython3",
   "version": "3.8.6"
  }
 },
 "nbformat": 4,
 "nbformat_minor": 5
}
