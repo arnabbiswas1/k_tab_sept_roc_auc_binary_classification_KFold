{
 "cells": [
  {
   "cell_type": "code",
   "execution_count": 6,
   "id": "thermal-criterion",
   "metadata": {},
   "outputs": [],
   "source": [
    "import sys\n",
    "import logging\n",
    "import math\n",
    "\n",
    "import pandas as pd\n",
    "import numpy as np\n",
    "from functools import reduce\n",
    "\n",
    "import matplotlib\n",
    "import matplotlib.pyplot as plt\n",
    "\n",
    "from IPython.core.display import HTML\n",
    "\n",
    "pd.options.display.max_rows = 1000\n",
    "pd.options.display.max_columns = 1000\n",
    "\n",
    "import plotly.express as px\n",
    "\n",
    "%matplotlib inline\n",
    "\n",
    "matplotlib.style.use(\"Solarize_Light2\")\n",
    "\n",
    "sys.path.insert(0, \"/opt/vssexclude/personal/kaggle/k_tab_sept\")"
   ]
  },
  {
   "cell_type": "code",
   "execution_count": 2,
   "id": "united-shakespeare",
   "metadata": {},
   "outputs": [],
   "source": [
    "%load_ext autoreload\n",
    "%autoreload 2\n",
    "%config Completer.use_jedi = False"
   ]
  },
  {
   "cell_type": "code",
   "execution_count": 3,
   "id": "bearing-metabolism",
   "metadata": {},
   "outputs": [],
   "source": [
    "import src.config.constants as constants\n",
    "import src.munging as process_data\n",
    "import src.viz as viz\n",
    "import src.common as common"
   ]
  },
  {
   "cell_type": "code",
   "execution_count": 4,
   "id": "advance-hello",
   "metadata": {},
   "outputs": [],
   "source": [
    "logger = common.get_logger(\"eda\")"
   ]
  },
  {
   "cell_type": "code",
   "execution_count": 8,
   "id": "paperback-slope",
   "metadata": {},
   "outputs": [
    {
     "name": "stdout",
     "output_type": "stream",
     "text": [
      "[INFO]2021-09-30 09:42:39,377:eda:Shape of submission and oof file (493474, 2), (957919, 2)\n",
      "[INFO]2021-09-30 09:42:39,647:eda:Shape of submission and oof file (493474, 2), (957919, 2)\n",
      "[INFO]2021-09-30 09:42:39,914:eda:Shape of submission and oof file (493474, 2), (957919, 2)\n",
      "[INFO]2021-09-30 09:42:40,180:eda:Shape of submission and oof file (493474, 2), (957919, 2)\n",
      "[INFO]2021-09-30 09:42:40,476:eda:Shape of submission and oof file (493474, 2), (957919, 2)\n",
      "[INFO]2021-09-30 09:42:40,787:eda:Shape of submission and oof file (493474, 2), (957919, 2)\n",
      "[INFO]2021-09-30 09:42:41,055:eda:Shape of submission and oof file (493474, 2), (957919, 2)\n",
      "[INFO]2021-09-30 09:42:41,325:eda:Shape of submission and oof file (493474, 2), (957919, 2)\n",
      "[INFO]2021-09-30 09:42:41,863:eda:Shape of submission and oof file (493474, 2), (957919, 2)\n",
      "[INFO]2021-09-30 09:42:42,134:eda:Shape of submission and oof file (493474, 2), (957919, 2)\n",
      "[INFO]2021-09-30 09:42:42,407:eda:Shape of submission and oof file (493474, 2), (957919, 2)\n",
      "[INFO]2021-09-30 09:42:42,677:eda:Shape of submission and oof file (493474, 2), (957919, 2)\n",
      "[INFO]2021-09-30 09:42:42,956:eda:Shape of submission and oof file (493474, 2), (957919, 2)\n",
      "[INFO]2021-09-30 09:42:43,266:eda:Shape of submission and oof file (493474, 2), (957919, 2)\n",
      "[INFO]2021-09-30 09:42:43,569:eda:Shape of submission and oof file (493474, 2), (957919, 2)\n",
      "[INFO]2021-09-30 09:42:43,863:eda:Shape of submission and oof file (493474, 2), (976538, 2)\n",
      "[INFO]2021-09-30 09:42:44,181:eda:Shape of submission and oof file (493474, 2), (957919, 2)\n",
      "[INFO]2021-09-30 09:42:44,468:eda:Shape of submission and oof file (493474, 2), (957919, 2)\n"
     ]
    }
   ],
   "source": [
    "sub_1_predition_name = (\n",
    "    \"sub_lgb_K5_nonull_mean_sum_max_no_imp_no_scaler_params_K_0924_1159_0.81605.gz\"\n",
    ")\n",
    "sub_1_oof_name = (\n",
    "    \"oof_lgb_K5_nonull_mean_sum_max_no_imp_no_scaler_params_K_0924_1159_0.81605.csv\"\n",
    ")\n",
    "\n",
    "sub_1_test_pred = pd.read_csv(f\"{constants.SUBMISSION_DIR}/{sub_1_predition_name}\")\n",
    "sub_1_oof_pred = pd.read_csv(f\"{constants.OOF_DIR}/{sub_1_oof_name}\")\n",
    "logger.info(\n",
    "    f\"Shape of submission and oof file {sub_1_test_pred.shape}, {sub_1_oof_pred.shape}\"\n",
    ")\n",
    "\n",
    "sub_2_predition_name = (\n",
    "    \"sub_lgb_K10_nonull_mean_sum_max_mean_imp_no_scaler_params_K_0924_1406_0.81633.gz\"\n",
    ")\n",
    "sub_2_oof_name = (\n",
    "    \"oof_lgb_K10_nonull_mean_sum_max_mean_imp_no_scaler_params_K_0924_1406_0.81633.csv\"\n",
    ")\n",
    "\n",
    "sub_2_test_pred = pd.read_csv(f\"{constants.SUBMISSION_DIR}/{sub_2_predition_name}\")\n",
    "sub_2_oof_pred = pd.read_csv(f\"{constants.OOF_DIR}/{sub_2_oof_name}\")\n",
    "logger.info(\n",
    "    f\"Shape of submission and oof file {sub_2_test_pred.shape}, {sub_2_oof_pred.shape}\"\n",
    ")\n",
    "\n",
    "\n",
    "sub_3_predition_name = (\n",
    "    \"sub_xgb_K10_nonull_mean_sum_max_custom_imp_StScaler_K_params_0921_2239_0.81649.gz\"\n",
    ")\n",
    "sub_3_oof_name = (\n",
    "    \"oof_xgb_K10_nonull_mean_sum_max_custom_imp_StScaler_K_params_0921_2239_0.81649.csv\"\n",
    ")\n",
    "\n",
    "sub_3_test_pred = pd.read_csv(f\"{constants.SUBMISSION_DIR}/{sub_3_predition_name}\")\n",
    "sub_3_oof_pred = pd.read_csv(f\"{constants.OOF_DIR}/{sub_3_oof_name}\")\n",
    "logger.info(\n",
    "    f\"Shape of submission and oof file {sub_3_test_pred.shape}, {sub_3_oof_pred.shape}\"\n",
    ")\n",
    "\n",
    "sub_4_predition_name = (\n",
    "    \"sub_xgb_K10_nonull_mean_sum_max_no_imp_no_scaler_K_params_0922_1630_0.81634.gz\"\n",
    ")\n",
    "sub_4_oof_name = (\n",
    "    \"oof_xgb_K10_nonull_mean_sum_max_no_imp_no_scaler_K_params_0922_1630_0.81634.csv\"\n",
    ")\n",
    "\n",
    "sub_4_test_pred = pd.read_csv(f\"{constants.SUBMISSION_DIR}/{sub_4_predition_name}\")\n",
    "sub_4_oof_pred = pd.read_csv(f\"{constants.OOF_DIR}/{sub_4_oof_name}\")\n",
    "logger.info(\n",
    "    f\"Shape of submission and oof file {sub_4_test_pred.shape}, {sub_4_oof_pred.shape}\"\n",
    ")\n",
    "\n",
    "sub_5_predition_name = (\n",
    "    \"sub_cat_K10_nonull_full_data_mean_sum_max_Kaggle_bin_params_0921_2000_0.81612.gz\"\n",
    ")\n",
    "sub_5_oof_name = (\n",
    "    \"oof_cat_K10_nonull_full_data_mean_sum_max_Kaggle_bin_params_0921_2000_0.81612.csv\"\n",
    ")\n",
    "\n",
    "sub_5_test_pred = pd.read_csv(f\"{constants.SUBMISSION_DIR}/{sub_5_predition_name}\")\n",
    "sub_5_oof_pred = pd.read_csv(f\"{constants.OOF_DIR}/{sub_5_oof_name}\")\n",
    "logger.info(\n",
    "    f\"Shape of submission and oof file {sub_5_test_pred.shape}, {sub_5_oof_pred.shape}\"\n",
    ")\n",
    "\n",
    "\n",
    "sub_6_predition_name = (\n",
    "    \"sub_cat_K10_nonull_mean_sum_max_noImp_noScaler_K_params_0922_0747_0.81549.gz\"\n",
    ")\n",
    "sub_6_oof_name = (\n",
    "    \"oof_cat_K10_nonull_mean_sum_max_noImp_noScaler_K_params_0922_0747_0.81549.csv\"\n",
    ")\n",
    "\n",
    "sub_6_test_pred = pd.read_csv(f\"{constants.SUBMISSION_DIR}/{sub_6_predition_name}\")\n",
    "sub_6_oof_pred = pd.read_csv(f\"{constants.OOF_DIR}/{sub_6_oof_name}\")\n",
    "logger.info(\n",
    "    f\"Shape of submission and oof file {sub_6_test_pred.shape}, {sub_6_oof_pred.shape}\"\n",
    ")\n",
    "\n",
    "\n",
    "# New submissions\n",
    "\n",
    "sub_7_predition_name = \"sub_lgb_K10_nonull_mean_sum_max_40_48_95_3_mean_imp_no_scaler_params_K_0928_1536_0.81645.gz\"\n",
    "sub_7_oof_name = \"oof_lgb_K10_nonull_mean_sum_max_40_48_95_3_mean_imp_no_scaler_params_K_0928_1536_0.81645.csv\"\n",
    "\n",
    "sub_7_test_pred = pd.read_csv(f\"{constants.SUBMISSION_DIR}/{sub_7_predition_name}\")\n",
    "sub_7_oof_pred = pd.read_csv(f\"{constants.OOF_DIR}/{sub_7_oof_name}\")\n",
    "logger.info(\n",
    "    f\"Shape of submission and oof file {sub_7_test_pred.shape}, {sub_7_oof_pred.shape}\"\n",
    ")\n",
    "\n",
    "sub_8_predition_name = \"sub_lgb_K10_nonull_mean_sum_max_40_48_95_3_no_imp_no_scaler_params_K_0928_1834_0.81627.gz\"\n",
    "sub_8_oof_name = \"oof_lgb_K10_nonull_mean_sum_max_40_48_95_3_no_imp_no_scaler_params_K_0928_1834_0.81627.csv\"\n",
    "\n",
    "sub_8_test_pred = pd.read_csv(f\"{constants.SUBMISSION_DIR}/{sub_8_predition_name}\")\n",
    "sub_8_oof_pred = pd.read_csv(f\"{constants.OOF_DIR}/{sub_8_oof_name}\")\n",
    "logger.info(\n",
    "    f\"Shape of submission and oof file {sub_8_test_pred.shape}, {sub_8_oof_pred.shape}\"\n",
    ")\n",
    "\n",
    "# tsne\n",
    "sub_9_predition_name = \"sub_lgb_K5_nonull_mean_sum_max_tsne_0917_1621_0.81337.gz\"\n",
    "sub_9_oof_name = \"oof_lgb_K5_nonull_mean_sum_max_tsne_0917_1621_0.81337.csv\"\n",
    "\n",
    "sub_9_test_pred = pd.read_csv(f\"{constants.SUBMISSION_DIR}/{sub_9_predition_name}\")\n",
    "sub_9_oof_pred = pd.read_csv(f\"{constants.OOF_DIR}/{sub_9_oof_name}\")\n",
    "logger.info(\n",
    "    f\"Shape of submission and oof file {sub_9_test_pred.shape}, {sub_9_oof_pred.shape}\"\n",
    ")\n",
    "\n",
    "# all features : Didn't improve the score\n",
    "sub_10_predition_name = \"sub_lgb_all_features_params_from_K_0929_1848_0.81581.gz\"\n",
    "sub_10_oof_name = \"oof_lgb_all_features_params_from_K_0929_1848_0.81581.csv\"\n",
    "\n",
    "sub_10_test_pred = pd.read_csv(f\"{constants.SUBMISSION_DIR}/{sub_10_predition_name}\")\n",
    "sub_10_oof_pred = pd.read_csv(f\"{constants.OOF_DIR}/{sub_10_oof_name}\")\n",
    "logger.info(\n",
    "    f\"Shape of submission and oof file {sub_10_test_pred.shape}, {sub_10_oof_pred.shape}\"\n",
    ")\n",
    "\n",
    "# Logistic Regression\n",
    "sub_11_predition_name = \"sub_logistic_K10_nonull_mean_sum_max_f40_48_95_3_no_imp_no_scaler_K_params_0928_1259_0.79925.gz\"\n",
    "sub_11_oof_name = \"oof_logistic_K10_nonull_mean_sum_max_f40_48_95_3_no_imp_no_scaler_K_params_0928_1259_0.79925.csv\"\n",
    "\n",
    "sub_11_test_pred = pd.read_csv(f\"{constants.SUBMISSION_DIR}/{sub_11_predition_name}\")\n",
    "sub_11_oof_pred = pd.read_csv(f\"{constants.OOF_DIR}/{sub_11_oof_name}\")\n",
    "logger.info(\n",
    "    f\"Shape of submission and oof file {sub_11_test_pred.shape}, {sub_11_oof_pred.shape}\"\n",
    ")\n",
    "\n",
    "\n",
    "# New XGB\n",
    "sub_12_predition_name = \"sub_xgb_K10_nonull_mean_sum_max_f40_48_95_3_custom_imp_StScaler_K_params_0927_1959_0.81639.gz\"\n",
    "sub_12_oof_name = \"oof_xgb_K10_nonull_mean_sum_max_f40_48_95_3_custom_imp_StScaler_K_params_0927_1959_0.81639.csv\"\n",
    "\n",
    "sub_12_test_pred = pd.read_csv(f\"{constants.SUBMISSION_DIR}/{sub_12_predition_name}\")\n",
    "sub_12_oof_pred = pd.read_csv(f\"{constants.OOF_DIR}/{sub_12_oof_name}\")\n",
    "logger.info(\n",
    "    f\"Shape of submission and oof file {sub_12_test_pred.shape}, {sub_12_oof_pred.shape}\"\n",
    ")\n",
    "\n",
    "sub_13_predition_name = \"sub_xgb_K10_nonull_mean_sum_max_f40_48_95_3_no_imp_no_scaler_K_params_0928_1645_0.81514.gz\"\n",
    "sub_13_oof_name = \"oof_xgb_K10_nonull_mean_sum_max_f40_48_95_3_no_imp_no_scaler_K_params_0928_1645_0.81514.csv\"\n",
    "\n",
    "sub_13_test_pred = pd.read_csv(f\"{constants.SUBMISSION_DIR}/{sub_13_predition_name}\")\n",
    "sub_13_oof_pred = pd.read_csv(f\"{constants.OOF_DIR}/{sub_13_oof_name}\")\n",
    "logger.info(\n",
    "    f\"Shape of submission and oof file {sub_13_test_pred.shape}, {sub_13_oof_pred.shape}\"\n",
    ")\n",
    "\n",
    "# New Cat\n",
    "sub_14_predition_name = \"sub_cat_K10_nonull_mean_sum_max_f40_48_95_3_SImp_RobScaler_K_params_0929_0406_0.81628.gz\"\n",
    "sub_14_oof_name = \"oof_cat_K10_nonull_mean_sum_max_f40_48_95_3_SImp_RobScaler_K_params_0929_0406_0.81628.csv\"\n",
    "\n",
    "sub_14_test_pred = pd.read_csv(f\"{constants.SUBMISSION_DIR}/{sub_14_predition_name}\")\n",
    "sub_14_oof_pred = pd.read_csv(f\"{constants.OOF_DIR}/{sub_14_oof_name}\")\n",
    "logger.info(\n",
    "    f\"Shape of submission and oof file {sub_14_test_pred.shape}, {sub_14_oof_pred.shape}\"\n",
    ")\n",
    "\n",
    "# New LGB Mean Encoding\n",
    "sub_15_predition_name = \"sub_lgb_K10_nonull_mean_sum_max_40_48_95_3_mean_encoding_mean_imp_no_scaler_params_K_0928_2156_0.81650.gz\"\n",
    "sub_15_oof_name = \"oof_lgb_K10_nonull_mean_sum_max_40_48_95_3_mean_encoding_mean_imp_no_scaler_params_K_0928_2156_0.81650.csv\"\n",
    "\n",
    "sub_15_test_pred = pd.read_csv(f\"{constants.SUBMISSION_DIR}/{sub_15_predition_name}\")\n",
    "sub_15_oof_pred = pd.read_csv(f\"{constants.OOF_DIR}/{sub_15_oof_name}\")\n",
    "logger.info(\n",
    "    f\"Shape of submission and oof file {sub_15_test_pred.shape}, {sub_15_oof_pred.shape}\")\n",
    "\n",
    "# New LGB Pseudo Labeling\n",
    "sub_16_predition_name = \"sub_lgb_K10_nonull_mean_sum_max_40_48_95_3_pseudo_labeling_mean_imp_no_scaler_params_K_0929_1237_0.82345.gz\"\n",
    "sub_16_oof_name = \"oof_lgb_K10_nonull_mean_sum_max_40_48_95_3_pseudo_labeling_mean_imp_no_scaler_params_K_0929_1237_0.82345.csv\"\n",
    "\n",
    "sub_16_test_pred = pd.read_csv(f\"{constants.SUBMISSION_DIR}/{sub_16_predition_name}\")\n",
    "sub_16_oof_pred = pd.read_csv(f\"{constants.OOF_DIR}/{sub_16_oof_name}\")\n",
    "sub_16_oof_pred.columns = [\"id\", \"0\"]\n",
    "logger.info(\n",
    "    f\"Shape of submission and oof file {sub_16_test_pred.shape}, {sub_16_oof_pred.shape}\")\n",
    "\n",
    "# New Cat\n",
    "sub_17_predition_name = \"sub_cat_K10_nonull_mean_sum_max_f40_48_95_3_noImp_noScaler_K_params_0929_1426_0.81556.gz\"\n",
    "sub_17_oof_name = \"oof_cat_K10_nonull_mean_sum_max_f40_48_95_3_noImp_noScaler_K_params_0929_1426_0.81556.csv\"\n",
    "\n",
    "sub_17_test_pred = pd.read_csv(f\"{constants.SUBMISSION_DIR}/{sub_17_predition_name}\")\n",
    "sub_17_oof_pred = pd.read_csv(f\"{constants.OOF_DIR}/{sub_17_oof_name}\")\n",
    "logger.info(\n",
    "    f\"Shape of submission and oof file {sub_17_test_pred.shape}, {sub_17_oof_pred.shape}\")\n",
    "\n",
    "# LGB Mean/Median\n",
    "sub_18_predition_name = \"sub_lgb_SK10_nonull_mean_sum_max_40_48_95_3_mean_median_imp_no_scaler_params_K_0929_1825_0.81638.gz\"\n",
    "sub_18_oof_name = \"oof_lgb_SK10_nonull_mean_sum_max_40_48_95_3_mean_median_imp_no_scaler_params_K_0929_1825_0.81638.csv\"\n",
    "\n",
    "sub_18_test_pred = pd.read_csv(f\"{constants.SUBMISSION_DIR}/{sub_18_predition_name}\")\n",
    "sub_18_oof_pred = pd.read_csv(f\"{constants.OOF_DIR}/{sub_18_oof_name}\")\n",
    "logger.info(\n",
    "    f\"Shape of submission and oof file {sub_18_test_pred.shape}, {sub_18_oof_pred.shape}\")\n",
    "\n",
    "oof_dfs = [\n",
    "    sub_1_oof_pred,\n",
    "    sub_2_oof_pred,\n",
    "    sub_3_oof_pred,\n",
    "    sub_4_oof_pred,\n",
    "    sub_5_oof_pred,\n",
    "    sub_6_oof_pred,\n",
    "    sub_7_oof_pred,\n",
    "    sub_8_oof_pred,\n",
    "    sub_9_oof_pred,\n",
    "    sub_10_oof_pred,\n",
    "    sub_11_oof_pred,\n",
    "    sub_12_oof_pred,\n",
    "    sub_13_oof_pred,\n",
    "    sub_14_oof_pred,\n",
    "    sub_15_oof_pred,\n",
    "    sub_16_oof_pred,\n",
    "    sub_17_oof_pred,\n",
    "    sub_18_oof_pred,\n",
    "]\n",
    "\n",
    "l1_train_df = reduce(\n",
    "    lambda left, right: pd.merge(left, right, on=[\"id\"], how=\"left\"), oof_dfs\n",
    ")\n",
    "l1_train_df.columns = [\n",
    "    \"id\",\n",
    "    \"sub_1\",\n",
    "    \"sub_2\",\n",
    "    \"sub_3\",\n",
    "    \"sub_4\",\n",
    "    \"sub_5\",\n",
    "    \"sub_6\",\n",
    "    \"sub_7\",\n",
    "    \"sub_8\",\n",
    "    \"sub_9\",\n",
    "    \"sub_10\",\n",
    "    \"sub_11\",\n",
    "    \"sub_12\",\n",
    "    \"sub_13\",\n",
    "    \"sub_14\",\n",
    "    \"sub_15\",\n",
    "    \"sub_16\",\n",
    "    \"sub_17\",\n",
    "    \"sub_18\",\n",
    "]\n",
    "l1_train_df = l1_train_df.set_index(\"id\")\n",
    "\n",
    "prediction_dfs = [\n",
    "    sub_1_test_pred,\n",
    "    sub_2_test_pred,\n",
    "    sub_3_test_pred,\n",
    "    sub_4_test_pred,\n",
    "    sub_5_test_pred,\n",
    "    sub_6_test_pred,\n",
    "    sub_7_test_pred,\n",
    "    sub_8_test_pred,\n",
    "    sub_9_test_pred,\n",
    "    sub_10_test_pred,\n",
    "    sub_11_test_pred,\n",
    "    sub_12_test_pred,\n",
    "    sub_13_test_pred,\n",
    "    sub_14_test_pred,\n",
    "    sub_15_test_pred,\n",
    "    sub_16_test_pred,\n",
    "    sub_17_test_pred,\n",
    "    sub_18_test_pred,\n",
    "]\n",
    "l1_test_df = reduce(\n",
    "    lambda left, right: pd.merge(left, right, on=[\"id\"], how=\"left\"), prediction_dfs\n",
    ")\n",
    "l1_test_df.columns = [\n",
    "    \"id\",\n",
    "    \"sub_1\",\n",
    "    \"sub_2\",\n",
    "    \"sub_3\",\n",
    "    \"sub_4\",\n",
    "    \"sub_5\",\n",
    "    \"sub_6\",\n",
    "    \"sub_7\",\n",
    "    \"sub_8\",\n",
    "    \"sub_9\",\n",
    "    \"sub_10\",\n",
    "    \"sub_11\",\n",
    "    \"sub_12\",\n",
    "    \"sub_13\",\n",
    "    \"sub_14\",\n",
    "    \"sub_15\",\n",
    "    \"sub_16\",\n",
    "    \"sub_17\",\n",
    "    \"sub_18\",\n",
    "]\n",
    "l1_test_df = l1_test_df.set_index(\"id\")"
   ]
  },
  {
   "cell_type": "code",
   "execution_count": 10,
   "id": "cloudy-slovakia",
   "metadata": {},
   "outputs": [
    {
     "data": {
      "text/html": [
       "<div>\n",
       "<style scoped>\n",
       "    .dataframe tbody tr th:only-of-type {\n",
       "        vertical-align: middle;\n",
       "    }\n",
       "\n",
       "    .dataframe tbody tr th {\n",
       "        vertical-align: top;\n",
       "    }\n",
       "\n",
       "    .dataframe thead th {\n",
       "        text-align: right;\n",
       "    }\n",
       "</style>\n",
       "<table border=\"1\" class=\"dataframe\">\n",
       "  <thead>\n",
       "    <tr style=\"text-align: right;\">\n",
       "      <th></th>\n",
       "      <th>sub_1</th>\n",
       "      <th>sub_2</th>\n",
       "      <th>sub_3</th>\n",
       "      <th>sub_4</th>\n",
       "      <th>sub_5</th>\n",
       "      <th>sub_6</th>\n",
       "      <th>sub_7</th>\n",
       "      <th>sub_8</th>\n",
       "      <th>sub_9</th>\n",
       "      <th>sub_10</th>\n",
       "      <th>sub_11</th>\n",
       "      <th>sub_12</th>\n",
       "      <th>sub_13</th>\n",
       "      <th>sub_14</th>\n",
       "      <th>sub_15</th>\n",
       "      <th>sub_16</th>\n",
       "      <th>sub_17</th>\n",
       "      <th>sub_18</th>\n",
       "    </tr>\n",
       "    <tr>\n",
       "      <th>id</th>\n",
       "      <th></th>\n",
       "      <th></th>\n",
       "      <th></th>\n",
       "      <th></th>\n",
       "      <th></th>\n",
       "      <th></th>\n",
       "      <th></th>\n",
       "      <th></th>\n",
       "      <th></th>\n",
       "      <th></th>\n",
       "      <th></th>\n",
       "      <th></th>\n",
       "      <th></th>\n",
       "      <th></th>\n",
       "      <th></th>\n",
       "      <th></th>\n",
       "      <th></th>\n",
       "      <th></th>\n",
       "    </tr>\n",
       "  </thead>\n",
       "  <tbody>\n",
       "    <tr>\n",
       "      <th>957919</th>\n",
       "      <td>0.586674</td>\n",
       "      <td>0.570629</td>\n",
       "      <td>0.574892</td>\n",
       "      <td>0.576865</td>\n",
       "      <td>0.313042</td>\n",
       "      <td>0.280372</td>\n",
       "      <td>0.563307</td>\n",
       "      <td>0.576763</td>\n",
       "      <td>0.597138</td>\n",
       "      <td>0.585819</td>\n",
       "      <td>0.398554</td>\n",
       "      <td>0.577470</td>\n",
       "      <td>0.565249</td>\n",
       "      <td>0.285151</td>\n",
       "      <td>0.567686</td>\n",
       "      <td>0.565427</td>\n",
       "      <td>0.285058</td>\n",
       "      <td>0.564778</td>\n",
       "    </tr>\n",
       "    <tr>\n",
       "      <th>957920</th>\n",
       "      <td>0.123036</td>\n",
       "      <td>0.118299</td>\n",
       "      <td>0.122321</td>\n",
       "      <td>0.120261</td>\n",
       "      <td>-1.991545</td>\n",
       "      <td>-2.012533</td>\n",
       "      <td>0.119408</td>\n",
       "      <td>0.120356</td>\n",
       "      <td>0.111463</td>\n",
       "      <td>0.115711</td>\n",
       "      <td>0.206685</td>\n",
       "      <td>0.120057</td>\n",
       "      <td>0.158361</td>\n",
       "      <td>-1.980137</td>\n",
       "      <td>0.121206</td>\n",
       "      <td>0.113520</td>\n",
       "      <td>-2.051165</td>\n",
       "      <td>0.119795</td>\n",
       "    </tr>\n",
       "    <tr>\n",
       "      <th>957921</th>\n",
       "      <td>0.633575</td>\n",
       "      <td>0.627519</td>\n",
       "      <td>0.632745</td>\n",
       "      <td>0.636654</td>\n",
       "      <td>0.518727</td>\n",
       "      <td>0.523176</td>\n",
       "      <td>0.633242</td>\n",
       "      <td>0.632802</td>\n",
       "      <td>0.627580</td>\n",
       "      <td>0.625913</td>\n",
       "      <td>0.373492</td>\n",
       "      <td>0.633486</td>\n",
       "      <td>0.624056</td>\n",
       "      <td>0.528831</td>\n",
       "      <td>0.629423</td>\n",
       "      <td>0.639891</td>\n",
       "      <td>0.480563</td>\n",
       "      <td>0.630417</td>\n",
       "    </tr>\n",
       "    <tr>\n",
       "      <th>957922</th>\n",
       "      <td>0.128614</td>\n",
       "      <td>0.130883</td>\n",
       "      <td>0.132421</td>\n",
       "      <td>0.126317</td>\n",
       "      <td>-1.876890</td>\n",
       "      <td>-1.880550</td>\n",
       "      <td>0.130952</td>\n",
       "      <td>0.128878</td>\n",
       "      <td>0.126297</td>\n",
       "      <td>0.131199</td>\n",
       "      <td>0.260983</td>\n",
       "      <td>0.133128</td>\n",
       "      <td>0.164802</td>\n",
       "      <td>-1.924863</td>\n",
       "      <td>0.131103</td>\n",
       "      <td>0.126686</td>\n",
       "      <td>-1.869343</td>\n",
       "      <td>0.130489</td>\n",
       "    </tr>\n",
       "    <tr>\n",
       "      <th>957923</th>\n",
       "      <td>0.152090</td>\n",
       "      <td>0.153203</td>\n",
       "      <td>0.157356</td>\n",
       "      <td>0.151618</td>\n",
       "      <td>-1.775676</td>\n",
       "      <td>-1.832751</td>\n",
       "      <td>0.153720</td>\n",
       "      <td>0.151904</td>\n",
       "      <td>0.141184</td>\n",
       "      <td>0.142863</td>\n",
       "      <td>0.291207</td>\n",
       "      <td>0.154617</td>\n",
       "      <td>0.185953</td>\n",
       "      <td>-1.720034</td>\n",
       "      <td>0.150967</td>\n",
       "      <td>0.151533</td>\n",
       "      <td>-1.829254</td>\n",
       "      <td>0.150890</td>\n",
       "    </tr>\n",
       "  </tbody>\n",
       "</table>\n",
       "</div>"
      ],
      "text/plain": [
       "           sub_1     sub_2     sub_3     sub_4     sub_5     sub_6     sub_7  \\\n",
       "id                                                                             \n",
       "957919  0.586674  0.570629  0.574892  0.576865  0.313042  0.280372  0.563307   \n",
       "957920  0.123036  0.118299  0.122321  0.120261 -1.991545 -2.012533  0.119408   \n",
       "957921  0.633575  0.627519  0.632745  0.636654  0.518727  0.523176  0.633242   \n",
       "957922  0.128614  0.130883  0.132421  0.126317 -1.876890 -1.880550  0.130952   \n",
       "957923  0.152090  0.153203  0.157356  0.151618 -1.775676 -1.832751  0.153720   \n",
       "\n",
       "           sub_8     sub_9    sub_10    sub_11    sub_12    sub_13    sub_14  \\\n",
       "id                                                                             \n",
       "957919  0.576763  0.597138  0.585819  0.398554  0.577470  0.565249  0.285151   \n",
       "957920  0.120356  0.111463  0.115711  0.206685  0.120057  0.158361 -1.980137   \n",
       "957921  0.632802  0.627580  0.625913  0.373492  0.633486  0.624056  0.528831   \n",
       "957922  0.128878  0.126297  0.131199  0.260983  0.133128  0.164802 -1.924863   \n",
       "957923  0.151904  0.141184  0.142863  0.291207  0.154617  0.185953 -1.720034   \n",
       "\n",
       "          sub_15    sub_16    sub_17    sub_18  \n",
       "id                                              \n",
       "957919  0.567686  0.565427  0.285058  0.564778  \n",
       "957920  0.121206  0.113520 -2.051165  0.119795  \n",
       "957921  0.629423  0.639891  0.480563  0.630417  \n",
       "957922  0.131103  0.126686 -1.869343  0.130489  \n",
       "957923  0.150967  0.151533 -1.829254  0.150890  "
      ]
     },
     "execution_count": 10,
     "metadata": {},
     "output_type": "execute_result"
    }
   ],
   "source": [
    "l1_test_df.corr()"
   ]
  },
  {
   "cell_type": "code",
   "execution_count": 12,
   "id": "streaming-desperate",
   "metadata": {},
   "outputs": [
    {
     "data": {
      "application/vnd.plotly.v1+json": {
       "config": {
        "plotlyServerURL": "https://plot.ly"
       },
       "data": [
        {
         "coloraxis": "coloraxis",
         "hovertemplate": "x: %{x}<br>y: %{y}<br>color: %{z}<extra></extra>",
         "name": "0",
         "type": "heatmap",
         "x": [
          "sub_1",
          "sub_2",
          "sub_3",
          "sub_4",
          "sub_5",
          "sub_6",
          "sub_7",
          "sub_8",
          "sub_9",
          "sub_10",
          "sub_12",
          "sub_13",
          "sub_14",
          "sub_15",
          "sub_16",
          "sub_17",
          "sub_18"
         ],
         "xaxis": "x",
         "y": [
          "sub_1",
          "sub_2",
          "sub_3",
          "sub_4",
          "sub_5",
          "sub_6",
          "sub_7",
          "sub_8",
          "sub_9",
          "sub_10",
          "sub_12",
          "sub_13",
          "sub_14",
          "sub_15",
          "sub_16",
          "sub_17",
          "sub_18"
         ],
         "yaxis": "y",
         "z": [
          [
           1,
           0.9994166553718656,
           0.9992326279119685,
           0.9996041496407022,
           0.9976998367134777,
           0.997678974544979,
           0.9993932388327031,
           0.9999046346241901,
           0.997847609706983,
           0.9992439213175971,
           0.999321279123274,
           0.9995750122435603,
           0.9975496886410334,
           0.999533153148158,
           0.9994639985717201,
           0.9976029235374287,
           0.9993914644354192
          ],
          [
           0.9994166553718656,
           1,
           0.9994777011118935,
           0.9992753846151159,
           0.9978236704946981,
           0.9972899680743831,
           0.9999289484296733,
           0.9994409041883283,
           0.9978770597611345,
           0.9988844609969979,
           0.9995857235888382,
           0.9992486881602831,
           0.997667529901059,
           0.9998932596343223,
           0.9997707159106419,
           0.9972009645614011,
           0.999717318480286
          ],
          [
           0.9992326279119685,
           0.9994777011118935,
           1,
           0.9995650142440038,
           0.9980490313787006,
           0.9973269199774245,
           0.999549117867797,
           0.9992630990673584,
           0.9972567501863673,
           0.9986075448673515,
           0.999920257960853,
           0.9995672326193722,
           0.9979778797852051,
           0.99960204861202,
           0.9996187865945538,
           0.9972994929496657,
           0.9994173708317657
          ],
          [
           0.9996041496407022,
           0.9992753846151159,
           0.9995650142440038,
           1,
           0.9978917085504116,
           0.9977810651011715,
           0.9992843789669091,
           0.9996467103364085,
           0.9977294641341394,
           0.9989900377449734,
           0.9996131304348311,
           0.9999527559313409,
           0.9977795223868595,
           0.9994217587369804,
           0.999399842243106,
           0.997734475604481,
           0.9992809652400744
          ],
          [
           0.9976998367134777,
           0.9978236704946981,
           0.9980490313787006,
           0.9978917085504116,
           1,
           0.9988321592809851,
           0.9978232692417823,
           0.9977271164849729,
           0.995697827503203,
           0.9970054894320705,
           0.9981022627873847,
           0.9978736723110908,
           0.9997725409951623,
           0.9979061543996457,
           0.9981472663829857,
           0.9987734148048732,
           0.9977248430478163
          ],
          [
           0.997678974544979,
           0.9972899680743831,
           0.9973269199774245,
           0.9977810651011715,
           0.9988321592809851,
           1,
           0.9971998546581612,
           0.9977074325198324,
           0.9960618588538914,
           0.9970250739040765,
           0.9974741676043801,
           0.9977440645589836,
           0.9986725261864045,
           0.9973443994974008,
           0.9974865346559716,
           0.999796460643938,
           0.99729830900579
          ],
          [
           0.9993932388327031,
           0.9999289484296733,
           0.999549117867797,
           0.9992843789669091,
           0.9978232692417823,
           0.9971998546581612,
           1,
           0.9994219474140886,
           0.9974762952115995,
           0.9988137143857252,
           0.9995990445867048,
           0.9992828744383645,
           0.9977176877105588,
           0.9998978121580103,
           0.9998276958528393,
           0.9971441652543249,
           0.9997379040733619
          ],
          [
           0.9999046346241901,
           0.9994409041883283,
           0.9992630990673584,
           0.9996467103364085,
           0.9977271164849729,
           0.9977074325198324,
           0.9994219474140886,
           1,
           0.9979368088031223,
           0.9992720668555956,
           0.9993724786316326,
           0.9996286884624442,
           0.997581255271029,
           0.9995610391314029,
           0.999485942129209,
           0.9976276461482475,
           0.9994190367299369
          ],
          [
           0.997847609706983,
           0.9978770597611345,
           0.9972567501863673,
           0.9977294641341394,
           0.995697827503203,
           0.9960618588538914,
           0.9974762952115995,
           0.9979368088031223,
           1,
           0.9975671450493157,
           0.9977203779026721,
           0.9976243535345174,
           0.995318833517272,
           0.9977806599944636,
           0.99725894016463,
           0.9957949362973969,
           0.9975068761583129
          ],
          [
           0.9992439213175971,
           0.9988844609969979,
           0.9986075448673515,
           0.9989900377449734,
           0.9970054894320705,
           0.9970250739040765,
           0.9988137143857252,
           0.9992720668555956,
           0.9975671450493157,
           1,
           0.9987493800788152,
           0.9989569525466842,
           0.9968196793139552,
           0.9989737926999399,
           0.9988495283504736,
           0.9969118486307023,
           0.9988167130510539
          ],
          [
           0.999321279123274,
           0.9995857235888382,
           0.999920257960853,
           0.9996131304348311,
           0.9981022627873847,
           0.9974741676043801,
           0.9995990445867048,
           0.9993724786316326,
           0.9977203779026721,
           0.9987493800788152,
           1,
           0.9996182832360254,
           0.9980076500923123,
           0.999679979321047,
           0.9996475747769702,
           0.9974149036540333,
           0.9994811620523797
          ],
          [
           0.9995750122435603,
           0.9992486881602831,
           0.9995672326193722,
           0.9999527559313409,
           0.9978736723110908,
           0.9977440645589836,
           0.9992828744383645,
           0.9996286884624442,
           0.9976243535345174,
           0.9989569525466842,
           0.9996182832360254,
           1,
           0.9977889871181074,
           0.9994134445135004,
           0.9994005779509886,
           0.9977062561351238,
           0.9992773555859361
          ],
          [
           0.9975496886410334,
           0.997667529901059,
           0.9979778797852051,
           0.9977795223868595,
           0.9997725409951623,
           0.9986725261864045,
           0.9977176877105588,
           0.997581255271029,
           0.995318833517272,
           0.9968196793139552,
           0.9980076500923123,
           0.9977889871181074,
           1,
           0.9977834049677438,
           0.9980627892116447,
           0.9986937228785426,
           0.9976141473078013
          ],
          [
           0.999533153148158,
           0.9998932596343223,
           0.99960204861202,
           0.9994217587369804,
           0.9979061543996457,
           0.9973443994974008,
           0.9998978121580103,
           0.9995610391314029,
           0.9977806599944636,
           0.9989737926999399,
           0.999679979321047,
           0.9994134445135004,
           0.9977834049677438,
           1,
           0.9998836042158853,
           0.9972733428450214,
           0.999737180041838
          ],
          [
           0.9994639985717201,
           0.9997707159106419,
           0.9996187865945538,
           0.999399842243106,
           0.9981472663829857,
           0.9974865346559716,
           0.9998276958528393,
           0.999485942129209,
           0.99725894016463,
           0.9988495283504736,
           0.9996475747769702,
           0.9994005779509886,
           0.9980627892116447,
           0.9998836042158853,
           1,
           0.9974447936875439,
           0.9996751676577326
          ],
          [
           0.9976029235374287,
           0.9972009645614011,
           0.9972994929496657,
           0.997734475604481,
           0.9987734148048732,
           0.999796460643938,
           0.9971441652543249,
           0.9976276461482475,
           0.9957949362973969,
           0.9969118486307023,
           0.9974149036540333,
           0.9977062561351238,
           0.9986937228785426,
           0.9972733428450214,
           0.9974447936875439,
           1,
           0.9972372922346276
          ],
          [
           0.9993914644354192,
           0.999717318480286,
           0.9994173708317657,
           0.9992809652400744,
           0.9977248430478163,
           0.99729830900579,
           0.9997379040733619,
           0.9994190367299369,
           0.9975068761583129,
           0.9988167130510539,
           0.9994811620523797,
           0.9992773555859361,
           0.9976141473078013,
           0.999737180041838,
           0.9996751676577326,
           0.9972372922346276,
           1
          ]
         ]
        }
       ],
       "layout": {
        "autosize": true,
        "coloraxis": {
         "colorscale": [
          [
           0,
           "#0d0887"
          ],
          [
           0.1111111111111111,
           "#46039f"
          ],
          [
           0.2222222222222222,
           "#7201a8"
          ],
          [
           0.3333333333333333,
           "#9c179e"
          ],
          [
           0.4444444444444444,
           "#bd3786"
          ],
          [
           0.5555555555555556,
           "#d8576b"
          ],
          [
           0.6666666666666666,
           "#ed7953"
          ],
          [
           0.7777777777777778,
           "#fb9f3a"
          ],
          [
           0.8888888888888888,
           "#fdca26"
          ],
          [
           1,
           "#f0f921"
          ]
         ]
        },
        "margin": {
         "t": 60
        },
        "template": {
         "data": {
          "bar": [
           {
            "error_x": {
             "color": "#2a3f5f"
            },
            "error_y": {
             "color": "#2a3f5f"
            },
            "marker": {
             "line": {
              "color": "#E5ECF6",
              "width": 0.5
             }
            },
            "type": "bar"
           }
          ],
          "barpolar": [
           {
            "marker": {
             "line": {
              "color": "#E5ECF6",
              "width": 0.5
             }
            },
            "type": "barpolar"
           }
          ],
          "carpet": [
           {
            "aaxis": {
             "endlinecolor": "#2a3f5f",
             "gridcolor": "white",
             "linecolor": "white",
             "minorgridcolor": "white",
             "startlinecolor": "#2a3f5f"
            },
            "baxis": {
             "endlinecolor": "#2a3f5f",
             "gridcolor": "white",
             "linecolor": "white",
             "minorgridcolor": "white",
             "startlinecolor": "#2a3f5f"
            },
            "type": "carpet"
           }
          ],
          "choropleth": [
           {
            "colorbar": {
             "outlinewidth": 0,
             "ticks": ""
            },
            "type": "choropleth"
           }
          ],
          "contour": [
           {
            "colorbar": {
             "outlinewidth": 0,
             "ticks": ""
            },
            "colorscale": [
             [
              0,
              "#0d0887"
             ],
             [
              0.1111111111111111,
              "#46039f"
             ],
             [
              0.2222222222222222,
              "#7201a8"
             ],
             [
              0.3333333333333333,
              "#9c179e"
             ],
             [
              0.4444444444444444,
              "#bd3786"
             ],
             [
              0.5555555555555556,
              "#d8576b"
             ],
             [
              0.6666666666666666,
              "#ed7953"
             ],
             [
              0.7777777777777778,
              "#fb9f3a"
             ],
             [
              0.8888888888888888,
              "#fdca26"
             ],
             [
              1,
              "#f0f921"
             ]
            ],
            "type": "contour"
           }
          ],
          "contourcarpet": [
           {
            "colorbar": {
             "outlinewidth": 0,
             "ticks": ""
            },
            "type": "contourcarpet"
           }
          ],
          "heatmap": [
           {
            "colorbar": {
             "outlinewidth": 0,
             "ticks": ""
            },
            "colorscale": [
             [
              0,
              "#0d0887"
             ],
             [
              0.1111111111111111,
              "#46039f"
             ],
             [
              0.2222222222222222,
              "#7201a8"
             ],
             [
              0.3333333333333333,
              "#9c179e"
             ],
             [
              0.4444444444444444,
              "#bd3786"
             ],
             [
              0.5555555555555556,
              "#d8576b"
             ],
             [
              0.6666666666666666,
              "#ed7953"
             ],
             [
              0.7777777777777778,
              "#fb9f3a"
             ],
             [
              0.8888888888888888,
              "#fdca26"
             ],
             [
              1,
              "#f0f921"
             ]
            ],
            "type": "heatmap"
           }
          ],
          "heatmapgl": [
           {
            "colorbar": {
             "outlinewidth": 0,
             "ticks": ""
            },
            "colorscale": [
             [
              0,
              "#0d0887"
             ],
             [
              0.1111111111111111,
              "#46039f"
             ],
             [
              0.2222222222222222,
              "#7201a8"
             ],
             [
              0.3333333333333333,
              "#9c179e"
             ],
             [
              0.4444444444444444,
              "#bd3786"
             ],
             [
              0.5555555555555556,
              "#d8576b"
             ],
             [
              0.6666666666666666,
              "#ed7953"
             ],
             [
              0.7777777777777778,
              "#fb9f3a"
             ],
             [
              0.8888888888888888,
              "#fdca26"
             ],
             [
              1,
              "#f0f921"
             ]
            ],
            "type": "heatmapgl"
           }
          ],
          "histogram": [
           {
            "marker": {
             "colorbar": {
              "outlinewidth": 0,
              "ticks": ""
             }
            },
            "type": "histogram"
           }
          ],
          "histogram2d": [
           {
            "colorbar": {
             "outlinewidth": 0,
             "ticks": ""
            },
            "colorscale": [
             [
              0,
              "#0d0887"
             ],
             [
              0.1111111111111111,
              "#46039f"
             ],
             [
              0.2222222222222222,
              "#7201a8"
             ],
             [
              0.3333333333333333,
              "#9c179e"
             ],
             [
              0.4444444444444444,
              "#bd3786"
             ],
             [
              0.5555555555555556,
              "#d8576b"
             ],
             [
              0.6666666666666666,
              "#ed7953"
             ],
             [
              0.7777777777777778,
              "#fb9f3a"
             ],
             [
              0.8888888888888888,
              "#fdca26"
             ],
             [
              1,
              "#f0f921"
             ]
            ],
            "type": "histogram2d"
           }
          ],
          "histogram2dcontour": [
           {
            "colorbar": {
             "outlinewidth": 0,
             "ticks": ""
            },
            "colorscale": [
             [
              0,
              "#0d0887"
             ],
             [
              0.1111111111111111,
              "#46039f"
             ],
             [
              0.2222222222222222,
              "#7201a8"
             ],
             [
              0.3333333333333333,
              "#9c179e"
             ],
             [
              0.4444444444444444,
              "#bd3786"
             ],
             [
              0.5555555555555556,
              "#d8576b"
             ],
             [
              0.6666666666666666,
              "#ed7953"
             ],
             [
              0.7777777777777778,
              "#fb9f3a"
             ],
             [
              0.8888888888888888,
              "#fdca26"
             ],
             [
              1,
              "#f0f921"
             ]
            ],
            "type": "histogram2dcontour"
           }
          ],
          "mesh3d": [
           {
            "colorbar": {
             "outlinewidth": 0,
             "ticks": ""
            },
            "type": "mesh3d"
           }
          ],
          "parcoords": [
           {
            "line": {
             "colorbar": {
              "outlinewidth": 0,
              "ticks": ""
             }
            },
            "type": "parcoords"
           }
          ],
          "pie": [
           {
            "automargin": true,
            "type": "pie"
           }
          ],
          "scatter": [
           {
            "marker": {
             "colorbar": {
              "outlinewidth": 0,
              "ticks": ""
             }
            },
            "type": "scatter"
           }
          ],
          "scatter3d": [
           {
            "line": {
             "colorbar": {
              "outlinewidth": 0,
              "ticks": ""
             }
            },
            "marker": {
             "colorbar": {
              "outlinewidth": 0,
              "ticks": ""
             }
            },
            "type": "scatter3d"
           }
          ],
          "scattercarpet": [
           {
            "marker": {
             "colorbar": {
              "outlinewidth": 0,
              "ticks": ""
             }
            },
            "type": "scattercarpet"
           }
          ],
          "scattergeo": [
           {
            "marker": {
             "colorbar": {
              "outlinewidth": 0,
              "ticks": ""
             }
            },
            "type": "scattergeo"
           }
          ],
          "scattergl": [
           {
            "marker": {
             "colorbar": {
              "outlinewidth": 0,
              "ticks": ""
             }
            },
            "type": "scattergl"
           }
          ],
          "scattermapbox": [
           {
            "marker": {
             "colorbar": {
              "outlinewidth": 0,
              "ticks": ""
             }
            },
            "type": "scattermapbox"
           }
          ],
          "scatterpolar": [
           {
            "marker": {
             "colorbar": {
              "outlinewidth": 0,
              "ticks": ""
             }
            },
            "type": "scatterpolar"
           }
          ],
          "scatterpolargl": [
           {
            "marker": {
             "colorbar": {
              "outlinewidth": 0,
              "ticks": ""
             }
            },
            "type": "scatterpolargl"
           }
          ],
          "scatterternary": [
           {
            "marker": {
             "colorbar": {
              "outlinewidth": 0,
              "ticks": ""
             }
            },
            "type": "scatterternary"
           }
          ],
          "surface": [
           {
            "colorbar": {
             "outlinewidth": 0,
             "ticks": ""
            },
            "colorscale": [
             [
              0,
              "#0d0887"
             ],
             [
              0.1111111111111111,
              "#46039f"
             ],
             [
              0.2222222222222222,
              "#7201a8"
             ],
             [
              0.3333333333333333,
              "#9c179e"
             ],
             [
              0.4444444444444444,
              "#bd3786"
             ],
             [
              0.5555555555555556,
              "#d8576b"
             ],
             [
              0.6666666666666666,
              "#ed7953"
             ],
             [
              0.7777777777777778,
              "#fb9f3a"
             ],
             [
              0.8888888888888888,
              "#fdca26"
             ],
             [
              1,
              "#f0f921"
             ]
            ],
            "type": "surface"
           }
          ],
          "table": [
           {
            "cells": {
             "fill": {
              "color": "#EBF0F8"
             },
             "line": {
              "color": "white"
             }
            },
            "header": {
             "fill": {
              "color": "#C8D4E3"
             },
             "line": {
              "color": "white"
             }
            },
            "type": "table"
           }
          ]
         },
         "layout": {
          "annotationdefaults": {
           "arrowcolor": "#2a3f5f",
           "arrowhead": 0,
           "arrowwidth": 1
          },
          "autotypenumbers": "strict",
          "coloraxis": {
           "colorbar": {
            "outlinewidth": 0,
            "ticks": ""
           }
          },
          "colorscale": {
           "diverging": [
            [
             0,
             "#8e0152"
            ],
            [
             0.1,
             "#c51b7d"
            ],
            [
             0.2,
             "#de77ae"
            ],
            [
             0.3,
             "#f1b6da"
            ],
            [
             0.4,
             "#fde0ef"
            ],
            [
             0.5,
             "#f7f7f7"
            ],
            [
             0.6,
             "#e6f5d0"
            ],
            [
             0.7,
             "#b8e186"
            ],
            [
             0.8,
             "#7fbc41"
            ],
            [
             0.9,
             "#4d9221"
            ],
            [
             1,
             "#276419"
            ]
           ],
           "sequential": [
            [
             0,
             "#0d0887"
            ],
            [
             0.1111111111111111,
             "#46039f"
            ],
            [
             0.2222222222222222,
             "#7201a8"
            ],
            [
             0.3333333333333333,
             "#9c179e"
            ],
            [
             0.4444444444444444,
             "#bd3786"
            ],
            [
             0.5555555555555556,
             "#d8576b"
            ],
            [
             0.6666666666666666,
             "#ed7953"
            ],
            [
             0.7777777777777778,
             "#fb9f3a"
            ],
            [
             0.8888888888888888,
             "#fdca26"
            ],
            [
             1,
             "#f0f921"
            ]
           ],
           "sequentialminus": [
            [
             0,
             "#0d0887"
            ],
            [
             0.1111111111111111,
             "#46039f"
            ],
            [
             0.2222222222222222,
             "#7201a8"
            ],
            [
             0.3333333333333333,
             "#9c179e"
            ],
            [
             0.4444444444444444,
             "#bd3786"
            ],
            [
             0.5555555555555556,
             "#d8576b"
            ],
            [
             0.6666666666666666,
             "#ed7953"
            ],
            [
             0.7777777777777778,
             "#fb9f3a"
            ],
            [
             0.8888888888888888,
             "#fdca26"
            ],
            [
             1,
             "#f0f921"
            ]
           ]
          },
          "colorway": [
           "#636efa",
           "#EF553B",
           "#00cc96",
           "#ab63fa",
           "#FFA15A",
           "#19d3f3",
           "#FF6692",
           "#B6E880",
           "#FF97FF",
           "#FECB52"
          ],
          "font": {
           "color": "#2a3f5f"
          },
          "geo": {
           "bgcolor": "white",
           "lakecolor": "white",
           "landcolor": "#E5ECF6",
           "showlakes": true,
           "showland": true,
           "subunitcolor": "white"
          },
          "hoverlabel": {
           "align": "left"
          },
          "hovermode": "closest",
          "mapbox": {
           "style": "light"
          },
          "paper_bgcolor": "white",
          "plot_bgcolor": "#E5ECF6",
          "polar": {
           "angularaxis": {
            "gridcolor": "white",
            "linecolor": "white",
            "ticks": ""
           },
           "bgcolor": "#E5ECF6",
           "radialaxis": {
            "gridcolor": "white",
            "linecolor": "white",
            "ticks": ""
           }
          },
          "scene": {
           "xaxis": {
            "backgroundcolor": "#E5ECF6",
            "gridcolor": "white",
            "gridwidth": 2,
            "linecolor": "white",
            "showbackground": true,
            "ticks": "",
            "zerolinecolor": "white"
           },
           "yaxis": {
            "backgroundcolor": "#E5ECF6",
            "gridcolor": "white",
            "gridwidth": 2,
            "linecolor": "white",
            "showbackground": true,
            "ticks": "",
            "zerolinecolor": "white"
           },
           "zaxis": {
            "backgroundcolor": "#E5ECF6",
            "gridcolor": "white",
            "gridwidth": 2,
            "linecolor": "white",
            "showbackground": true,
            "ticks": "",
            "zerolinecolor": "white"
           }
          },
          "shapedefaults": {
           "line": {
            "color": "#2a3f5f"
           }
          },
          "ternary": {
           "aaxis": {
            "gridcolor": "white",
            "linecolor": "white",
            "ticks": ""
           },
           "baxis": {
            "gridcolor": "white",
            "linecolor": "white",
            "ticks": ""
           },
           "bgcolor": "#E5ECF6",
           "caxis": {
            "gridcolor": "white",
            "linecolor": "white",
            "ticks": ""
           }
          },
          "title": {
           "x": 0.05
          },
          "xaxis": {
           "automargin": true,
           "gridcolor": "white",
           "linecolor": "white",
           "ticks": "",
           "title": {
            "standoff": 15
           },
           "zerolinecolor": "white",
           "zerolinewidth": 2
          },
          "yaxis": {
           "automargin": true,
           "gridcolor": "white",
           "linecolor": "white",
           "ticks": "",
           "title": {
            "standoff": 15
           },
           "zerolinecolor": "white",
           "zerolinewidth": 2
          }
         }
        },
        "xaxis": {
         "anchor": "y",
         "autorange": true,
         "constrain": "domain",
         "domain": [
          0.3304157549234136,
          0.6695842450765864
         ],
         "range": [
          -0.5,
          16.5
         ],
         "scaleanchor": "y",
         "type": "category"
        },
        "yaxis": {
         "anchor": "x",
         "autorange": true,
         "constrain": "domain",
         "domain": [
          0,
          1
         ],
         "range": [
          16.5,
          -0.5
         ],
         "type": "category"
        }
       }
      },
      "image/png": "[encoded data removed]",
      "text/html": [
       "<div>                            <div id=\"6801e91f-3337-4740-9ed1-d1502ec699a8\" class=\"plotly-graph-div\" style=\"height:525px; width:100%;\"></div>            <script type=\"text/javascript\">                require([\"plotly\"], function(Plotly) {                    window.PLOTLYENV=window.PLOTLYENV || {};                                    if (document.getElementById(\"6801e91f-3337-4740-9ed1-d1502ec699a8\")) {                    Plotly.newPlot(                        \"6801e91f-3337-4740-9ed1-d1502ec699a8\",                        [{\"coloraxis\": \"coloraxis\", \"hovertemplate\": \"x: %{x}<br>y: %{y}<br>color: %{z}<extra></extra>\", \"name\": \"0\", \"type\": \"heatmap\", \"x\": [\"sub_1\", \"sub_2\", \"sub_3\", \"sub_4\", \"sub_5\", \"sub_6\", \"sub_7\", \"sub_8\", \"sub_9\", \"sub_10\", \"sub_12\", \"sub_13\", \"sub_14\", \"sub_15\", \"sub_16\", \"sub_17\", \"sub_18\"], \"xaxis\": \"x\", \"y\": [\"sub_1\", \"sub_2\", \"sub_3\", \"sub_4\", \"sub_5\", \"sub_6\", \"sub_7\", \"sub_8\", \"sub_9\", \"sub_10\", \"sub_12\", \"sub_13\", \"sub_14\", \"sub_15\", \"sub_16\", \"sub_17\", \"sub_18\"], \"yaxis\": \"y\", \"z\": [[1.0, 0.9994166553718656, 0.9992326279119685, 0.9996041496407022, 0.9976998367134777, 0.997678974544979, 0.9993932388327031, 0.9999046346241901, 0.997847609706983, 0.9992439213175971, 0.999321279123274, 0.9995750122435603, 0.9975496886410334, 0.999533153148158, 0.9994639985717201, 0.9976029235374287, 0.9993914644354192], [0.9994166553718656, 1.0, 0.9994777011118935, 0.9992753846151159, 0.9978236704946981, 0.9972899680743831, 0.9999289484296733, 0.9994409041883283, 0.9978770597611345, 0.9988844609969979, 0.9995857235888382, 0.9992486881602831, 0.997667529901059, 0.9998932596343223, 0.9997707159106419, 0.9972009645614011, 0.999717318480286], [0.9992326279119685, 0.9994777011118935, 1.0, 0.9995650142440038, 0.9980490313787006, 0.9973269199774245, 0.999549117867797, 0.9992630990673584, 0.9972567501863673, 0.9986075448673515, 0.999920257960853, 0.9995672326193722, 0.9979778797852051, 0.99960204861202, 0.9996187865945538, 0.9972994929496657, 0.9994173708317657], [0.9996041496407022, 0.9992753846151159, 0.9995650142440038, 1.0, 0.9978917085504116, 0.9977810651011715, 0.9992843789669091, 0.9996467103364085, 0.9977294641341394, 0.9989900377449734, 0.9996131304348311, 0.9999527559313409, 0.9977795223868595, 0.9994217587369804, 0.999399842243106, 0.997734475604481, 0.9992809652400744], [0.9976998367134777, 0.9978236704946981, 0.9980490313787006, 0.9978917085504116, 1.0, 0.9988321592809851, 0.9978232692417823, 0.9977271164849729, 0.995697827503203, 0.9970054894320705, 0.9981022627873847, 0.9978736723110908, 0.9997725409951623, 0.9979061543996457, 0.9981472663829857, 0.9987734148048732, 0.9977248430478163], [0.997678974544979, 0.9972899680743831, 0.9973269199774245, 0.9977810651011715, 0.9988321592809851, 1.0, 0.9971998546581612, 0.9977074325198324, 0.9960618588538914, 0.9970250739040765, 0.9974741676043801, 0.9977440645589836, 0.9986725261864045, 0.9973443994974008, 0.9974865346559716, 0.999796460643938, 0.99729830900579], [0.9993932388327031, 0.9999289484296733, 0.999549117867797, 0.9992843789669091, 0.9978232692417823, 0.9971998546581612, 1.0, 0.9994219474140886, 0.9974762952115995, 0.9988137143857252, 0.9995990445867048, 0.9992828744383645, 0.9977176877105588, 0.9998978121580103, 0.9998276958528393, 0.9971441652543249, 0.9997379040733619], [0.9999046346241901, 0.9994409041883283, 0.9992630990673584, 0.9996467103364085, 0.9977271164849729, 0.9977074325198324, 0.9994219474140886, 1.0, 0.9979368088031223, 0.9992720668555956, 0.9993724786316326, 0.9996286884624442, 0.997581255271029, 0.9995610391314029, 0.999485942129209, 0.9976276461482475, 0.9994190367299369], [0.997847609706983, 0.9978770597611345, 0.9972567501863673, 0.9977294641341394, 0.995697827503203, 0.9960618588538914, 0.9974762952115995, 0.9979368088031223, 1.0, 0.9975671450493157, 0.9977203779026721, 0.9976243535345174, 0.995318833517272, 0.9977806599944636, 0.99725894016463, 0.9957949362973969, 0.9975068761583129], [0.9992439213175971, 0.9988844609969979, 0.9986075448673515, 0.9989900377449734, 0.9970054894320705, 0.9970250739040765, 0.9988137143857252, 0.9992720668555956, 0.9975671450493157, 1.0, 0.9987493800788152, 0.9989569525466842, 0.9968196793139552, 0.9989737926999399, 0.9988495283504736, 0.9969118486307023, 0.9988167130510539], [0.999321279123274, 0.9995857235888382, 0.999920257960853, 0.9996131304348311, 0.9981022627873847, 0.9974741676043801, 0.9995990445867048, 0.9993724786316326, 0.9977203779026721, 0.9987493800788152, 1.0, 0.9996182832360254, 0.9980076500923123, 0.999679979321047, 0.9996475747769702, 0.9974149036540333, 0.9994811620523797], [0.9995750122435603, 0.9992486881602831, 0.9995672326193722, 0.9999527559313409, 0.9978736723110908, 0.9977440645589836, 0.9992828744383645, 0.9996286884624442, 0.9976243535345174, 0.9989569525466842, 0.9996182832360254, 1.0, 0.9977889871181074, 0.9994134445135004, 0.9994005779509886, 0.9977062561351238, 0.9992773555859361], [0.9975496886410334, 0.997667529901059, 0.9979778797852051, 0.9977795223868595, 0.9997725409951623, 0.9986725261864045, 0.9977176877105588, 0.997581255271029, 0.995318833517272, 0.9968196793139552, 0.9980076500923123, 0.9977889871181074, 1.0, 0.9977834049677438, 0.9980627892116447, 0.9986937228785426, 0.9976141473078013], [0.999533153148158, 0.9998932596343223, 0.99960204861202, 0.9994217587369804, 0.9979061543996457, 0.9973443994974008, 0.9998978121580103, 0.9995610391314029, 0.9977806599944636, 0.9989737926999399, 0.999679979321047, 0.9994134445135004, 0.9977834049677438, 1.0, 0.9998836042158853, 0.9972733428450214, 0.999737180041838], [0.9994639985717201, 0.9997707159106419, 0.9996187865945538, 0.999399842243106, 0.9981472663829857, 0.9974865346559716, 0.9998276958528393, 0.999485942129209, 0.99725894016463, 0.9988495283504736, 0.9996475747769702, 0.9994005779509886, 0.9980627892116447, 0.9998836042158853, 1.0, 0.9974447936875439, 0.9996751676577326], [0.9976029235374287, 0.9972009645614011, 0.9972994929496657, 0.997734475604481, 0.9987734148048732, 0.999796460643938, 0.9971441652543249, 0.9976276461482475, 0.9957949362973969, 0.9969118486307023, 0.9974149036540333, 0.9977062561351238, 0.9986937228785426, 0.9972733428450214, 0.9974447936875439, 1.0, 0.9972372922346276], [0.9993914644354192, 0.999717318480286, 0.9994173708317657, 0.9992809652400744, 0.9977248430478163, 0.99729830900579, 0.9997379040733619, 0.9994190367299369, 0.9975068761583129, 0.9988167130510539, 0.9994811620523797, 0.9992773555859361, 0.9976141473078013, 0.999737180041838, 0.9996751676577326, 0.9972372922346276, 1.0]]}],                        {\"coloraxis\": {\"colorscale\": [[0.0, \"#0d0887\"], [0.1111111111111111, \"#46039f\"], [0.2222222222222222, \"#7201a8\"], [0.3333333333333333, \"#9c179e\"], [0.4444444444444444, \"#bd3786\"], [0.5555555555555556, \"#d8576b\"], [0.6666666666666666, \"#ed7953\"], [0.7777777777777778, \"#fb9f3a\"], [0.8888888888888888, \"#fdca26\"], [1.0, \"#f0f921\"]]}, \"margin\": {\"t\": 60}, \"template\": {\"data\": {\"bar\": [{\"error_x\": {\"color\": \"#2a3f5f\"}, \"error_y\": {\"color\": \"#2a3f5f\"}, \"marker\": {\"line\": {\"color\": \"#E5ECF6\", \"width\": 0.5}}, \"type\": \"bar\"}], \"barpolar\": [{\"marker\": {\"line\": {\"color\": \"#E5ECF6\", \"width\": 0.5}}, \"type\": \"barpolar\"}], \"carpet\": [{\"aaxis\": {\"endlinecolor\": \"#2a3f5f\", \"gridcolor\": \"white\", \"linecolor\": \"white\", \"minorgridcolor\": \"white\", \"startlinecolor\": \"#2a3f5f\"}, \"baxis\": {\"endlinecolor\": \"#2a3f5f\", \"gridcolor\": \"white\", \"linecolor\": \"white\", \"minorgridcolor\": \"white\", \"startlinecolor\": \"#2a3f5f\"}, \"type\": \"carpet\"}], \"choropleth\": [{\"colorbar\": {\"outlinewidth\": 0, \"ticks\": \"\"}, \"type\": \"choropleth\"}], \"contour\": [{\"colorbar\": {\"outlinewidth\": 0, \"ticks\": \"\"}, \"colorscale\": [[0.0, \"#0d0887\"], [0.1111111111111111, \"#46039f\"], [0.2222222222222222, \"#7201a8\"], [0.3333333333333333, \"#9c179e\"], [0.4444444444444444, \"#bd3786\"], [0.5555555555555556, \"#d8576b\"], [0.6666666666666666, \"#ed7953\"], [0.7777777777777778, \"#fb9f3a\"], [0.8888888888888888, \"#fdca26\"], [1.0, \"#f0f921\"]], \"type\": \"contour\"}], \"contourcarpet\": [{\"colorbar\": {\"outlinewidth\": 0, \"ticks\": \"\"}, \"type\": \"contourcarpet\"}], \"heatmap\": [{\"colorbar\": {\"outlinewidth\": 0, \"ticks\": \"\"}, \"colorscale\": [[0.0, \"#0d0887\"], [0.1111111111111111, \"#46039f\"], [0.2222222222222222, \"#7201a8\"], [0.3333333333333333, \"#9c179e\"], [0.4444444444444444, \"#bd3786\"], [0.5555555555555556, \"#d8576b\"], [0.6666666666666666, \"#ed7953\"], [0.7777777777777778, \"#fb9f3a\"], [0.8888888888888888, \"#fdca26\"], [1.0, \"#f0f921\"]], \"type\": \"heatmap\"}], \"heatmapgl\": [{\"colorbar\": {\"outlinewidth\": 0, \"ticks\": \"\"}, \"colorscale\": [[0.0, \"#0d0887\"], [0.1111111111111111, \"#46039f\"], [0.2222222222222222, \"#7201a8\"], [0.3333333333333333, \"#9c179e\"], [0.4444444444444444, \"#bd3786\"], [0.5555555555555556, \"#d8576b\"], [0.6666666666666666, \"#ed7953\"], [0.7777777777777778, \"#fb9f3a\"], [0.8888888888888888, \"#fdca26\"], [1.0, \"#f0f921\"]], \"type\": \"heatmapgl\"}], \"histogram\": [{\"marker\": {\"colorbar\": {\"outlinewidth\": 0, \"ticks\": \"\"}}, \"type\": \"histogram\"}], \"histogram2d\": [{\"colorbar\": {\"outlinewidth\": 0, \"ticks\": \"\"}, \"colorscale\": [[0.0, \"#0d0887\"], [0.1111111111111111, \"#46039f\"], [0.2222222222222222, \"#7201a8\"], [0.3333333333333333, \"#9c179e\"], [0.4444444444444444, \"#bd3786\"], [0.5555555555555556, \"#d8576b\"], [0.6666666666666666, \"#ed7953\"], [0.7777777777777778, \"#fb9f3a\"], [0.8888888888888888, \"#fdca26\"], [1.0, \"#f0f921\"]], \"type\": \"histogram2d\"}], \"histogram2dcontour\": [{\"colorbar\": {\"outlinewidth\": 0, \"ticks\": \"\"}, \"colorscale\": [[0.0, \"#0d0887\"], [0.1111111111111111, \"#46039f\"], [0.2222222222222222, \"#7201a8\"], [0.3333333333333333, \"#9c179e\"], [0.4444444444444444, \"#bd3786\"], [0.5555555555555556, \"#d8576b\"], [0.6666666666666666, \"#ed7953\"], [0.7777777777777778, \"#fb9f3a\"], [0.8888888888888888, \"#fdca26\"], [1.0, \"#f0f921\"]], \"type\": \"histogram2dcontour\"}], \"mesh3d\": [{\"colorbar\": {\"outlinewidth\": 0, \"ticks\": \"\"}, \"type\": \"mesh3d\"}], \"parcoords\": [{\"line\": {\"colorbar\": {\"outlinewidth\": 0, \"ticks\": \"\"}}, \"type\": \"parcoords\"}], \"pie\": [{\"automargin\": true, \"type\": \"pie\"}], \"scatter\": [{\"marker\": {\"colorbar\": {\"outlinewidth\": 0, \"ticks\": \"\"}}, \"type\": \"scatter\"}], \"scatter3d\": [{\"line\": {\"colorbar\": {\"outlinewidth\": 0, \"ticks\": \"\"}}, \"marker\": {\"colorbar\": {\"outlinewidth\": 0, \"ticks\": \"\"}}, \"type\": \"scatter3d\"}], \"scattercarpet\": [{\"marker\": {\"colorbar\": {\"outlinewidth\": 0, \"ticks\": \"\"}}, \"type\": \"scattercarpet\"}], \"scattergeo\": [{\"marker\": {\"colorbar\": {\"outlinewidth\": 0, \"ticks\": \"\"}}, \"type\": \"scattergeo\"}], \"scattergl\": [{\"marker\": {\"colorbar\": {\"outlinewidth\": 0, \"ticks\": \"\"}}, \"type\": \"scattergl\"}], \"scattermapbox\": [{\"marker\": {\"colorbar\": {\"outlinewidth\": 0, \"ticks\": \"\"}}, \"type\": \"scattermapbox\"}], \"scatterpolar\": [{\"marker\": {\"colorbar\": {\"outlinewidth\": 0, \"ticks\": \"\"}}, \"type\": \"scatterpolar\"}], \"scatterpolargl\": [{\"marker\": {\"colorbar\": {\"outlinewidth\": 0, \"ticks\": \"\"}}, \"type\": \"scatterpolargl\"}], \"scatterternary\": [{\"marker\": {\"colorbar\": {\"outlinewidth\": 0, \"ticks\": \"\"}}, \"type\": \"scatterternary\"}], \"surface\": [{\"colorbar\": {\"outlinewidth\": 0, \"ticks\": \"\"}, \"colorscale\": [[0.0, \"#0d0887\"], [0.1111111111111111, \"#46039f\"], [0.2222222222222222, \"#7201a8\"], [0.3333333333333333, \"#9c179e\"], [0.4444444444444444, \"#bd3786\"], [0.5555555555555556, \"#d8576b\"], [0.6666666666666666, \"#ed7953\"], [0.7777777777777778, \"#fb9f3a\"], [0.8888888888888888, \"#fdca26\"], [1.0, \"#f0f921\"]], \"type\": \"surface\"}], \"table\": [{\"cells\": {\"fill\": {\"color\": \"#EBF0F8\"}, \"line\": {\"color\": \"white\"}}, \"header\": {\"fill\": {\"color\": \"#C8D4E3\"}, \"line\": {\"color\": \"white\"}}, \"type\": \"table\"}]}, \"layout\": {\"annotationdefaults\": {\"arrowcolor\": \"#2a3f5f\", \"arrowhead\": 0, \"arrowwidth\": 1}, \"autotypenumbers\": \"strict\", \"coloraxis\": {\"colorbar\": {\"outlinewidth\": 0, \"ticks\": \"\"}}, \"colorscale\": {\"diverging\": [[0, \"#8e0152\"], [0.1, \"#c51b7d\"], [0.2, \"#de77ae\"], [0.3, \"#f1b6da\"], [0.4, \"#fde0ef\"], [0.5, \"#f7f7f7\"], [0.6, \"#e6f5d0\"], [0.7, \"#b8e186\"], [0.8, \"#7fbc41\"], [0.9, \"#4d9221\"], [1, \"#276419\"]], \"sequential\": [[0.0, \"#0d0887\"], [0.1111111111111111, \"#46039f\"], [0.2222222222222222, \"#7201a8\"], [0.3333333333333333, \"#9c179e\"], [0.4444444444444444, \"#bd3786\"], [0.5555555555555556, \"#d8576b\"], [0.6666666666666666, \"#ed7953\"], [0.7777777777777778, \"#fb9f3a\"], [0.8888888888888888, \"#fdca26\"], [1.0, \"#f0f921\"]], \"sequentialminus\": [[0.0, \"#0d0887\"], [0.1111111111111111, \"#46039f\"], [0.2222222222222222, \"#7201a8\"], [0.3333333333333333, \"#9c179e\"], [0.4444444444444444, \"#bd3786\"], [0.5555555555555556, \"#d8576b\"], [0.6666666666666666, \"#ed7953\"], [0.7777777777777778, \"#fb9f3a\"], [0.8888888888888888, \"#fdca26\"], [1.0, \"#f0f921\"]]}, \"colorway\": [\"#636efa\", \"#EF553B\", \"#00cc96\", \"#ab63fa\", \"#FFA15A\", \"#19d3f3\", \"#FF6692\", \"#B6E880\", \"#FF97FF\", \"#FECB52\"], \"font\": {\"color\": \"#2a3f5f\"}, \"geo\": {\"bgcolor\": \"white\", \"lakecolor\": \"white\", \"landcolor\": \"#E5ECF6\", \"showlakes\": true, \"showland\": true, \"subunitcolor\": \"white\"}, \"hoverlabel\": {\"align\": \"left\"}, \"hovermode\": \"closest\", \"mapbox\": {\"style\": \"light\"}, \"paper_bgcolor\": \"white\", \"plot_bgcolor\": \"#E5ECF6\", \"polar\": {\"angularaxis\": {\"gridcolor\": \"white\", \"linecolor\": \"white\", \"ticks\": \"\"}, \"bgcolor\": \"#E5ECF6\", \"radialaxis\": {\"gridcolor\": \"white\", \"linecolor\": \"white\", \"ticks\": \"\"}}, \"scene\": {\"xaxis\": {\"backgroundcolor\": \"#E5ECF6\", \"gridcolor\": \"white\", \"gridwidth\": 2, \"linecolor\": \"white\", \"showbackground\": true, \"ticks\": \"\", \"zerolinecolor\": \"white\"}, \"yaxis\": {\"backgroundcolor\": \"#E5ECF6\", \"gridcolor\": \"white\", \"gridwidth\": 2, \"linecolor\": \"white\", \"showbackground\": true, \"ticks\": \"\", \"zerolinecolor\": \"white\"}, \"zaxis\": {\"backgroundcolor\": \"#E5ECF6\", \"gridcolor\": \"white\", \"gridwidth\": 2, \"linecolor\": \"white\", \"showbackground\": true, \"ticks\": \"\", \"zerolinecolor\": \"white\"}}, \"shapedefaults\": {\"line\": {\"color\": \"#2a3f5f\"}}, \"ternary\": {\"aaxis\": {\"gridcolor\": \"white\", \"linecolor\": \"white\", \"ticks\": \"\"}, \"baxis\": {\"gridcolor\": \"white\", \"linecolor\": \"white\", \"ticks\": \"\"}, \"bgcolor\": \"#E5ECF6\", \"caxis\": {\"gridcolor\": \"white\", \"linecolor\": \"white\", \"ticks\": \"\"}}, \"title\": {\"x\": 0.05}, \"xaxis\": {\"automargin\": true, \"gridcolor\": \"white\", \"linecolor\": \"white\", \"ticks\": \"\", \"title\": {\"standoff\": 15}, \"zerolinecolor\": \"white\", \"zerolinewidth\": 2}, \"yaxis\": {\"automargin\": true, \"gridcolor\": \"white\", \"linecolor\": \"white\", \"ticks\": \"\", \"title\": {\"standoff\": 15}, \"zerolinecolor\": \"white\", \"zerolinewidth\": 2}}}, \"xaxis\": {\"anchor\": \"y\", \"constrain\": \"domain\", \"domain\": [0.0, 1.0], \"scaleanchor\": \"y\"}, \"yaxis\": {\"anchor\": \"x\", \"autorange\": \"reversed\", \"constrain\": \"domain\", \"domain\": [0.0, 1.0]}},                        {\"responsive\": true}                    ).then(function(){\n",
       "                            \n",
       "var gd = document.getElementById('6801e91f-3337-4740-9ed1-d1502ec699a8');\n",
       "var x = new MutationObserver(function (mutations, observer) {{\n",
       "        var display = window.getComputedStyle(gd).display;\n",
       "        if (!display || display === 'none') {{\n",
       "            console.log([gd, 'removed!']);\n",
       "            Plotly.purge(gd);\n",
       "            observer.disconnect();\n",
       "        }}\n",
       "}});\n",
       "\n",
       "// Listen for the removal of the full notebook cells\n",
       "var notebookContainer = gd.closest('#notebook-container');\n",
       "if (notebookContainer) {{\n",
       "    x.observe(notebookContainer, {childList: true});\n",
       "}}\n",
       "\n",
       "// Listen for the clearing of the current output cell\n",
       "var outputEl = gd.closest('.output');\n",
       "if (outputEl) {{\n",
       "    x.observe(outputEl, {childList: true});\n",
       "}}\n",
       "\n",
       "                        })                };                });            </script>        </div>"
      ]
     },
     "metadata": {},
     "output_type": "display_data"
    }
   ],
   "source": [
    "fig=px.imshow(l1_test_df.drop([\"sub_11\"], axis=1).corr())\n",
    "\n",
    "fig.show()"
   ]
  },
  {
   "cell_type": "code",
   "execution_count": null,
   "id": "enclosed-linux",
   "metadata": {},
   "outputs": [],
   "source": [
    "1, 3, 4, 5, 6, 8, 9"
   ]
  },
  {
   "cell_type": "code",
   "execution_count": 22,
   "id": "worst-kitty",
   "metadata": {},
   "outputs": [
    {
     "data": {
      "text/html": [
       "<div>\n",
       "<style scoped>\n",
       "    .dataframe tbody tr th:only-of-type {\n",
       "        vertical-align: middle;\n",
       "    }\n",
       "\n",
       "    .dataframe tbody tr th {\n",
       "        vertical-align: top;\n",
       "    }\n",
       "\n",
       "    .dataframe thead th {\n",
       "        text-align: right;\n",
       "    }\n",
       "</style>\n",
       "<table border=\"1\" class=\"dataframe\">\n",
       "  <thead>\n",
       "    <tr style=\"text-align: right;\">\n",
       "      <th></th>\n",
       "      <th>id</th>\n",
       "      <th>claim</th>\n",
       "    </tr>\n",
       "  </thead>\n",
       "  <tbody>\n",
       "    <tr>\n",
       "      <th>0</th>\n",
       "      <td>957919</td>\n",
       "      <td>0.558345</td>\n",
       "    </tr>\n",
       "    <tr>\n",
       "      <th>1</th>\n",
       "      <td>957920</td>\n",
       "      <td>0.120681</td>\n",
       "    </tr>\n",
       "    <tr>\n",
       "      <th>2</th>\n",
       "      <td>957921</td>\n",
       "      <td>0.626777</td>\n",
       "    </tr>\n",
       "    <tr>\n",
       "      <th>3</th>\n",
       "      <td>957922</td>\n",
       "      <td>0.129860</td>\n",
       "    </tr>\n",
       "    <tr>\n",
       "      <th>4</th>\n",
       "      <td>957923</td>\n",
       "      <td>0.152024</td>\n",
       "    </tr>\n",
       "  </tbody>\n",
       "</table>\n",
       "</div>"
      ],
      "text/plain": [
       "       id     claim\n",
       "0  957919  0.558345\n",
       "1  957920  0.120681\n",
       "2  957921  0.626777\n",
       "3  957922  0.129860\n",
       "4  957923  0.152024"
      ]
     },
     "execution_count": 22,
     "metadata": {},
     "output_type": "execute_result"
    }
   ],
   "source": [
    "sub_5.head()"
   ]
  },
  {
   "cell_type": "code",
   "execution_count": 19,
   "id": "impressed-enemy",
   "metadata": {},
   "outputs": [],
   "source": [
    "group_labels = ['cat_imp', 'xgb_imp', 'cat_no_imp', 'lgb_imp', 'lgb_no_imp', \"xgb_no_imp\"]"
   ]
  },
  {
   "cell_type": "code",
   "execution_count": 20,
   "id": "super-april",
   "metadata": {},
   "outputs": [
    {
     "data": {
      "application/vnd.plotly.v1+json": {
       "config": {
        "plotlyServerURL": "https://plot.ly"
       },
       "data": [
        {
         "coloraxis": "coloraxis",
         "hovertemplate": "x: %{x}<br>y: %{y}<br>color: %{z}<extra></extra>",
         "name": "0",
         "type": "heatmap",
         "x": [
          "cat_imp",
          "xgb_imp",
          "cat_no_imp",
          "lgb_imp",
          "lgb_no_imp",
          "xgb_no_imp"
         ],
         "xaxis": "x",
         "y": [
          "cat_imp",
          "xgb_imp",
          "cat_no_imp",
          "lgb_imp",
          "lgb_no_imp",
          "xgb_no_imp"
         ],
         "yaxis": "y",
         "z": [
          [
           1,
           0.9980490313786795,
           0.9988321592809569,
           0.9978220435686005,
           0.9978220435686005,
           0.9978917085503954
          ],
          [
           0.9980490313786795,
           1,
           0.997326919977427,
           0.9995089625695124,
           0.9995089625695124,
           0.9995650142440112
          ],
          [
           0.9988321592809569,
           0.9973269199774271,
           1,
           0.9972268685922122,
           0.9972268685922122,
           0.9977810651011824
          ],
          [
           0.9978220435686005,
           0.9995089625695124,
           0.9972268685922122,
           1,
           1,
           0.9992626707273682
          ],
          [
           0.9978220435686005,
           0.9995089625695124,
           0.9972268685922122,
           1,
           1,
           0.9992626707273682
          ],
          [
           0.9978917085503956,
           0.9995650142440113,
           0.9977810651011824,
           0.9992626707273684,
           0.9992626707273684,
           1
          ]
         ]
        }
       ],
       "layout": {
        "autosize": true,
        "coloraxis": {
         "colorscale": [
          [
           0,
           "#0d0887"
          ],
          [
           0.1111111111111111,
           "#46039f"
          ],
          [
           0.2222222222222222,
           "#7201a8"
          ],
          [
           0.3333333333333333,
           "#9c179e"
          ],
          [
           0.4444444444444444,
           "#bd3786"
          ],
          [
           0.5555555555555556,
           "#d8576b"
          ],
          [
           0.6666666666666666,
           "#ed7953"
          ],
          [
           0.7777777777777778,
           "#fb9f3a"
          ],
          [
           0.8888888888888888,
           "#fdca26"
          ],
          [
           1,
           "#f0f921"
          ]
         ]
        },
        "margin": {
         "t": 60
        },
        "template": {
         "data": {
          "bar": [
           {
            "error_x": {
             "color": "#2a3f5f"
            },
            "error_y": {
             "color": "#2a3f5f"
            },
            "marker": {
             "line": {
              "color": "#E5ECF6",
              "width": 0.5
             }
            },
            "type": "bar"
           }
          ],
          "barpolar": [
           {
            "marker": {
             "line": {
              "color": "#E5ECF6",
              "width": 0.5
             }
            },
            "type": "barpolar"
           }
          ],
          "carpet": [
           {
            "aaxis": {
             "endlinecolor": "#2a3f5f",
             "gridcolor": "white",
             "linecolor": "white",
             "minorgridcolor": "white",
             "startlinecolor": "#2a3f5f"
            },
            "baxis": {
             "endlinecolor": "#2a3f5f",
             "gridcolor": "white",
             "linecolor": "white",
             "minorgridcolor": "white",
             "startlinecolor": "#2a3f5f"
            },
            "type": "carpet"
           }
          ],
          "choropleth": [
           {
            "colorbar": {
             "outlinewidth": 0,
             "ticks": ""
            },
            "type": "choropleth"
           }
          ],
          "contour": [
           {
            "colorbar": {
             "outlinewidth": 0,
             "ticks": ""
            },
            "colorscale": [
             [
              0,
              "#0d0887"
             ],
             [
              0.1111111111111111,
              "#46039f"
             ],
             [
              0.2222222222222222,
              "#7201a8"
             ],
             [
              0.3333333333333333,
              "#9c179e"
             ],
             [
              0.4444444444444444,
              "#bd3786"
             ],
             [
              0.5555555555555556,
              "#d8576b"
             ],
             [
              0.6666666666666666,
              "#ed7953"
             ],
             [
              0.7777777777777778,
              "#fb9f3a"
             ],
             [
              0.8888888888888888,
              "#fdca26"
             ],
             [
              1,
              "#f0f921"
             ]
            ],
            "type": "contour"
           }
          ],
          "contourcarpet": [
           {
            "colorbar": {
             "outlinewidth": 0,
             "ticks": ""
            },
            "type": "contourcarpet"
           }
          ],
          "heatmap": [
           {
            "colorbar": {
             "outlinewidth": 0,
             "ticks": ""
            },
            "colorscale": [
             [
              0,
              "#0d0887"
             ],
             [
              0.1111111111111111,
              "#46039f"
             ],
             [
              0.2222222222222222,
              "#7201a8"
             ],
             [
              0.3333333333333333,
              "#9c179e"
             ],
             [
              0.4444444444444444,
              "#bd3786"
             ],
             [
              0.5555555555555556,
              "#d8576b"
             ],
             [
              0.6666666666666666,
              "#ed7953"
             ],
             [
              0.7777777777777778,
              "#fb9f3a"
             ],
             [
              0.8888888888888888,
              "#fdca26"
             ],
             [
              1,
              "#f0f921"
             ]
            ],
            "type": "heatmap"
           }
          ],
          "heatmapgl": [
           {
            "colorbar": {
             "outlinewidth": 0,
             "ticks": ""
            },
            "colorscale": [
             [
              0,
              "#0d0887"
             ],
             [
              0.1111111111111111,
              "#46039f"
             ],
             [
              0.2222222222222222,
              "#7201a8"
             ],
             [
              0.3333333333333333,
              "#9c179e"
             ],
             [
              0.4444444444444444,
              "#bd3786"
             ],
             [
              0.5555555555555556,
              "#d8576b"
             ],
             [
              0.6666666666666666,
              "#ed7953"
             ],
             [
              0.7777777777777778,
              "#fb9f3a"
             ],
             [
              0.8888888888888888,
              "#fdca26"
             ],
             [
              1,
              "#f0f921"
             ]
            ],
            "type": "heatmapgl"
           }
          ],
          "histogram": [
           {
            "marker": {
             "colorbar": {
              "outlinewidth": 0,
              "ticks": ""
             }
            },
            "type": "histogram"
           }
          ],
          "histogram2d": [
           {
            "colorbar": {
             "outlinewidth": 0,
             "ticks": ""
            },
            "colorscale": [
             [
              0,
              "#0d0887"
             ],
             [
              0.1111111111111111,
              "#46039f"
             ],
             [
              0.2222222222222222,
              "#7201a8"
             ],
             [
              0.3333333333333333,
              "#9c179e"
             ],
             [
              0.4444444444444444,
              "#bd3786"
             ],
             [
              0.5555555555555556,
              "#d8576b"
             ],
             [
              0.6666666666666666,
              "#ed7953"
             ],
             [
              0.7777777777777778,
              "#fb9f3a"
             ],
             [
              0.8888888888888888,
              "#fdca26"
             ],
             [
              1,
              "#f0f921"
             ]
            ],
            "type": "histogram2d"
           }
          ],
          "histogram2dcontour": [
           {
            "colorbar": {
             "outlinewidth": 0,
             "ticks": ""
            },
            "colorscale": [
             [
              0,
              "#0d0887"
             ],
             [
              0.1111111111111111,
              "#46039f"
             ],
             [
              0.2222222222222222,
              "#7201a8"
             ],
             [
              0.3333333333333333,
              "#9c179e"
             ],
             [
              0.4444444444444444,
              "#bd3786"
             ],
             [
              0.5555555555555556,
              "#d8576b"
             ],
             [
              0.6666666666666666,
              "#ed7953"
             ],
             [
              0.7777777777777778,
              "#fb9f3a"
             ],
             [
              0.8888888888888888,
              "#fdca26"
             ],
             [
              1,
              "#f0f921"
             ]
            ],
            "type": "histogram2dcontour"
           }
          ],
          "mesh3d": [
           {
            "colorbar": {
             "outlinewidth": 0,
             "ticks": ""
            },
            "type": "mesh3d"
           }
          ],
          "parcoords": [
           {
            "line": {
             "colorbar": {
              "outlinewidth": 0,
              "ticks": ""
             }
            },
            "type": "parcoords"
           }
          ],
          "pie": [
           {
            "automargin": true,
            "type": "pie"
           }
          ],
          "scatter": [
           {
            "marker": {
             "colorbar": {
              "outlinewidth": 0,
              "ticks": ""
             }
            },
            "type": "scatter"
           }
          ],
          "scatter3d": [
           {
            "line": {
             "colorbar": {
              "outlinewidth": 0,
              "ticks": ""
             }
            },
            "marker": {
             "colorbar": {
              "outlinewidth": 0,
              "ticks": ""
             }
            },
            "type": "scatter3d"
           }
          ],
          "scattercarpet": [
           {
            "marker": {
             "colorbar": {
              "outlinewidth": 0,
              "ticks": ""
             }
            },
            "type": "scattercarpet"
           }
          ],
          "scattergeo": [
           {
            "marker": {
             "colorbar": {
              "outlinewidth": 0,
              "ticks": ""
             }
            },
            "type": "scattergeo"
           }
          ],
          "scattergl": [
           {
            "marker": {
             "colorbar": {
              "outlinewidth": 0,
              "ticks": ""
             }
            },
            "type": "scattergl"
           }
          ],
          "scattermapbox": [
           {
            "marker": {
             "colorbar": {
              "outlinewidth": 0,
              "ticks": ""
             }
            },
            "type": "scattermapbox"
           }
          ],
          "scatterpolar": [
           {
            "marker": {
             "colorbar": {
              "outlinewidth": 0,
              "ticks": ""
             }
            },
            "type": "scatterpolar"
           }
          ],
          "scatterpolargl": [
           {
            "marker": {
             "colorbar": {
              "outlinewidth": 0,
              "ticks": ""
             }
            },
            "type": "scatterpolargl"
           }
          ],
          "scatterternary": [
           {
            "marker": {
             "colorbar": {
              "outlinewidth": 0,
              "ticks": ""
             }
            },
            "type": "scatterternary"
           }
          ],
          "surface": [
           {
            "colorbar": {
             "outlinewidth": 0,
             "ticks": ""
            },
            "colorscale": [
             [
              0,
              "#0d0887"
             ],
             [
              0.1111111111111111,
              "#46039f"
             ],
             [
              0.2222222222222222,
              "#7201a8"
             ],
             [
              0.3333333333333333,
              "#9c179e"
             ],
             [
              0.4444444444444444,
              "#bd3786"
             ],
             [
              0.5555555555555556,
              "#d8576b"
             ],
             [
              0.6666666666666666,
              "#ed7953"
             ],
             [
              0.7777777777777778,
              "#fb9f3a"
             ],
             [
              0.8888888888888888,
              "#fdca26"
             ],
             [
              1,
              "#f0f921"
             ]
            ],
            "type": "surface"
           }
          ],
          "table": [
           {
            "cells": {
             "fill": {
              "color": "#EBF0F8"
             },
             "line": {
              "color": "white"
             }
            },
            "header": {
             "fill": {
              "color": "#C8D4E3"
             },
             "line": {
              "color": "white"
             }
            },
            "type": "table"
           }
          ]
         },
         "layout": {
          "annotationdefaults": {
           "arrowcolor": "#2a3f5f",
           "arrowhead": 0,
           "arrowwidth": 1
          },
          "autotypenumbers": "strict",
          "coloraxis": {
           "colorbar": {
            "outlinewidth": 0,
            "ticks": ""
           }
          },
          "colorscale": {
           "diverging": [
            [
             0,
             "#8e0152"
            ],
            [
             0.1,
             "#c51b7d"
            ],
            [
             0.2,
             "#de77ae"
            ],
            [
             0.3,
             "#f1b6da"
            ],
            [
             0.4,
             "#fde0ef"
            ],
            [
             0.5,
             "#f7f7f7"
            ],
            [
             0.6,
             "#e6f5d0"
            ],
            [
             0.7,
             "#b8e186"
            ],
            [
             0.8,
             "#7fbc41"
            ],
            [
             0.9,
             "#4d9221"
            ],
            [
             1,
             "#276419"
            ]
           ],
           "sequential": [
            [
             0,
             "#0d0887"
            ],
            [
             0.1111111111111111,
             "#46039f"
            ],
            [
             0.2222222222222222,
             "#7201a8"
            ],
            [
             0.3333333333333333,
             "#9c179e"
            ],
            [
             0.4444444444444444,
             "#bd3786"
            ],
            [
             0.5555555555555556,
             "#d8576b"
            ],
            [
             0.6666666666666666,
             "#ed7953"
            ],
            [
             0.7777777777777778,
             "#fb9f3a"
            ],
            [
             0.8888888888888888,
             "#fdca26"
            ],
            [
             1,
             "#f0f921"
            ]
           ],
           "sequentialminus": [
            [
             0,
             "#0d0887"
            ],
            [
             0.1111111111111111,
             "#46039f"
            ],
            [
             0.2222222222222222,
             "#7201a8"
            ],
            [
             0.3333333333333333,
             "#9c179e"
            ],
            [
             0.4444444444444444,
             "#bd3786"
            ],
            [
             0.5555555555555556,
             "#d8576b"
            ],
            [
             0.6666666666666666,
             "#ed7953"
            ],
            [
             0.7777777777777778,
             "#fb9f3a"
            ],
            [
             0.8888888888888888,
             "#fdca26"
            ],
            [
             1,
             "#f0f921"
            ]
           ]
          },
          "colorway": [
           "#636efa",
           "#EF553B",
           "#00cc96",
           "#ab63fa",
           "#FFA15A",
           "#19d3f3",
           "#FF6692",
           "#B6E880",
           "#FF97FF",
           "#FECB52"
          ],
          "font": {
           "color": "#2a3f5f"
          },
          "geo": {
           "bgcolor": "white",
           "lakecolor": "white",
           "landcolor": "#E5ECF6",
           "showlakes": true,
           "showland": true,
           "subunitcolor": "white"
          },
          "hoverlabel": {
           "align": "left"
          },
          "hovermode": "closest",
          "mapbox": {
           "style": "light"
          },
          "paper_bgcolor": "white",
          "plot_bgcolor": "#E5ECF6",
          "polar": {
           "angularaxis": {
            "gridcolor": "white",
            "linecolor": "white",
            "ticks": ""
           },
           "bgcolor": "#E5ECF6",
           "radialaxis": {
            "gridcolor": "white",
            "linecolor": "white",
            "ticks": ""
           }
          },
          "scene": {
           "xaxis": {
            "backgroundcolor": "#E5ECF6",
            "gridcolor": "white",
            "gridwidth": 2,
            "linecolor": "white",
            "showbackground": true,
            "ticks": "",
            "zerolinecolor": "white"
           },
           "yaxis": {
            "backgroundcolor": "#E5ECF6",
            "gridcolor": "white",
            "gridwidth": 2,
            "linecolor": "white",
            "showbackground": true,
            "ticks": "",
            "zerolinecolor": "white"
           },
           "zaxis": {
            "backgroundcolor": "#E5ECF6",
            "gridcolor": "white",
            "gridwidth": 2,
            "linecolor": "white",
            "showbackground": true,
            "ticks": "",
            "zerolinecolor": "white"
           }
          },
          "shapedefaults": {
           "line": {
            "color": "#2a3f5f"
           }
          },
          "ternary": {
           "aaxis": {
            "gridcolor": "white",
            "linecolor": "white",
            "ticks": ""
           },
           "baxis": {
            "gridcolor": "white",
            "linecolor": "white",
            "ticks": ""
           },
           "bgcolor": "#E5ECF6",
           "caxis": {
            "gridcolor": "white",
            "linecolor": "white",
            "ticks": ""
           }
          },
          "title": {
           "x": 0.05
          },
          "xaxis": {
           "automargin": true,
           "gridcolor": "white",
           "linecolor": "white",
           "ticks": "",
           "title": {
            "standoff": 15
           },
           "zerolinecolor": "white",
           "zerolinewidth": 2
          },
          "yaxis": {
           "automargin": true,
           "gridcolor": "white",
           "linecolor": "white",
           "ticks": "",
           "title": {
            "standoff": 15
           },
           "zerolinecolor": "white",
           "zerolinewidth": 2
          }
         }
        },
        "xaxis": {
         "anchor": "y",
         "autorange": true,
         "constrain": "domain",
         "domain": [
          0.3820395738203958,
          0.6179604261796042
         ],
         "range": [
          -0.5,
          5.5
         ],
         "scaleanchor": "y",
         "type": "category"
        },
        "yaxis": {
         "anchor": "x",
         "autorange": true,
         "constrain": "domain",
         "domain": [
          0.15487062404870633,
          0.8451293759512937
         ],
         "range": [
          5.5,
          -0.5
         ],
         "type": "category"
        }
       }
      },
      "image/png": "[encoded data removed]",
      "text/html": [
       "<div>                            <div id=\"82d64dd3-d447-4e27-a3a8-b4129bbd2e1d\" class=\"plotly-graph-div\" style=\"height:525px; width:100%;\"></div>            <script type=\"text/javascript\">                require([\"plotly\"], function(Plotly) {                    window.PLOTLYENV=window.PLOTLYENV || {};                                    if (document.getElementById(\"82d64dd3-d447-4e27-a3a8-b4129bbd2e1d\")) {                    Plotly.newPlot(                        \"82d64dd3-d447-4e27-a3a8-b4129bbd2e1d\",                        [{\"coloraxis\": \"coloraxis\", \"hovertemplate\": \"x: %{x}<br>y: %{y}<br>color: %{z}<extra></extra>\", \"name\": \"0\", \"type\": \"heatmap\", \"x\": [\"cat_imp\", \"xgb_imp\", \"cat_no_imp\", \"lgb_imp\", \"lgb_no_imp\", \"xgb_no_imp\"], \"xaxis\": \"x\", \"y\": [\"cat_imp\", \"xgb_imp\", \"cat_no_imp\", \"lgb_imp\", \"lgb_no_imp\", \"xgb_no_imp\"], \"yaxis\": \"y\", \"z\": [[1.0, 0.9980490313786795, 0.9988321592809569, 0.9978220435686005, 0.9978220435686005, 0.9978917085503954], [0.9980490313786795, 1.0, 0.997326919977427, 0.9995089625695124, 0.9995089625695124, 0.9995650142440112], [0.9988321592809569, 0.9973269199774271, 1.0, 0.9972268685922122, 0.9972268685922122, 0.9977810651011824], [0.9978220435686005, 0.9995089625695124, 0.9972268685922122, 1.0, 1.0, 0.9992626707273682], [0.9978220435686005, 0.9995089625695124, 0.9972268685922122, 1.0, 1.0, 0.9992626707273682], [0.9978917085503956, 0.9995650142440113, 0.9977810651011824, 0.9992626707273684, 0.9992626707273684, 1.0]]}],                        {\"coloraxis\": {\"colorscale\": [[0.0, \"#0d0887\"], [0.1111111111111111, \"#46039f\"], [0.2222222222222222, \"#7201a8\"], [0.3333333333333333, \"#9c179e\"], [0.4444444444444444, \"#bd3786\"], [0.5555555555555556, \"#d8576b\"], [0.6666666666666666, \"#ed7953\"], [0.7777777777777778, \"#fb9f3a\"], [0.8888888888888888, \"#fdca26\"], [1.0, \"#f0f921\"]]}, \"margin\": {\"t\": 60}, \"template\": {\"data\": {\"bar\": [{\"error_x\": {\"color\": \"#2a3f5f\"}, \"error_y\": {\"color\": \"#2a3f5f\"}, \"marker\": {\"line\": {\"color\": \"#E5ECF6\", \"width\": 0.5}}, \"type\": \"bar\"}], \"barpolar\": [{\"marker\": {\"line\": {\"color\": \"#E5ECF6\", \"width\": 0.5}}, \"type\": \"barpolar\"}], \"carpet\": [{\"aaxis\": {\"endlinecolor\": \"#2a3f5f\", \"gridcolor\": \"white\", \"linecolor\": \"white\", \"minorgridcolor\": \"white\", \"startlinecolor\": \"#2a3f5f\"}, \"baxis\": {\"endlinecolor\": \"#2a3f5f\", \"gridcolor\": \"white\", \"linecolor\": \"white\", \"minorgridcolor\": \"white\", \"startlinecolor\": \"#2a3f5f\"}, \"type\": \"carpet\"}], \"choropleth\": [{\"colorbar\": {\"outlinewidth\": 0, \"ticks\": \"\"}, \"type\": \"choropleth\"}], \"contour\": [{\"colorbar\": {\"outlinewidth\": 0, \"ticks\": \"\"}, \"colorscale\": [[0.0, \"#0d0887\"], [0.1111111111111111, \"#46039f\"], [0.2222222222222222, \"#7201a8\"], [0.3333333333333333, \"#9c179e\"], [0.4444444444444444, \"#bd3786\"], [0.5555555555555556, \"#d8576b\"], [0.6666666666666666, \"#ed7953\"], [0.7777777777777778, \"#fb9f3a\"], [0.8888888888888888, \"#fdca26\"], [1.0, \"#f0f921\"]], \"type\": \"contour\"}], \"contourcarpet\": [{\"colorbar\": {\"outlinewidth\": 0, \"ticks\": \"\"}, \"type\": \"contourcarpet\"}], \"heatmap\": [{\"colorbar\": {\"outlinewidth\": 0, \"ticks\": \"\"}, \"colorscale\": [[0.0, \"#0d0887\"], [0.1111111111111111, \"#46039f\"], [0.2222222222222222, \"#7201a8\"], [0.3333333333333333, \"#9c179e\"], [0.4444444444444444, \"#bd3786\"], [0.5555555555555556, \"#d8576b\"], [0.6666666666666666, \"#ed7953\"], [0.7777777777777778, \"#fb9f3a\"], [0.8888888888888888, \"#fdca26\"], [1.0, \"#f0f921\"]], \"type\": \"heatmap\"}], \"heatmapgl\": [{\"colorbar\": {\"outlinewidth\": 0, \"ticks\": \"\"}, \"colorscale\": [[0.0, \"#0d0887\"], [0.1111111111111111, \"#46039f\"], [0.2222222222222222, \"#7201a8\"], [0.3333333333333333, \"#9c179e\"], [0.4444444444444444, \"#bd3786\"], [0.5555555555555556, \"#d8576b\"], [0.6666666666666666, \"#ed7953\"], [0.7777777777777778, \"#fb9f3a\"], [0.8888888888888888, \"#fdca26\"], [1.0, \"#f0f921\"]], \"type\": \"heatmapgl\"}], \"histogram\": [{\"marker\": {\"colorbar\": {\"outlinewidth\": 0, \"ticks\": \"\"}}, \"type\": \"histogram\"}], \"histogram2d\": [{\"colorbar\": {\"outlinewidth\": 0, \"ticks\": \"\"}, \"colorscale\": [[0.0, \"#0d0887\"], [0.1111111111111111, \"#46039f\"], [0.2222222222222222, \"#7201a8\"], [0.3333333333333333, \"#9c179e\"], [0.4444444444444444, \"#bd3786\"], [0.5555555555555556, \"#d8576b\"], [0.6666666666666666, \"#ed7953\"], [0.7777777777777778, \"#fb9f3a\"], [0.8888888888888888, \"#fdca26\"], [1.0, \"#f0f921\"]], \"type\": \"histogram2d\"}], \"histogram2dcontour\": [{\"colorbar\": {\"outlinewidth\": 0, \"ticks\": \"\"}, \"colorscale\": [[0.0, \"#0d0887\"], [0.1111111111111111, \"#46039f\"], [0.2222222222222222, \"#7201a8\"], [0.3333333333333333, \"#9c179e\"], [0.4444444444444444, \"#bd3786\"], [0.5555555555555556, \"#d8576b\"], [0.6666666666666666, \"#ed7953\"], [0.7777777777777778, \"#fb9f3a\"], [0.8888888888888888, \"#fdca26\"], [1.0, \"#f0f921\"]], \"type\": \"histogram2dcontour\"}], \"mesh3d\": [{\"colorbar\": {\"outlinewidth\": 0, \"ticks\": \"\"}, \"type\": \"mesh3d\"}], \"parcoords\": [{\"line\": {\"colorbar\": {\"outlinewidth\": 0, \"ticks\": \"\"}}, \"type\": \"parcoords\"}], \"pie\": [{\"automargin\": true, \"type\": \"pie\"}], \"scatter\": [{\"marker\": {\"colorbar\": {\"outlinewidth\": 0, \"ticks\": \"\"}}, \"type\": \"scatter\"}], \"scatter3d\": [{\"line\": {\"colorbar\": {\"outlinewidth\": 0, \"ticks\": \"\"}}, \"marker\": {\"colorbar\": {\"outlinewidth\": 0, \"ticks\": \"\"}}, \"type\": \"scatter3d\"}], \"scattercarpet\": [{\"marker\": {\"colorbar\": {\"outlinewidth\": 0, \"ticks\": \"\"}}, \"type\": \"scattercarpet\"}], \"scattergeo\": [{\"marker\": {\"colorbar\": {\"outlinewidth\": 0, \"ticks\": \"\"}}, \"type\": \"scattergeo\"}], \"scattergl\": [{\"marker\": {\"colorbar\": {\"outlinewidth\": 0, \"ticks\": \"\"}}, \"type\": \"scattergl\"}], \"scattermapbox\": [{\"marker\": {\"colorbar\": {\"outlinewidth\": 0, \"ticks\": \"\"}}, \"type\": \"scattermapbox\"}], \"scatterpolar\": [{\"marker\": {\"colorbar\": {\"outlinewidth\": 0, \"ticks\": \"\"}}, \"type\": \"scatterpolar\"}], \"scatterpolargl\": [{\"marker\": {\"colorbar\": {\"outlinewidth\": 0, \"ticks\": \"\"}}, \"type\": \"scatterpolargl\"}], \"scatterternary\": [{\"marker\": {\"colorbar\": {\"outlinewidth\": 0, \"ticks\": \"\"}}, \"type\": \"scatterternary\"}], \"surface\": [{\"colorbar\": {\"outlinewidth\": 0, \"ticks\": \"\"}, \"colorscale\": [[0.0, \"#0d0887\"], [0.1111111111111111, \"#46039f\"], [0.2222222222222222, \"#7201a8\"], [0.3333333333333333, \"#9c179e\"], [0.4444444444444444, \"#bd3786\"], [0.5555555555555556, \"#d8576b\"], [0.6666666666666666, \"#ed7953\"], [0.7777777777777778, \"#fb9f3a\"], [0.8888888888888888, \"#fdca26\"], [1.0, \"#f0f921\"]], \"type\": \"surface\"}], \"table\": [{\"cells\": {\"fill\": {\"color\": \"#EBF0F8\"}, \"line\": {\"color\": \"white\"}}, \"header\": {\"fill\": {\"color\": \"#C8D4E3\"}, \"line\": {\"color\": \"white\"}}, \"type\": \"table\"}]}, \"layout\": {\"annotationdefaults\": {\"arrowcolor\": \"#2a3f5f\", \"arrowhead\": 0, \"arrowwidth\": 1}, \"autotypenumbers\": \"strict\", \"coloraxis\": {\"colorbar\": {\"outlinewidth\": 0, \"ticks\": \"\"}}, \"colorscale\": {\"diverging\": [[0, \"#8e0152\"], [0.1, \"#c51b7d\"], [0.2, \"#de77ae\"], [0.3, \"#f1b6da\"], [0.4, \"#fde0ef\"], [0.5, \"#f7f7f7\"], [0.6, \"#e6f5d0\"], [0.7, \"#b8e186\"], [0.8, \"#7fbc41\"], [0.9, \"#4d9221\"], [1, \"#276419\"]], \"sequential\": [[0.0, \"#0d0887\"], [0.1111111111111111, \"#46039f\"], [0.2222222222222222, \"#7201a8\"], [0.3333333333333333, \"#9c179e\"], [0.4444444444444444, \"#bd3786\"], [0.5555555555555556, \"#d8576b\"], [0.6666666666666666, \"#ed7953\"], [0.7777777777777778, \"#fb9f3a\"], [0.8888888888888888, \"#fdca26\"], [1.0, \"#f0f921\"]], \"sequentialminus\": [[0.0, \"#0d0887\"], [0.1111111111111111, \"#46039f\"], [0.2222222222222222, \"#7201a8\"], [0.3333333333333333, \"#9c179e\"], [0.4444444444444444, \"#bd3786\"], [0.5555555555555556, \"#d8576b\"], [0.6666666666666666, \"#ed7953\"], [0.7777777777777778, \"#fb9f3a\"], [0.8888888888888888, \"#fdca26\"], [1.0, \"#f0f921\"]]}, \"colorway\": [\"#636efa\", \"#EF553B\", \"#00cc96\", \"#ab63fa\", \"#FFA15A\", \"#19d3f3\", \"#FF6692\", \"#B6E880\", \"#FF97FF\", \"#FECB52\"], \"font\": {\"color\": \"#2a3f5f\"}, \"geo\": {\"bgcolor\": \"white\", \"lakecolor\": \"white\", \"landcolor\": \"#E5ECF6\", \"showlakes\": true, \"showland\": true, \"subunitcolor\": \"white\"}, \"hoverlabel\": {\"align\": \"left\"}, \"hovermode\": \"closest\", \"mapbox\": {\"style\": \"light\"}, \"paper_bgcolor\": \"white\", \"plot_bgcolor\": \"#E5ECF6\", \"polar\": {\"angularaxis\": {\"gridcolor\": \"white\", \"linecolor\": \"white\", \"ticks\": \"\"}, \"bgcolor\": \"#E5ECF6\", \"radialaxis\": {\"gridcolor\": \"white\", \"linecolor\": \"white\", \"ticks\": \"\"}}, \"scene\": {\"xaxis\": {\"backgroundcolor\": \"#E5ECF6\", \"gridcolor\": \"white\", \"gridwidth\": 2, \"linecolor\": \"white\", \"showbackground\": true, \"ticks\": \"\", \"zerolinecolor\": \"white\"}, \"yaxis\": {\"backgroundcolor\": \"#E5ECF6\", \"gridcolor\": \"white\", \"gridwidth\": 2, \"linecolor\": \"white\", \"showbackground\": true, \"ticks\": \"\", \"zerolinecolor\": \"white\"}, \"zaxis\": {\"backgroundcolor\": \"#E5ECF6\", \"gridcolor\": \"white\", \"gridwidth\": 2, \"linecolor\": \"white\", \"showbackground\": true, \"ticks\": \"\", \"zerolinecolor\": \"white\"}}, \"shapedefaults\": {\"line\": {\"color\": \"#2a3f5f\"}}, \"ternary\": {\"aaxis\": {\"gridcolor\": \"white\", \"linecolor\": \"white\", \"ticks\": \"\"}, \"baxis\": {\"gridcolor\": \"white\", \"linecolor\": \"white\", \"ticks\": \"\"}, \"bgcolor\": \"#E5ECF6\", \"caxis\": {\"gridcolor\": \"white\", \"linecolor\": \"white\", \"ticks\": \"\"}}, \"title\": {\"x\": 0.05}, \"xaxis\": {\"automargin\": true, \"gridcolor\": \"white\", \"linecolor\": \"white\", \"ticks\": \"\", \"title\": {\"standoff\": 15}, \"zerolinecolor\": \"white\", \"zerolinewidth\": 2}, \"yaxis\": {\"automargin\": true, \"gridcolor\": \"white\", \"linecolor\": \"white\", \"ticks\": \"\", \"title\": {\"standoff\": 15}, \"zerolinecolor\": \"white\", \"zerolinewidth\": 2}}}, \"xaxis\": {\"anchor\": \"y\", \"constrain\": \"domain\", \"domain\": [0.0, 1.0], \"scaleanchor\": \"y\"}, \"yaxis\": {\"anchor\": \"x\", \"autorange\": \"reversed\", \"constrain\": \"domain\", \"domain\": [0.0, 1.0]}},                        {\"responsive\": true}                    ).then(function(){\n",
       "                            \n",
       "var gd = document.getElementById('82d64dd3-d447-4e27-a3a8-b4129bbd2e1d');\n",
       "var x = new MutationObserver(function (mutations, observer) {{\n",
       "        var display = window.getComputedStyle(gd).display;\n",
       "        if (!display || display === 'none') {{\n",
       "            console.log([gd, 'removed!']);\n",
       "            Plotly.purge(gd);\n",
       "            observer.disconnect();\n",
       "        }}\n",
       "}});\n",
       "\n",
       "// Listen for the removal of the full notebook cells\n",
       "var notebookContainer = gd.closest('#notebook-container');\n",
       "if (notebookContainer) {{\n",
       "    x.observe(notebookContainer, {childList: true});\n",
       "}}\n",
       "\n",
       "// Listen for the clearing of the current output cell\n",
       "var outputEl = gd.closest('.output');\n",
       "if (outputEl) {{\n",
       "    x.observe(outputEl, {childList: true});\n",
       "}}\n",
       "\n",
       "                        })                };                });            </script>        </div>"
      ]
     },
     "metadata": {},
     "output_type": "display_data"
    }
   ],
   "source": [
    "data = np.corrcoef([sub_1.claim, sub_2.claim, sub_3.claim, sub_4.claim, sub_5.claim, sub_6.claim])\n",
    "fig=px.imshow(data, x=group_labels, y=group_labels)\n",
    "\n",
    "fig.show()"
   ]
  },
  {
   "cell_type": "code",
   "execution_count": 42,
   "id": "serious-edward",
   "metadata": {},
   "outputs": [],
   "source": [
    "# group_labels = ['cat_imp', 'xgb_imp', 'cat_no_imp', 'lgb_imp', 'lgb_no_imp', \"xgb_no_imp\"]\n",
    "group_labels = ['\"xgb_no_imp\"', 'xgb_imp', 'lgb_no_imp', ]"
   ]
  },
  {
   "cell_type": "code",
   "execution_count": 43,
   "id": "muslim-offset",
   "metadata": {},
   "outputs": [
    {
     "data": {
      "application/vnd.plotly.v1+json": {
       "config": {
        "plotlyServerURL": "https://plot.ly"
       },
       "data": [
        {
         "coloraxis": "coloraxis",
         "hovertemplate": "x: %{x}<br>y: %{y}<br>color: %{z}<extra></extra>",
         "name": "0",
         "type": "heatmap",
         "x": [
          "\"xgb_no_imp\"",
          "xgb_imp",
          "lgb_no_imp"
         ],
         "xaxis": "x",
         "y": [
          "\"xgb_no_imp\"",
          "xgb_imp",
          "lgb_no_imp"
         ],
         "yaxis": "y",
         "z": [
          [
           1,
           0.9995650142440113,
           0.9992626707273684
          ],
          [
           0.9995650142440112,
           1,
           0.9995089625695124
          ],
          [
           0.9992626707273682,
           0.9995089625695124,
           1
          ]
         ]
        }
       ],
       "layout": {
        "autosize": true,
        "coloraxis": {
         "colorscale": [
          [
           0,
           "#0d0887"
          ],
          [
           0.1111111111111111,
           "#46039f"
          ],
          [
           0.2222222222222222,
           "#7201a8"
          ],
          [
           0.3333333333333333,
           "#9c179e"
          ],
          [
           0.4444444444444444,
           "#bd3786"
          ],
          [
           0.5555555555555556,
           "#d8576b"
          ],
          [
           0.6666666666666666,
           "#ed7953"
          ],
          [
           0.7777777777777778,
           "#fb9f3a"
          ],
          [
           0.8888888888888888,
           "#fdca26"
          ],
          [
           1,
           "#f0f921"
          ]
         ]
        },
        "margin": {
         "t": 60
        },
        "template": {
         "data": {
          "bar": [
           {
            "error_x": {
             "color": "#2a3f5f"
            },
            "error_y": {
             "color": "#2a3f5f"
            },
            "marker": {
             "line": {
              "color": "#E5ECF6",
              "width": 0.5
             }
            },
            "type": "bar"
           }
          ],
          "barpolar": [
           {
            "marker": {
             "line": {
              "color": "#E5ECF6",
              "width": 0.5
             }
            },
            "type": "barpolar"
           }
          ],
          "carpet": [
           {
            "aaxis": {
             "endlinecolor": "#2a3f5f",
             "gridcolor": "white",
             "linecolor": "white",
             "minorgridcolor": "white",
             "startlinecolor": "#2a3f5f"
            },
            "baxis": {
             "endlinecolor": "#2a3f5f",
             "gridcolor": "white",
             "linecolor": "white",
             "minorgridcolor": "white",
             "startlinecolor": "#2a3f5f"
            },
            "type": "carpet"
           }
          ],
          "choropleth": [
           {
            "colorbar": {
             "outlinewidth": 0,
             "ticks": ""
            },
            "type": "choropleth"
           }
          ],
          "contour": [
           {
            "colorbar": {
             "outlinewidth": 0,
             "ticks": ""
            },
            "colorscale": [
             [
              0,
              "#0d0887"
             ],
             [
              0.1111111111111111,
              "#46039f"
             ],
             [
              0.2222222222222222,
              "#7201a8"
             ],
             [
              0.3333333333333333,
              "#9c179e"
             ],
             [
              0.4444444444444444,
              "#bd3786"
             ],
             [
              0.5555555555555556,
              "#d8576b"
             ],
             [
              0.6666666666666666,
              "#ed7953"
             ],
             [
              0.7777777777777778,
              "#fb9f3a"
             ],
             [
              0.8888888888888888,
              "#fdca26"
             ],
             [
              1,
              "#f0f921"
             ]
            ],
            "type": "contour"
           }
          ],
          "contourcarpet": [
           {
            "colorbar": {
             "outlinewidth": 0,
             "ticks": ""
            },
            "type": "contourcarpet"
           }
          ],
          "heatmap": [
           {
            "colorbar": {
             "outlinewidth": 0,
             "ticks": ""
            },
            "colorscale": [
             [
              0,
              "#0d0887"
             ],
             [
              0.1111111111111111,
              "#46039f"
             ],
             [
              0.2222222222222222,
              "#7201a8"
             ],
             [
              0.3333333333333333,
              "#9c179e"
             ],
             [
              0.4444444444444444,
              "#bd3786"
             ],
             [
              0.5555555555555556,
              "#d8576b"
             ],
             [
              0.6666666666666666,
              "#ed7953"
             ],
             [
              0.7777777777777778,
              "#fb9f3a"
             ],
             [
              0.8888888888888888,
              "#fdca26"
             ],
             [
              1,
              "#f0f921"
             ]
            ],
            "type": "heatmap"
           }
          ],
          "heatmapgl": [
           {
            "colorbar": {
             "outlinewidth": 0,
             "ticks": ""
            },
            "colorscale": [
             [
              0,
              "#0d0887"
             ],
             [
              0.1111111111111111,
              "#46039f"
             ],
             [
              0.2222222222222222,
              "#7201a8"
             ],
             [
              0.3333333333333333,
              "#9c179e"
             ],
             [
              0.4444444444444444,
              "#bd3786"
             ],
             [
              0.5555555555555556,
              "#d8576b"
             ],
             [
              0.6666666666666666,
              "#ed7953"
             ],
             [
              0.7777777777777778,
              "#fb9f3a"
             ],
             [
              0.8888888888888888,
              "#fdca26"
             ],
             [
              1,
              "#f0f921"
             ]
            ],
            "type": "heatmapgl"
           }
          ],
          "histogram": [
           {
            "marker": {
             "colorbar": {
              "outlinewidth": 0,
              "ticks": ""
             }
            },
            "type": "histogram"
           }
          ],
          "histogram2d": [
           {
            "colorbar": {
             "outlinewidth": 0,
             "ticks": ""
            },
            "colorscale": [
             [
              0,
              "#0d0887"
             ],
             [
              0.1111111111111111,
              "#46039f"
             ],
             [
              0.2222222222222222,
              "#7201a8"
             ],
             [
              0.3333333333333333,
              "#9c179e"
             ],
             [
              0.4444444444444444,
              "#bd3786"
             ],
             [
              0.5555555555555556,
              "#d8576b"
             ],
             [
              0.6666666666666666,
              "#ed7953"
             ],
             [
              0.7777777777777778,
              "#fb9f3a"
             ],
             [
              0.8888888888888888,
              "#fdca26"
             ],
             [
              1,
              "#f0f921"
             ]
            ],
            "type": "histogram2d"
           }
          ],
          "histogram2dcontour": [
           {
            "colorbar": {
             "outlinewidth": 0,
             "ticks": ""
            },
            "colorscale": [
             [
              0,
              "#0d0887"
             ],
             [
              0.1111111111111111,
              "#46039f"
             ],
             [
              0.2222222222222222,
              "#7201a8"
             ],
             [
              0.3333333333333333,
              "#9c179e"
             ],
             [
              0.4444444444444444,
              "#bd3786"
             ],
             [
              0.5555555555555556,
              "#d8576b"
             ],
             [
              0.6666666666666666,
              "#ed7953"
             ],
             [
              0.7777777777777778,
              "#fb9f3a"
             ],
             [
              0.8888888888888888,
              "#fdca26"
             ],
             [
              1,
              "#f0f921"
             ]
            ],
            "type": "histogram2dcontour"
           }
          ],
          "mesh3d": [
           {
            "colorbar": {
             "outlinewidth": 0,
             "ticks": ""
            },
            "type": "mesh3d"
           }
          ],
          "parcoords": [
           {
            "line": {
             "colorbar": {
              "outlinewidth": 0,
              "ticks": ""
             }
            },
            "type": "parcoords"
           }
          ],
          "pie": [
           {
            "automargin": true,
            "type": "pie"
           }
          ],
          "scatter": [
           {
            "marker": {
             "colorbar": {
              "outlinewidth": 0,
              "ticks": ""
             }
            },
            "type": "scatter"
           }
          ],
          "scatter3d": [
           {
            "line": {
             "colorbar": {
              "outlinewidth": 0,
              "ticks": ""
             }
            },
            "marker": {
             "colorbar": {
              "outlinewidth": 0,
              "ticks": ""
             }
            },
            "type": "scatter3d"
           }
          ],
          "scattercarpet": [
           {
            "marker": {
             "colorbar": {
              "outlinewidth": 0,
              "ticks": ""
             }
            },
            "type": "scattercarpet"
           }
          ],
          "scattergeo": [
           {
            "marker": {
             "colorbar": {
              "outlinewidth": 0,
              "ticks": ""
             }
            },
            "type": "scattergeo"
           }
          ],
          "scattergl": [
           {
            "marker": {
             "colorbar": {
              "outlinewidth": 0,
              "ticks": ""
             }
            },
            "type": "scattergl"
           }
          ],
          "scattermapbox": [
           {
            "marker": {
             "colorbar": {
              "outlinewidth": 0,
              "ticks": ""
             }
            },
            "type": "scattermapbox"
           }
          ],
          "scatterpolar": [
           {
            "marker": {
             "colorbar": {
              "outlinewidth": 0,
              "ticks": ""
             }
            },
            "type": "scatterpolar"
           }
          ],
          "scatterpolargl": [
           {
            "marker": {
             "colorbar": {
              "outlinewidth": 0,
              "ticks": ""
             }
            },
            "type": "scatterpolargl"
           }
          ],
          "scatterternary": [
           {
            "marker": {
             "colorbar": {
              "outlinewidth": 0,
              "ticks": ""
             }
            },
            "type": "scatterternary"
           }
          ],
          "surface": [
           {
            "colorbar": {
             "outlinewidth": 0,
             "ticks": ""
            },
            "colorscale": [
             [
              0,
              "#0d0887"
             ],
             [
              0.1111111111111111,
              "#46039f"
             ],
             [
              0.2222222222222222,
              "#7201a8"
             ],
             [
              0.3333333333333333,
              "#9c179e"
             ],
             [
              0.4444444444444444,
              "#bd3786"
             ],
             [
              0.5555555555555556,
              "#d8576b"
             ],
             [
              0.6666666666666666,
              "#ed7953"
             ],
             [
              0.7777777777777778,
              "#fb9f3a"
             ],
             [
              0.8888888888888888,
              "#fdca26"
             ],
             [
              1,
              "#f0f921"
             ]
            ],
            "type": "surface"
           }
          ],
          "table": [
           {
            "cells": {
             "fill": {
              "color": "#EBF0F8"
             },
             "line": {
              "color": "white"
             }
            },
            "header": {
             "fill": {
              "color": "#C8D4E3"
             },
             "line": {
              "color": "white"
             }
            },
            "type": "table"
           }
          ]
         },
         "layout": {
          "annotationdefaults": {
           "arrowcolor": "#2a3f5f",
           "arrowhead": 0,
           "arrowwidth": 1
          },
          "autotypenumbers": "strict",
          "coloraxis": {
           "colorbar": {
            "outlinewidth": 0,
            "ticks": ""
           }
          },
          "colorscale": {
           "diverging": [
            [
             0,
             "#8e0152"
            ],
            [
             0.1,
             "#c51b7d"
            ],
            [
             0.2,
             "#de77ae"
            ],
            [
             0.3,
             "#f1b6da"
            ],
            [
             0.4,
             "#fde0ef"
            ],
            [
             0.5,
             "#f7f7f7"
            ],
            [
             0.6,
             "#e6f5d0"
            ],
            [
             0.7,
             "#b8e186"
            ],
            [
             0.8,
             "#7fbc41"
            ],
            [
             0.9,
             "#4d9221"
            ],
            [
             1,
             "#276419"
            ]
           ],
           "sequential": [
            [
             0,
             "#0d0887"
            ],
            [
             0.1111111111111111,
             "#46039f"
            ],
            [
             0.2222222222222222,
             "#7201a8"
            ],
            [
             0.3333333333333333,
             "#9c179e"
            ],
            [
             0.4444444444444444,
             "#bd3786"
            ],
            [
             0.5555555555555556,
             "#d8576b"
            ],
            [
             0.6666666666666666,
             "#ed7953"
            ],
            [
             0.7777777777777778,
             "#fb9f3a"
            ],
            [
             0.8888888888888888,
             "#fdca26"
            ],
            [
             1,
             "#f0f921"
            ]
           ],
           "sequentialminus": [
            [
             0,
             "#0d0887"
            ],
            [
             0.1111111111111111,
             "#46039f"
            ],
            [
             0.2222222222222222,
             "#7201a8"
            ],
            [
             0.3333333333333333,
             "#9c179e"
            ],
            [
             0.4444444444444444,
             "#bd3786"
            ],
            [
             0.5555555555555556,
             "#d8576b"
            ],
            [
             0.6666666666666666,
             "#ed7953"
            ],
            [
             0.7777777777777778,
             "#fb9f3a"
            ],
            [
             0.8888888888888888,
             "#fdca26"
            ],
            [
             1,
             "#f0f921"
            ]
           ]
          },
          "colorway": [
           "#636efa",
           "#EF553B",
           "#00cc96",
           "#ab63fa",
           "#FFA15A",
           "#19d3f3",
           "#FF6692",
           "#B6E880",
           "#FF97FF",
           "#FECB52"
          ],
          "font": {
           "color": "#2a3f5f"
          },
          "geo": {
           "bgcolor": "white",
           "lakecolor": "white",
           "landcolor": "#E5ECF6",
           "showlakes": true,
           "showland": true,
           "subunitcolor": "white"
          },
          "hoverlabel": {
           "align": "left"
          },
          "hovermode": "closest",
          "mapbox": {
           "style": "light"
          },
          "paper_bgcolor": "white",
          "plot_bgcolor": "#E5ECF6",
          "polar": {
           "angularaxis": {
            "gridcolor": "white",
            "linecolor": "white",
            "ticks": ""
           },
           "bgcolor": "#E5ECF6",
           "radialaxis": {
            "gridcolor": "white",
            "linecolor": "white",
            "ticks": ""
           }
          },
          "scene": {
           "xaxis": {
            "backgroundcolor": "#E5ECF6",
            "gridcolor": "white",
            "gridwidth": 2,
            "linecolor": "white",
            "showbackground": true,
            "ticks": "",
            "zerolinecolor": "white"
           },
           "yaxis": {
            "backgroundcolor": "#E5ECF6",
            "gridcolor": "white",
            "gridwidth": 2,
            "linecolor": "white",
            "showbackground": true,
            "ticks": "",
            "zerolinecolor": "white"
           },
           "zaxis": {
            "backgroundcolor": "#E5ECF6",
            "gridcolor": "white",
            "gridwidth": 2,
            "linecolor": "white",
            "showbackground": true,
            "ticks": "",
            "zerolinecolor": "white"
           }
          },
          "shapedefaults": {
           "line": {
            "color": "#2a3f5f"
           }
          },
          "ternary": {
           "aaxis": {
            "gridcolor": "white",
            "linecolor": "white",
            "ticks": ""
           },
           "baxis": {
            "gridcolor": "white",
            "linecolor": "white",
            "ticks": ""
           },
           "bgcolor": "#E5ECF6",
           "caxis": {
            "gridcolor": "white",
            "linecolor": "white",
            "ticks": ""
           }
          },
          "title": {
           "x": 0.05
          },
          "xaxis": {
           "automargin": true,
           "gridcolor": "white",
           "linecolor": "white",
           "ticks": "",
           "title": {
            "standoff": 15
           },
           "zerolinecolor": "white",
           "zerolinewidth": 2
          },
          "yaxis": {
           "automargin": true,
           "gridcolor": "white",
           "linecolor": "white",
           "ticks": "",
           "title": {
            "standoff": 15
           },
           "zerolinecolor": "white",
           "zerolinewidth": 2
          }
         }
        },
        "xaxis": {
         "anchor": "y",
         "autorange": true,
         "constrain": "domain",
         "domain": [
          0.3820395738203958,
          0.6179604261796042
         ],
         "range": [
          -0.5,
          2.5
         ],
         "scaleanchor": "y",
         "type": "category"
        },
        "yaxis": {
         "anchor": "x",
         "autorange": true,
         "constrain": "domain",
         "domain": [
          0.15487062404870633,
          0.8451293759512937
         ],
         "range": [
          2.5,
          -0.5
         ],
         "type": "category"
        }
       }
      },
      "image/png": "[encoded data removed]",
      "text/html": [
       "<div>                            <div id=\"8f64a623-2e56-4b48-809c-ce5172b275c3\" class=\"plotly-graph-div\" style=\"height:525px; width:100%;\"></div>            <script type=\"text/javascript\">                require([\"plotly\"], function(Plotly) {                    window.PLOTLYENV=window.PLOTLYENV || {};                                    if (document.getElementById(\"8f64a623-2e56-4b48-809c-ce5172b275c3\")) {                    Plotly.newPlot(                        \"8f64a623-2e56-4b48-809c-ce5172b275c3\",                        [{\"coloraxis\": \"coloraxis\", \"hovertemplate\": \"x: %{x}<br>y: %{y}<br>color: %{z}<extra></extra>\", \"name\": \"0\", \"type\": \"heatmap\", \"x\": [\"\\\"xgb_no_imp\\\"\", \"xgb_imp\", \"lgb_no_imp\"], \"xaxis\": \"x\", \"y\": [\"\\\"xgb_no_imp\\\"\", \"xgb_imp\", \"lgb_no_imp\"], \"yaxis\": \"y\", \"z\": [[1.0, 0.9995650142440113, 0.9992626707273684], [0.9995650142440112, 1.0, 0.9995089625695124], [0.9992626707273682, 0.9995089625695124, 1.0]]}],                        {\"coloraxis\": {\"colorscale\": [[0.0, \"#0d0887\"], [0.1111111111111111, \"#46039f\"], [0.2222222222222222, \"#7201a8\"], [0.3333333333333333, \"#9c179e\"], [0.4444444444444444, \"#bd3786\"], [0.5555555555555556, \"#d8576b\"], [0.6666666666666666, \"#ed7953\"], [0.7777777777777778, \"#fb9f3a\"], [0.8888888888888888, \"#fdca26\"], [1.0, \"#f0f921\"]]}, \"margin\": {\"t\": 60}, \"template\": {\"data\": {\"bar\": [{\"error_x\": {\"color\": \"#2a3f5f\"}, \"error_y\": {\"color\": \"#2a3f5f\"}, \"marker\": {\"line\": {\"color\": \"#E5ECF6\", \"width\": 0.5}}, \"type\": \"bar\"}], \"barpolar\": [{\"marker\": {\"line\": {\"color\": \"#E5ECF6\", \"width\": 0.5}}, \"type\": \"barpolar\"}], \"carpet\": [{\"aaxis\": {\"endlinecolor\": \"#2a3f5f\", \"gridcolor\": \"white\", \"linecolor\": \"white\", \"minorgridcolor\": \"white\", \"startlinecolor\": \"#2a3f5f\"}, \"baxis\": {\"endlinecolor\": \"#2a3f5f\", \"gridcolor\": \"white\", \"linecolor\": \"white\", \"minorgridcolor\": \"white\", \"startlinecolor\": \"#2a3f5f\"}, \"type\": \"carpet\"}], \"choropleth\": [{\"colorbar\": {\"outlinewidth\": 0, \"ticks\": \"\"}, \"type\": \"choropleth\"}], \"contour\": [{\"colorbar\": {\"outlinewidth\": 0, \"ticks\": \"\"}, \"colorscale\": [[0.0, \"#0d0887\"], [0.1111111111111111, \"#46039f\"], [0.2222222222222222, \"#7201a8\"], [0.3333333333333333, \"#9c179e\"], [0.4444444444444444, \"#bd3786\"], [0.5555555555555556, \"#d8576b\"], [0.6666666666666666, \"#ed7953\"], [0.7777777777777778, \"#fb9f3a\"], [0.8888888888888888, \"#fdca26\"], [1.0, \"#f0f921\"]], \"type\": \"contour\"}], \"contourcarpet\": [{\"colorbar\": {\"outlinewidth\": 0, \"ticks\": \"\"}, \"type\": \"contourcarpet\"}], \"heatmap\": [{\"colorbar\": {\"outlinewidth\": 0, \"ticks\": \"\"}, \"colorscale\": [[0.0, \"#0d0887\"], [0.1111111111111111, \"#46039f\"], [0.2222222222222222, \"#7201a8\"], [0.3333333333333333, \"#9c179e\"], [0.4444444444444444, \"#bd3786\"], [0.5555555555555556, \"#d8576b\"], [0.6666666666666666, \"#ed7953\"], [0.7777777777777778, \"#fb9f3a\"], [0.8888888888888888, \"#fdca26\"], [1.0, \"#f0f921\"]], \"type\": \"heatmap\"}], \"heatmapgl\": [{\"colorbar\": {\"outlinewidth\": 0, \"ticks\": \"\"}, \"colorscale\": [[0.0, \"#0d0887\"], [0.1111111111111111, \"#46039f\"], [0.2222222222222222, \"#7201a8\"], [0.3333333333333333, \"#9c179e\"], [0.4444444444444444, \"#bd3786\"], [0.5555555555555556, \"#d8576b\"], [0.6666666666666666, \"#ed7953\"], [0.7777777777777778, \"#fb9f3a\"], [0.8888888888888888, \"#fdca26\"], [1.0, \"#f0f921\"]], \"type\": \"heatmapgl\"}], \"histogram\": [{\"marker\": {\"colorbar\": {\"outlinewidth\": 0, \"ticks\": \"\"}}, \"type\": \"histogram\"}], \"histogram2d\": [{\"colorbar\": {\"outlinewidth\": 0, \"ticks\": \"\"}, \"colorscale\": [[0.0, \"#0d0887\"], [0.1111111111111111, \"#46039f\"], [0.2222222222222222, \"#7201a8\"], [0.3333333333333333, \"#9c179e\"], [0.4444444444444444, \"#bd3786\"], [0.5555555555555556, \"#d8576b\"], [0.6666666666666666, \"#ed7953\"], [0.7777777777777778, \"#fb9f3a\"], [0.8888888888888888, \"#fdca26\"], [1.0, \"#f0f921\"]], \"type\": \"histogram2d\"}], \"histogram2dcontour\": [{\"colorbar\": {\"outlinewidth\": 0, \"ticks\": \"\"}, \"colorscale\": [[0.0, \"#0d0887\"], [0.1111111111111111, \"#46039f\"], [0.2222222222222222, \"#7201a8\"], [0.3333333333333333, \"#9c179e\"], [0.4444444444444444, \"#bd3786\"], [0.5555555555555556, \"#d8576b\"], [0.6666666666666666, \"#ed7953\"], [0.7777777777777778, \"#fb9f3a\"], [0.8888888888888888, \"#fdca26\"], [1.0, \"#f0f921\"]], \"type\": \"histogram2dcontour\"}], \"mesh3d\": [{\"colorbar\": {\"outlinewidth\": 0, \"ticks\": \"\"}, \"type\": \"mesh3d\"}], \"parcoords\": [{\"line\": {\"colorbar\": {\"outlinewidth\": 0, \"ticks\": \"\"}}, \"type\": \"parcoords\"}], \"pie\": [{\"automargin\": true, \"type\": \"pie\"}], \"scatter\": [{\"marker\": {\"colorbar\": {\"outlinewidth\": 0, \"ticks\": \"\"}}, \"type\": \"scatter\"}], \"scatter3d\": [{\"line\": {\"colorbar\": {\"outlinewidth\": 0, \"ticks\": \"\"}}, \"marker\": {\"colorbar\": {\"outlinewidth\": 0, \"ticks\": \"\"}}, \"type\": \"scatter3d\"}], \"scattercarpet\": [{\"marker\": {\"colorbar\": {\"outlinewidth\": 0, \"ticks\": \"\"}}, \"type\": \"scattercarpet\"}], \"scattergeo\": [{\"marker\": {\"colorbar\": {\"outlinewidth\": 0, \"ticks\": \"\"}}, \"type\": \"scattergeo\"}], \"scattergl\": [{\"marker\": {\"colorbar\": {\"outlinewidth\": 0, \"ticks\": \"\"}}, \"type\": \"scattergl\"}], \"scattermapbox\": [{\"marker\": {\"colorbar\": {\"outlinewidth\": 0, \"ticks\": \"\"}}, \"type\": \"scattermapbox\"}], \"scatterpolar\": [{\"marker\": {\"colorbar\": {\"outlinewidth\": 0, \"ticks\": \"\"}}, \"type\": \"scatterpolar\"}], \"scatterpolargl\": [{\"marker\": {\"colorbar\": {\"outlinewidth\": 0, \"ticks\": \"\"}}, \"type\": \"scatterpolargl\"}], \"scatterternary\": [{\"marker\": {\"colorbar\": {\"outlinewidth\": 0, \"ticks\": \"\"}}, \"type\": \"scatterternary\"}], \"surface\": [{\"colorbar\": {\"outlinewidth\": 0, \"ticks\": \"\"}, \"colorscale\": [[0.0, \"#0d0887\"], [0.1111111111111111, \"#46039f\"], [0.2222222222222222, \"#7201a8\"], [0.3333333333333333, \"#9c179e\"], [0.4444444444444444, \"#bd3786\"], [0.5555555555555556, \"#d8576b\"], [0.6666666666666666, \"#ed7953\"], [0.7777777777777778, \"#fb9f3a\"], [0.8888888888888888, \"#fdca26\"], [1.0, \"#f0f921\"]], \"type\": \"surface\"}], \"table\": [{\"cells\": {\"fill\": {\"color\": \"#EBF0F8\"}, \"line\": {\"color\": \"white\"}}, \"header\": {\"fill\": {\"color\": \"#C8D4E3\"}, \"line\": {\"color\": \"white\"}}, \"type\": \"table\"}]}, \"layout\": {\"annotationdefaults\": {\"arrowcolor\": \"#2a3f5f\", \"arrowhead\": 0, \"arrowwidth\": 1}, \"autotypenumbers\": \"strict\", \"coloraxis\": {\"colorbar\": {\"outlinewidth\": 0, \"ticks\": \"\"}}, \"colorscale\": {\"diverging\": [[0, \"#8e0152\"], [0.1, \"#c51b7d\"], [0.2, \"#de77ae\"], [0.3, \"#f1b6da\"], [0.4, \"#fde0ef\"], [0.5, \"#f7f7f7\"], [0.6, \"#e6f5d0\"], [0.7, \"#b8e186\"], [0.8, \"#7fbc41\"], [0.9, \"#4d9221\"], [1, \"#276419\"]], \"sequential\": [[0.0, \"#0d0887\"], [0.1111111111111111, \"#46039f\"], [0.2222222222222222, \"#7201a8\"], [0.3333333333333333, \"#9c179e\"], [0.4444444444444444, \"#bd3786\"], [0.5555555555555556, \"#d8576b\"], [0.6666666666666666, \"#ed7953\"], [0.7777777777777778, \"#fb9f3a\"], [0.8888888888888888, \"#fdca26\"], [1.0, \"#f0f921\"]], \"sequentialminus\": [[0.0, \"#0d0887\"], [0.1111111111111111, \"#46039f\"], [0.2222222222222222, \"#7201a8\"], [0.3333333333333333, \"#9c179e\"], [0.4444444444444444, \"#bd3786\"], [0.5555555555555556, \"#d8576b\"], [0.6666666666666666, \"#ed7953\"], [0.7777777777777778, \"#fb9f3a\"], [0.8888888888888888, \"#fdca26\"], [1.0, \"#f0f921\"]]}, \"colorway\": [\"#636efa\", \"#EF553B\", \"#00cc96\", \"#ab63fa\", \"#FFA15A\", \"#19d3f3\", \"#FF6692\", \"#B6E880\", \"#FF97FF\", \"#FECB52\"], \"font\": {\"color\": \"#2a3f5f\"}, \"geo\": {\"bgcolor\": \"white\", \"lakecolor\": \"white\", \"landcolor\": \"#E5ECF6\", \"showlakes\": true, \"showland\": true, \"subunitcolor\": \"white\"}, \"hoverlabel\": {\"align\": \"left\"}, \"hovermode\": \"closest\", \"mapbox\": {\"style\": \"light\"}, \"paper_bgcolor\": \"white\", \"plot_bgcolor\": \"#E5ECF6\", \"polar\": {\"angularaxis\": {\"gridcolor\": \"white\", \"linecolor\": \"white\", \"ticks\": \"\"}, \"bgcolor\": \"#E5ECF6\", \"radialaxis\": {\"gridcolor\": \"white\", \"linecolor\": \"white\", \"ticks\": \"\"}}, \"scene\": {\"xaxis\": {\"backgroundcolor\": \"#E5ECF6\", \"gridcolor\": \"white\", \"gridwidth\": 2, \"linecolor\": \"white\", \"showbackground\": true, \"ticks\": \"\", \"zerolinecolor\": \"white\"}, \"yaxis\": {\"backgroundcolor\": \"#E5ECF6\", \"gridcolor\": \"white\", \"gridwidth\": 2, \"linecolor\": \"white\", \"showbackground\": true, \"ticks\": \"\", \"zerolinecolor\": \"white\"}, \"zaxis\": {\"backgroundcolor\": \"#E5ECF6\", \"gridcolor\": \"white\", \"gridwidth\": 2, \"linecolor\": \"white\", \"showbackground\": true, \"ticks\": \"\", \"zerolinecolor\": \"white\"}}, \"shapedefaults\": {\"line\": {\"color\": \"#2a3f5f\"}}, \"ternary\": {\"aaxis\": {\"gridcolor\": \"white\", \"linecolor\": \"white\", \"ticks\": \"\"}, \"baxis\": {\"gridcolor\": \"white\", \"linecolor\": \"white\", \"ticks\": \"\"}, \"bgcolor\": \"#E5ECF6\", \"caxis\": {\"gridcolor\": \"white\", \"linecolor\": \"white\", \"ticks\": \"\"}}, \"title\": {\"x\": 0.05}, \"xaxis\": {\"automargin\": true, \"gridcolor\": \"white\", \"linecolor\": \"white\", \"ticks\": \"\", \"title\": {\"standoff\": 15}, \"zerolinecolor\": \"white\", \"zerolinewidth\": 2}, \"yaxis\": {\"automargin\": true, \"gridcolor\": \"white\", \"linecolor\": \"white\", \"ticks\": \"\", \"title\": {\"standoff\": 15}, \"zerolinecolor\": \"white\", \"zerolinewidth\": 2}}}, \"xaxis\": {\"anchor\": \"y\", \"constrain\": \"domain\", \"domain\": [0.0, 1.0], \"scaleanchor\": \"y\"}, \"yaxis\": {\"anchor\": \"x\", \"autorange\": \"reversed\", \"constrain\": \"domain\", \"domain\": [0.0, 1.0]}},                        {\"responsive\": true}                    ).then(function(){\n",
       "                            \n",
       "var gd = document.getElementById('8f64a623-2e56-4b48-809c-ce5172b275c3');\n",
       "var x = new MutationObserver(function (mutations, observer) {{\n",
       "        var display = window.getComputedStyle(gd).display;\n",
       "        if (!display || display === 'none') {{\n",
       "            console.log([gd, 'removed!']);\n",
       "            Plotly.purge(gd);\n",
       "            observer.disconnect();\n",
       "        }}\n",
       "}});\n",
       "\n",
       "// Listen for the removal of the full notebook cells\n",
       "var notebookContainer = gd.closest('#notebook-container');\n",
       "if (notebookContainer) {{\n",
       "    x.observe(notebookContainer, {childList: true});\n",
       "}}\n",
       "\n",
       "// Listen for the clearing of the current output cell\n",
       "var outputEl = gd.closest('.output');\n",
       "if (outputEl) {{\n",
       "    x.observe(outputEl, {childList: true});\n",
       "}}\n",
       "\n",
       "                        })                };                });            </script>        </div>"
      ]
     },
     "metadata": {},
     "output_type": "display_data"
    }
   ],
   "source": [
    "data = np.corrcoef([sub_6.claim, sub_2.claim, sub_5.claim,])\n",
    "fig=px.imshow(data, x=group_labels, y=group_labels)\n",
    "\n",
    "fig.show()"
   ]
  },
  {
   "cell_type": "code",
   "execution_count": 36,
   "id": "recorded-model",
   "metadata": {},
   "outputs": [],
   "source": [
    "sub_6 = pd.read_csv(f\"{constants.SUBMISSION_DIR}/sub_xgb_K10_nonull_mean_sum_max_no_imp_no_scaler_K_params_0922_1630_0.81634.gz\")\n",
    "sub_2 = pd.read_csv(f\"{constants.SUBMISSION_DIR}/sub_xgb_K10_nonull_mean_sum_max_custom_imp_StScaler_K_params_0921_2239_0.81649.gz\")\n",
    "sub_5 = pd.read_csv(f\"{constants.SUBMISSION_DIR}/sub_lgb_K5_nonull_mean_sum_max_no_imp_no_scaler_params_K_0922_1420_0.81623.gz\")"
   ]
  },
  {
   "cell_type": "code",
   "execution_count": 37,
   "id": "million-boulder",
   "metadata": {},
   "outputs": [],
   "source": [
    "# Power is arbitrary - refer to blog post for more info to get a better power\n",
    "ensemble_df  = sub_6.copy()\n",
    "ensemble_df.loc[:, 'claim'] = (sub_6**4 + sub_2**4 + sub_5**4)/3"
   ]
  },
  {
   "cell_type": "code",
   "execution_count": 38,
   "id": "hispanic-processing",
   "metadata": {},
   "outputs": [],
   "source": [
    "logger = common.get_logger(\"main\")"
   ]
  },
  {
   "cell_type": "code",
   "execution_count": 39,
   "id": "every-calculation",
   "metadata": {},
   "outputs": [
    {
     "data": {
      "text/html": [
       "<div>\n",
       "<style scoped>\n",
       "    .dataframe tbody tr th:only-of-type {\n",
       "        vertical-align: middle;\n",
       "    }\n",
       "\n",
       "    .dataframe tbody tr th {\n",
       "        vertical-align: top;\n",
       "    }\n",
       "\n",
       "    .dataframe thead th {\n",
       "        text-align: right;\n",
       "    }\n",
       "</style>\n",
       "<table border=\"1\" class=\"dataframe\">\n",
       "  <thead>\n",
       "    <tr style=\"text-align: right;\">\n",
       "      <th></th>\n",
       "      <th>id</th>\n",
       "      <th>claim</th>\n",
       "    </tr>\n",
       "  </thead>\n",
       "  <tbody>\n",
       "    <tr>\n",
       "      <th>0</th>\n",
       "      <td>957919</td>\n",
       "      <td>0.105719</td>\n",
       "    </tr>\n",
       "    <tr>\n",
       "      <th>1</th>\n",
       "      <td>957920</td>\n",
       "      <td>0.000215</td>\n",
       "    </tr>\n",
       "    <tr>\n",
       "      <th>2</th>\n",
       "      <td>957921</td>\n",
       "      <td>0.159638</td>\n",
       "    </tr>\n",
       "    <tr>\n",
       "      <th>3</th>\n",
       "      <td>957922</td>\n",
       "      <td>0.000282</td>\n",
       "    </tr>\n",
       "    <tr>\n",
       "      <th>4</th>\n",
       "      <td>957923</td>\n",
       "      <td>0.000559</td>\n",
       "    </tr>\n",
       "  </tbody>\n",
       "</table>\n",
       "</div>"
      ],
      "text/plain": [
       "       id     claim\n",
       "0  957919  0.105719\n",
       "1  957920  0.000215\n",
       "2  957921  0.159638\n",
       "3  957922  0.000282\n",
       "4  957923  0.000559"
      ]
     },
     "execution_count": 39,
     "metadata": {},
     "output_type": "execute_result"
    }
   ],
   "source": [
    "ensemble_df.head()"
   ]
  },
  {
   "cell_type": "code",
   "execution_count": 41,
   "id": "conscious-prophet",
   "metadata": {},
   "outputs": [
    {
     "name": "stdout",
     "output_type": "stream",
     "text": [
      "[INFO]2021-09-23 21:44:00,354:main:Saving /opt/vssexclude/personal/kaggle/k_tab_sept/submissions/sub_power_4_xgb_no_imp_xgb_imp_lgb_no_imp.gz\n",
      "[INFO]2021-09-23 21:44:00,354:main:Saving /opt/vssexclude/personal/kaggle/k_tab_sept/submissions/sub_power_4_xgb_no_imp_xgb_imp_lgb_no_imp.gz\n",
      "[INFO]2021-09-23 21:44:00,354:main:Saving /opt/vssexclude/personal/kaggle/k_tab_sept/submissions/sub_power_4_xgb_no_imp_xgb_imp_lgb_no_imp.gz\n"
     ]
    }
   ],
   "source": [
    "common.save_file(\n",
    "        logger,\n",
    "        ensemble_df,\n",
    "        constants.SUBMISSION_DIR,\n",
    "        f\"sub_power_4_xgb_no_imp_xgb_imp_lgb_no_imp.gz\",\n",
    "        index=False,\n",
    "        compression=\"gzip\",\n",
    "    )"
   ]
  },
  {
   "cell_type": "code",
   "execution_count": 44,
   "id": "logical-going",
   "metadata": {},
   "outputs": [
    {
     "data": {
      "text/html": [
       "<div>\n",
       "<style scoped>\n",
       "    .dataframe tbody tr th:only-of-type {\n",
       "        vertical-align: middle;\n",
       "    }\n",
       "\n",
       "    .dataframe tbody tr th {\n",
       "        vertical-align: top;\n",
       "    }\n",
       "\n",
       "    .dataframe thead th {\n",
       "        text-align: right;\n",
       "    }\n",
       "</style>\n",
       "<table border=\"1\" class=\"dataframe\">\n",
       "  <thead>\n",
       "    <tr style=\"text-align: right;\">\n",
       "      <th></th>\n",
       "      <th>id</th>\n",
       "      <th>claim</th>\n",
       "    </tr>\n",
       "  </thead>\n",
       "  <tbody>\n",
       "    <tr>\n",
       "      <th>0</th>\n",
       "      <td>957919</td>\n",
       "      <td>0.105719</td>\n",
       "    </tr>\n",
       "    <tr>\n",
       "      <th>1</th>\n",
       "      <td>957920</td>\n",
       "      <td>0.000215</td>\n",
       "    </tr>\n",
       "    <tr>\n",
       "      <th>2</th>\n",
       "      <td>957921</td>\n",
       "      <td>0.159638</td>\n",
       "    </tr>\n",
       "    <tr>\n",
       "      <th>3</th>\n",
       "      <td>957922</td>\n",
       "      <td>0.000282</td>\n",
       "    </tr>\n",
       "    <tr>\n",
       "      <th>4</th>\n",
       "      <td>957923</td>\n",
       "      <td>0.000559</td>\n",
       "    </tr>\n",
       "  </tbody>\n",
       "</table>\n",
       "</div>"
      ],
      "text/plain": [
       "       id     claim\n",
       "0  957919  0.105719\n",
       "1  957920  0.000215\n",
       "2  957921  0.159638\n",
       "3  957922  0.000282\n",
       "4  957923  0.000559"
      ]
     },
     "execution_count": 44,
     "metadata": {},
     "output_type": "execute_result"
    }
   ],
   "source": [
    "pd.read_csv(f\"{constants.SUBMISSION_DIR}/sub_power_4_xgb_no_imp_xgb_imp_lgb_no_imp.gz\").head()"
   ]
  },
  {
   "cell_type": "code",
   "execution_count": 45,
   "id": "suburban-suffering",
   "metadata": {},
   "outputs": [
    {
     "data": {
      "text/html": [
       "<div>\n",
       "<style scoped>\n",
       "    .dataframe tbody tr th:only-of-type {\n",
       "        vertical-align: middle;\n",
       "    }\n",
       "\n",
       "    .dataframe tbody tr th {\n",
       "        vertical-align: top;\n",
       "    }\n",
       "\n",
       "    .dataframe thead th {\n",
       "        text-align: right;\n",
       "    }\n",
       "</style>\n",
       "<table border=\"1\" class=\"dataframe\">\n",
       "  <thead>\n",
       "    <tr style=\"text-align: right;\">\n",
       "      <th></th>\n",
       "      <th>id</th>\n",
       "      <th>claim</th>\n",
       "    </tr>\n",
       "  </thead>\n",
       "  <tbody>\n",
       "    <tr>\n",
       "      <th>0</th>\n",
       "      <td>957919</td>\n",
       "      <td>1.121322e-02</td>\n",
       "    </tr>\n",
       "    <tr>\n",
       "      <th>1</th>\n",
       "      <td>957920</td>\n",
       "      <td>4.628708e-08</td>\n",
       "    </tr>\n",
       "    <tr>\n",
       "      <th>2</th>\n",
       "      <td>957921</td>\n",
       "      <td>2.550113e-02</td>\n",
       "    </tr>\n",
       "    <tr>\n",
       "      <th>3</th>\n",
       "      <td>957922</td>\n",
       "      <td>8.007960e-08</td>\n",
       "    </tr>\n",
       "    <tr>\n",
       "      <th>4</th>\n",
       "      <td>957923</td>\n",
       "      <td>3.134850e-07</td>\n",
       "    </tr>\n",
       "  </tbody>\n",
       "</table>\n",
       "</div>"
      ],
      "text/plain": [
       "       id         claim\n",
       "0  957919  1.121322e-02\n",
       "1  957920  4.628708e-08\n",
       "2  957921  2.550113e-02\n",
       "3  957922  8.007960e-08\n",
       "4  957923  3.134850e-07"
      ]
     },
     "execution_count": 45,
     "metadata": {},
     "output_type": "execute_result"
    }
   ],
   "source": [
    "pd.read_csv(f\"{constants.SUBMISSION_DIR}/sub_power_8_xgb_no_imp_xgb_imp_lgb_no_imp.gz\").head()"
   ]
  },
  {
   "cell_type": "code",
   "execution_count": null,
   "id": "horizontal-northern",
   "metadata": {},
   "outputs": [],
   "source": []
  }
 ],
 "metadata": {
  "kernelspec": {
   "display_name": "Python 3",
   "language": "python",
   "name": "python3"
  },
  "language_info": {
   "codemirror_mode": {
    "name": "ipython",
    "version": 3
   },
   "file_extension": ".py",
   "mimetype": "text/x-python",
   "name": "python",
   "nbconvert_exporter": "python",
   "pygments_lexer": "ipython3",
   "version": "3.8.6"
  }
 },
 "nbformat": 4,
 "nbformat_minor": 5
}
