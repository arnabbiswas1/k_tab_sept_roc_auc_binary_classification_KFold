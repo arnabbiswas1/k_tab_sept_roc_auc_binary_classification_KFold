{
 "cells": [
  {
   "cell_type": "code",
   "execution_count": 1,
   "id": "engaged-nylon",
   "metadata": {},
   "outputs": [],
   "source": [
    "import sys\n",
    "\n",
    "import pandas as pd\n",
    "import numpy as np\n",
    "import matplotlib.pyplot as plt \n",
    "\n",
    "from sklearn import metrics\n",
    "\n",
    "sys.path.insert(0, \"/opt/vssexclude/personal/kaggle/k_tab_aug\")"
   ]
  },
  {
   "cell_type": "code",
   "execution_count": 2,
   "id": "clinical-accordance",
   "metadata": {},
   "outputs": [],
   "source": [
    "%load_ext autoreload\n",
    "%autoreload 2\n",
    "%config Completer.use_jedi = False"
   ]
  },
  {
   "cell_type": "code",
   "execution_count": 3,
   "id": "distinguished-joseph",
   "metadata": {},
   "outputs": [],
   "source": [
    "import src.config.constants as constants\n",
    "import src.munging as process_data\n",
    "import src.common as common"
   ]
  },
  {
   "cell_type": "code",
   "execution_count": 4,
   "id": "expressed-family",
   "metadata": {},
   "outputs": [
    {
     "name": "stdout",
     "output_type": "stream",
     "text": [
      "[INFO]2021-08-31 18:44:41,926:blending:Reading Data from /opt/vssexclude/personal/kaggle/k_tab_aug/data/processed...\n",
      "[INFO]2021-08-31 18:44:42,077:blending:Shape of train_df : (250000, 101)\n",
      "[INFO]2021-08-31 18:44:42,140:blending:Shape of test_df : (150000, 100)\n",
      "[INFO]2021-08-31 18:44:42,145:blending:Shape of sample_submission_df : (150000, 1)\n"
     ]
    }
   ],
   "source": [
    "logger = common.get_logger(\"blending\")\n",
    "\n",
    "train_df, _, _ = process_data.read_processed_data(logger, data_dir=constants.PROCESSED_DATA_DIR)"
   ]
  },
  {
   "cell_type": "code",
   "execution_count": 5,
   "id": "civic-ontario",
   "metadata": {},
   "outputs": [],
   "source": [
    "y_true = train_df.loss.values"
   ]
  },
  {
   "cell_type": "code",
   "execution_count": 9,
   "id": "virgin-theorem",
   "metadata": {},
   "outputs": [],
   "source": [
    "df_sub_1 = pd.read_csv(f\"{constants.SUBMISSION_DIR}/sub_lgb_ts_f1_weighted_SK_10_tsfresh_top_2_greedy_selection_optuna_param_last_run_0831_1740_0.09326.csv\")\n",
    "df_sub_2 = pd.read_csv(f\"{constants.SUBMISSION_DIR}/sub_lgb_ts_f1_weighted_SK_10_tsfresh_top_2_greedy_selection_set_2_0831_1804_0.09330.csv\")\n",
    "\n",
    "df_oof_1 = pd.read_csv(f\"{constants.OOF_DIR}/oof_lgb_ts_f1_weighted_SK_10_tsfresh_top_2_greedy_selection_optuna_param_last_run_0831_1740_0.09326.csv\")\n",
    "df_oof_2 = pd.read_csv(f\"{constants.OOF_DIR}/oof_lgb_ts_f1_weighted_SK_10_tsfresh_top_2_greedy_selection_set_2_0831_1804_0.09330.csv\")\n"
   ]
  },
  {
   "cell_type": "code",
   "execution_count": 8,
   "id": "defined-glenn",
   "metadata": {},
   "outputs": [],
   "source": [
    "\n",
    "df_oof_1 = df_oof_1.drop([\"Unnamed: 0\"], axis=1)\n",
    "df_oof_2 = df_oof_2.drop([\"Unnamed: 0\"], axis=1)"
   ]
  },
  {
   "cell_type": "code",
   "execution_count": 11,
   "id": "moved-cream",
   "metadata": {},
   "outputs": [
    {
     "data": {
      "text/plain": [
       "0    150000\n",
       "Name: loss, dtype: int64"
      ]
     },
     "execution_count": 11,
     "metadata": {},
     "output_type": "execute_result"
    }
   ],
   "source": [
    "df_sub_2.loss.value_counts()"
   ]
  },
  {
   "cell_type": "code",
   "execution_count": 9,
   "id": "measured-corps",
   "metadata": {},
   "outputs": [],
   "source": [
    "def best_blend(df_oof_1, df_oof_2, y_true, coeff):    \n",
    "    oof_pred = (df_oof_1 * coeff) + (df_oof_2 * (1.0 - coeff)) \n",
    "    rmse = np.sqrt(metrics.mean_squared_error(y_true, oof_pred))\n",
    "    f1_weighted = metrics.f1_score(y_true, round(oof_pred), average=\"weighted\")\n",
    "    return rmse, f1_weighted\n",
    "\n",
    "results_rmse = {}\n",
    "results_f1 = {}\n",
    "for i in range(0, 21):\n",
    "    coeff = i * 0.05\n",
    "    results_rmse[coeff], results_f1[coeff] = best_blend(df_oof_1[0: 250000], df_oof_2[0: 250000], y_true, coeff)  "
   ]
  },
  {
   "cell_type": "code",
   "execution_count": 10,
   "id": "civilian-newsletter",
   "metadata": {},
   "outputs": [
    {
     "data": {
      "image/png": "[encoded data removed]",
      "text/plain": [
       "<Figure size 432x288 with 1 Axes>"
      ]
     },
     "metadata": {
      "needs_background": "light"
     },
     "output_type": "display_data"
    }
   ],
   "source": [
    "plt.plot(list(results_rmse.keys()), list(results_rmse.values()))\n",
    "plt.show()"
   ]
  },
  {
   "cell_type": "code",
   "execution_count": 13,
   "id": "warming-destruction",
   "metadata": {},
   "outputs": [
    {
     "data": {
      "text/plain": [
       "{0.0: 10.46306341374265,\n",
       " 0.05: 10.458699997609646,\n",
       " 0.1: 10.45582119969541,\n",
       " 0.15000000000000002: 10.454428246441793,\n",
       " 0.2: 10.454521731767553,\n",
       " 0.25: 10.45610161580309,\n",
       " 0.30000000000000004: 10.459167224975419,\n",
       " 0.35000000000000003: 10.463717253442965,\n",
       " 0.4: 10.469749765873107,\n",
       " 0.45: 10.477262201548648,\n",
       " 0.5: 10.486251379782958,\n",
       " 0.55: 10.496713506617203,\n",
       " 0.6000000000000001: 10.508644182766872,\n",
       " 0.65: 10.52203841277915,\n",
       " 0.7000000000000001: 10.536890615357075,\n",
       " 0.75: 10.55319463480135,\n",
       " 0.8: 10.57094375351605,\n",
       " 0.8500000000000001: 10.590130705520117,\n",
       " 0.9: 10.61074769090284,\n",
       " 0.9500000000000001: 10.632786391158247,\n",
       " 1.0: 10.65623798533047}"
      ]
     },
     "execution_count": 13,
     "metadata": {},
     "output_type": "execute_result"
    }
   ],
   "source": [
    "results_rmse"
   ]
  },
  {
   "cell_type": "code",
   "execution_count": 11,
   "id": "wireless-clerk",
   "metadata": {},
   "outputs": [
    {
     "data": {
      "image/png": "[encoded data removed]",
      "text/plain": [
       "<Figure size 432x288 with 1 Axes>"
      ]
     },
     "metadata": {
      "needs_background": "light"
     },
     "output_type": "display_data"
    }
   ],
   "source": [
    "plt.plot(list(results_f1.keys()), list(results_f1.values()))\n",
    "plt.show()"
   ]
  },
  {
   "cell_type": "code",
   "execution_count": 12,
   "id": "dutch-minutes",
   "metadata": {},
   "outputs": [
    {
     "data": {
      "text/plain": [
       "{0.0: 0.09330635410647958,\n",
       " 0.05: 0.09393209858370791,\n",
       " 0.1: 0.09356304452115968,\n",
       " 0.15000000000000002: 0.09355859018954164,\n",
       " 0.2: 0.09345106371821979,\n",
       " 0.25: 0.09337018384118971,\n",
       " 0.30000000000000004: 0.09335151657401682,\n",
       " 0.35000000000000003: 0.09336065445177343,\n",
       " 0.4: 0.09334666681330785,\n",
       " 0.45: 0.0933760745117759,\n",
       " 0.5: 0.09333525039865903,\n",
       " 0.55: 0.09331931511226557,\n",
       " 0.6000000000000001: 0.09329027290805694,\n",
       " 0.65: 0.09329879851392209,\n",
       " 0.7000000000000001: 0.09327476607996157,\n",
       " 0.75: 0.09327426414148327,\n",
       " 0.8: 0.09327975905813544,\n",
       " 0.8500000000000001: 0.09327730692284311,\n",
       " 0.9: 0.09327245706168444,\n",
       " 0.9500000000000001: 0.09327033107743248,\n",
       " 1.0: 0.09327033107743248}"
      ]
     },
     "execution_count": 12,
     "metadata": {},
     "output_type": "execute_result"
    }
   ],
   "source": [
    "results_f1"
   ]
  },
  {
   "cell_type": "code",
   "execution_count": 55,
   "id": "modular-proof",
   "metadata": {},
   "outputs": [
    {
     "data": {
      "text/plain": [
       "{0.0: 10.46306341374265,\n",
       " 0.1: 10.079081601019015,\n",
       " 0.2: 9.773160782469507,\n",
       " 0.30000000000000004: 9.552803425173158,\n",
       " 0.4: 9.42401351442155,\n",
       " 0.5: 9.390559301766855,\n",
       " 0.6000000000000001: 9.45345297338491,\n",
       " 0.7000000000000001: 9.610803196403515,\n",
       " 0.8: 9.858087993115095,\n",
       " 0.9: 10.188761235793093,\n",
       " 1.0: 10.595018074548056}"
      ]
     },
     "execution_count": 55,
     "metadata": {},
     "output_type": "execute_result"
    }
   ],
   "source": [
    "results"
   ]
  },
  {
   "cell_type": "code",
   "execution_count": null,
   "id": "alike-strain",
   "metadata": {},
   "outputs": [],
   "source": []
  }
 ],
 "metadata": {
  "kernelspec": {
   "display_name": "Python 3",
   "language": "python",
   "name": "python3"
  },
  "language_info": {
   "codemirror_mode": {
    "name": "ipython",
    "version": 3
   },
   "file_extension": ".py",
   "mimetype": "text/x-python",
   "name": "python",
   "nbconvert_exporter": "python",
   "pygments_lexer": "ipython3",
   "version": "3.8.6"
  }
 },
 "nbformat": 4,
 "nbformat_minor": 5
}
