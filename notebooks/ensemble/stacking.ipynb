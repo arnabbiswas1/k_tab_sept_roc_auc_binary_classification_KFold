{
 "cells": [
  {
   "cell_type": "markdown",
   "id": "postal-hepatitis",
   "metadata": {},
   "source": [
    "### This is a simple Stacking code.\n",
    "\n",
    "Steps\n",
    "- Build two models using CV. These models will generate predictions on oof data as well as on test data.\n",
    "- Build data set for level 2\n",
    "    - Combine the oof predictions to form a train DataFrame (l1_train_df). With two models in level 1, this dataset will have two feature columns. Each column will be the oof prediction from one of the models from level 1. Third column will be the target variable from the raw data.\n",
    "    - Combine the test predictions to form a test DataFrame (l1_test_df). With two models in level 1, this dataset will have two columns. Each column will be the predictions on test data from one of the models from level 1.\n",
    "- Build a level 2 model with l1_train_df with CV and predict on l1_test_df"
   ]
  },
  {
   "cell_type": "code",
   "execution_count": 1,
   "id": "embedded-stability",
   "metadata": {},
   "outputs": [],
   "source": [
    "import os\n",
    "import sys\n",
    "import gc\n",
    "\n",
    "import pandas as pd\n",
    "import numpy as np\n",
    "import seaborn as sns\n",
    "\n",
    "import matplotlib.pyplot as plt\n",
    "\n",
    "import lightgbm as lgb\n",
    "\n",
    "from sklearn.preprocessing import LabelEncoder\n",
    "from sklearn.model_selection import StratifiedKFold\n",
    "from sklearn import metrics\n",
    "from sklearn.metrics import roc_auc_score\n",
    "from sklearn.calibration import CalibratedClassifierCV\n",
    "from sklearn.linear_model import RidgeClassifier\n",
    "\n",
    "pd.options.display.max_rows = 1000"
   ]
  },
  {
   "cell_type": "code",
   "execution_count": 2,
   "id": "atomic-consciousness",
   "metadata": {},
   "outputs": [],
   "source": [
    "sys.path.insert(0, \"/opt/vssexclude/personal/kaggle/kaggle_tab_mar/src\")"
   ]
  },
  {
   "cell_type": "code",
   "execution_count": 3,
   "id": "critical-hierarchy",
   "metadata": {},
   "outputs": [],
   "source": [
    "%load_ext autoreload\n",
    "%autoreload 2"
   ]
  },
  {
   "cell_type": "code",
   "execution_count": 4,
   "id": "single-fishing",
   "metadata": {},
   "outputs": [],
   "source": [
    "import munging.process_data_util as process_data\n",
    "import common.com_util as common\n",
    "import config.constants as constants\n",
    "import modeling.train_util as model"
   ]
  },
  {
   "cell_type": "code",
   "execution_count": 5,
   "id": "opposite-alloy",
   "metadata": {},
   "outputs": [],
   "source": [
    "SEED = 42\n",
    "TARGET = 'target'\n",
    "\n",
    "LOGGER_NAME = 'main'\n",
    "logger = common.get_logger(LOGGER_NAME)\n",
    "common.set_seed(SEED)"
   ]
  },
  {
   "cell_type": "code",
   "execution_count": 6,
   "id": "introductory-bradley",
   "metadata": {},
   "outputs": [],
   "source": [
    "def __evaluate_and_log(\n",
    "    logger,\n",
    "    run_id,\n",
    "    train_Y,\n",
    "    y_oof,\n",
    "    y_predicted,\n",
    "    n_folds,\n",
    "    result_dict,\n",
    "    cv_scores,\n",
    "    best_iterations,\n",
    "):\n",
    "    y_predicted /= n_folds\n",
    "\n",
    "    oof_score = round(__calculate_perf_metric(train_Y, y_oof), 5)\n",
    "    avg_cv_scores = round(sum(cv_scores) / len(cv_scores), 5)\n",
    "    std_cv_scores = round(np.array(cv_scores).std(), 5)\n",
    "\n",
    "    logger.info(f\"Combined OOF score : {oof_score}\")\n",
    "    logger.info(f\"Average of {n_folds} folds OOF score {avg_cv_scores}\")\n",
    "    logger.info(f\"std of {n_folds} folds OOF score {std_cv_scores}\")\n",
    "\n",
    "    result_dict[\"y_oof\"] = y_oof\n",
    "    result_dict[\"prediction\"] = y_predicted\n",
    "    result_dict[\"oof_score\"] = oof_score\n",
    "    result_dict[\"cv_scores\"] = cv_scores\n",
    "    result_dict[\"avg_cv_scores\"] = avg_cv_scores\n",
    "    result_dict[\"std_cv_scores\"] = std_cv_scores\n",
    "\n",
    "    return result_dict\n",
    "\n",
    "\n",
    "def __get_X_Y_from_CV(train_X, train_Y, train_index, validation_index):\n",
    "    X_train, X_validation = (\n",
    "        train_X.iloc[train_index].values,\n",
    "        train_X.iloc[validation_index].values,\n",
    "    )\n",
    "    y_train, y_validation = (\n",
    "        train_Y.iloc[train_index].values,\n",
    "        train_Y.iloc[validation_index].values,\n",
    "    )\n",
    "    return X_train, X_validation, y_train, y_validation\n",
    "\n",
    "\n",
    "def __calculate_perf_metric(y, y_hat):\n",
    "    \"\"\"Returns the performance metrics\n",
    "\n",
    "       Args:\n",
    "           y: Real value\n",
    "           y_hat: predicted value\n",
    "\n",
    "       Returns:\n",
    "           RMSE computed\n",
    "    \"\"\"\n",
    "    return roc_auc_score(y, y_hat)\n",
    "\n",
    "\n",
    "def lgb_train_validate_on_cv(\n",
    "    logger,\n",
    "    run_id,\n",
    "    train_X,\n",
    "    train_Y,\n",
    "    test_X,\n",
    "    kf,\n",
    "    features,\n",
    "    params={},\n",
    "    n_estimators=1000,\n",
    "    early_stopping_rounds=100,\n",
    "    cat_features=\"auto\",\n",
    "    verbose_eval=100,\n",
    "    is_test=False,\n",
    "):\n",
    "    \"\"\"Train a LightGBM model, validate using cross validation. If `test_X` has\n",
    "    a valid value, creates a new model with number of best iteration found during\n",
    "    holdout phase using training as well as validation data.\n",
    "\n",
    "    startify_by_labels: Used as the label for StartifiedKFold on top of continous\n",
    "    variables\n",
    "    \"\"\"\n",
    "\n",
    "    y_oof = np.zeros(len(train_X))\n",
    "    y_predicted = np.zeros(len(test_X))\n",
    "    cv_scores = []\n",
    "    result_dict = {}\n",
    "    feature_importance = pd.DataFrame()\n",
    "    best_iterations = []\n",
    "\n",
    "    fold = 0\n",
    "    n_folds = kf.get_n_splits()\n",
    "    for train_index, validation_index in kf.split(X=train_X, y=train_Y):\n",
    "        fold += 1\n",
    "        logger.info(f\"fold {fold} of {n_folds}\")\n",
    "\n",
    "        X_train, X_validation, y_train, y_validation = __get_X_Y_from_CV(\n",
    "            train_X, train_Y, train_index, validation_index\n",
    "        )\n",
    "\n",
    "        lgb_train = lgb.Dataset(X_train, y_train)\n",
    "        lgb_eval = lgb.Dataset(\n",
    "            X_validation, y_validation, reference=lgb_train)\n",
    "        model = lgb.train(\n",
    "            params,\n",
    "            lgb_train,\n",
    "            valid_sets=[lgb_train, lgb_eval],\n",
    "            verbose_eval=verbose_eval,\n",
    "            early_stopping_rounds=early_stopping_rounds,\n",
    "            num_boost_round=n_estimators,\n",
    "            feature_name=features,\n",
    "            categorical_feature=cat_features,\n",
    "        )\n",
    "\n",
    "        del lgb_train, lgb_eval, train_index, X_train, y_train\n",
    "        gc.collect()\n",
    "\n",
    "        y_oof[validation_index] = model.predict(\n",
    "            X_validation, num_iteration=model.best_iteration\n",
    "        )\n",
    "\n",
    "        if test_X is not None:\n",
    "            y_predicted += model.predict(\n",
    "                test_X.values, num_iteration=model.best_iteration\n",
    "            )\n",
    "\n",
    "        cv_oof_score = __calculate_perf_metric(y_validation, y_oof[validation_index])\n",
    "        cv_scores.append(cv_oof_score)\n",
    "        logger.info(f\"CV OOF Score for fold {fold} is {cv_oof_score}\")\n",
    "\n",
    "        del validation_index, X_validation, y_validation\n",
    "        gc.collect()\n",
    "\n",
    "    result_dict = __evaluate_and_log(\n",
    "        logger,\n",
    "        run_id,\n",
    "        train_Y,\n",
    "        y_oof,\n",
    "        y_predicted,\n",
    "        n_folds,\n",
    "        result_dict,\n",
    "        cv_scores,\n",
    "        best_iterations,\n",
    "    )\n",
    "\n",
    "    del y_oof\n",
    "    gc.collect()\n",
    "\n",
    "    logger.info(\"Training/Prediction completed!\")\n",
    "    return result_dict"
   ]
  },
  {
   "cell_type": "code",
   "execution_count": 7,
   "id": "apparent-automation",
   "metadata": {},
   "outputs": [
    {
     "name": "stdout",
     "output_type": "stream",
     "text": [
      "[INFO]2021-03-23 10:06:45,454:main:Reading Data from /opt/vssexclude/personal/kaggle/kaggle_tab_mar/data/processed...\n",
      "[INFO]2021-03-23 10:06:45,576:main:Shape of train_df : (300000, 31)\n",
      "[INFO]2021-03-23 10:06:45,616:main:Shape of test_df : (200000, 30)\n",
      "[INFO]2021-03-23 10:06:45,624:main:Shape of sample_submission_df : (200000, 1)\n"
     ]
    }
   ],
   "source": [
    "train_df, test_df, sample_submission_df = process_data.read_processed_data(\n",
    "    logger, constants.PROCESSED_DATA_DIR, train=True, test=True, sample_submission=True)"
   ]
  },
  {
   "cell_type": "markdown",
   "id": "dimensional-livestock",
   "metadata": {},
   "source": [
    "### LightGBM with LabelEncoding"
   ]
  },
  {
   "cell_type": "code",
   "execution_count": 8,
   "id": "prime-sensitivity",
   "metadata": {},
   "outputs": [
    {
     "name": "stdout",
     "output_type": "stream",
     "text": [
      "[INFO]2021-03-23 10:06:46,708:main:Label Encoding the categorcal features\n"
     ]
    }
   ],
   "source": [
    "combined_df = pd.concat([train_df.drop('target', axis=1), test_df])\n",
    "target = train_df[TARGET]\n",
    "\n",
    "cat_fetaures = [name for name in train_df.columns if \"cat\" in name]\n",
    "\n",
    "logger.info(\"Label Encoding the categorcal features\")\n",
    "for name in cat_fetaures:\n",
    "    lb = LabelEncoder()\n",
    "    combined_df[name] = lb.fit_transform(combined_df[name])\n",
    "\n",
    "train_df = combined_df.loc[train_df.index]\n",
    "train_df[TARGET] = target\n",
    "\n",
    "test_df = combined_df.loc[test_df.index]\n",
    "\n",
    "train_X = train_df.drop([TARGET], axis=1)\n",
    "train_Y = train_df[TARGET]\n",
    "test_X = test_df"
   ]
  },
  {
   "cell_type": "code",
   "execution_count": 9,
   "id": "assured-nation",
   "metadata": {},
   "outputs": [
    {
     "name": "stdout",
     "output_type": "stream",
     "text": [
      "[INFO]2021-03-23 10:06:48,232:main:List of predictors ['cat0', 'cat1', 'cat2', 'cat3', 'cat4', 'cat5', 'cat6', 'cat7', 'cat8', 'cat9', 'cat10', 'cat11', 'cat12', 'cat13', 'cat14', 'cat15', 'cat16', 'cat17', 'cat18', 'cont0', 'cont1', 'cont2', 'cont3', 'cont4', 'cont5', 'cont6', 'cont7', 'cont8', 'cont9', 'cont10']\n",
      "[INFO]2021-03-23 10:06:48,269:main:fold 1 of 10\n"
     ]
    },
    {
     "name": "stderr",
     "output_type": "stream",
     "text": [
      "/home/arnabb/anaconda3/envs/py_k/lib/python3.8/site-packages/lightgbm/basic.py:1554: UserWarning: categorical_feature in Dataset is overridden.\n",
      "New categorical_feature is ['cat0', 'cat1', 'cat10', 'cat11', 'cat12', 'cat13', 'cat14', 'cat15', 'cat16', 'cat17', 'cat18', 'cat2', 'cat3', 'cat4', 'cat5', 'cat6', 'cat7', 'cat8', 'cat9']\n",
      "  warnings.warn('categorical_feature in Dataset is overridden.\\n'\n",
      "/home/arnabb/anaconda3/envs/py_k/lib/python3.8/site-packages/lightgbm/basic.py:1286: UserWarning: Overriding the parameters from Reference Dataset.\n",
      "  warnings.warn('Overriding the parameters from Reference Dataset.')\n",
      "/home/arnabb/anaconda3/envs/py_k/lib/python3.8/site-packages/lightgbm/basic.py:1098: UserWarning: categorical_column in param dict is overridden.\n",
      "  warnings.warn('{} in param dict is overridden.'.format(cat_alias))\n"
     ]
    },
    {
     "name": "stdout",
     "output_type": "stream",
     "text": [
      "Training until validation scores don't improve for 100 rounds\n",
      "[100]\ttraining's auc: 0.904474\tvalid_1's auc: 0.892688\n",
      "[200]\ttraining's auc: 0.914308\tvalid_1's auc: 0.893376\n",
      "[300]\ttraining's auc: 0.920909\tvalid_1's auc: 0.89343\n",
      "Early stopping, best iteration is:\n",
      "[242]\ttraining's auc: 0.917376\tvalid_1's auc: 0.893562\n",
      "[INFO]2021-03-23 10:06:57,295:main:CV OOF Score for fold 1 is 0.8935621455069291\n",
      "[INFO]2021-03-23 10:06:57,333:main:fold 2 of 10\n"
     ]
    },
    {
     "name": "stderr",
     "output_type": "stream",
     "text": [
      "/home/arnabb/anaconda3/envs/py_k/lib/python3.8/site-packages/lightgbm/basic.py:1554: UserWarning: categorical_feature in Dataset is overridden.\n",
      "New categorical_feature is ['cat0', 'cat1', 'cat10', 'cat11', 'cat12', 'cat13', 'cat14', 'cat15', 'cat16', 'cat17', 'cat18', 'cat2', 'cat3', 'cat4', 'cat5', 'cat6', 'cat7', 'cat8', 'cat9']\n",
      "  warnings.warn('categorical_feature in Dataset is overridden.\\n'\n",
      "/home/arnabb/anaconda3/envs/py_k/lib/python3.8/site-packages/lightgbm/basic.py:1286: UserWarning: Overriding the parameters from Reference Dataset.\n",
      "  warnings.warn('Overriding the parameters from Reference Dataset.')\n",
      "/home/arnabb/anaconda3/envs/py_k/lib/python3.8/site-packages/lightgbm/basic.py:1098: UserWarning: categorical_column in param dict is overridden.\n",
      "  warnings.warn('{} in param dict is overridden.'.format(cat_alias))\n"
     ]
    },
    {
     "name": "stdout",
     "output_type": "stream",
     "text": [
      "Training until validation scores don't improve for 100 rounds\n",
      "[100]\ttraining's auc: 0.904693\tvalid_1's auc: 0.892532\n",
      "[200]\ttraining's auc: 0.914114\tvalid_1's auc: 0.893137\n",
      "[300]\ttraining's auc: 0.921219\tvalid_1's auc: 0.893238\n",
      "Early stopping, best iteration is:\n",
      "[288]\ttraining's auc: 0.92041\tvalid_1's auc: 0.893268\n",
      "[INFO]2021-03-23 10:07:07,238:main:CV OOF Score for fold 2 is 0.8932684415487866\n",
      "[INFO]2021-03-23 10:07:07,284:main:fold 3 of 10\n"
     ]
    },
    {
     "name": "stderr",
     "output_type": "stream",
     "text": [
      "/home/arnabb/anaconda3/envs/py_k/lib/python3.8/site-packages/lightgbm/basic.py:1554: UserWarning: categorical_feature in Dataset is overridden.\n",
      "New categorical_feature is ['cat0', 'cat1', 'cat10', 'cat11', 'cat12', 'cat13', 'cat14', 'cat15', 'cat16', 'cat17', 'cat18', 'cat2', 'cat3', 'cat4', 'cat5', 'cat6', 'cat7', 'cat8', 'cat9']\n",
      "  warnings.warn('categorical_feature in Dataset is overridden.\\n'\n",
      "/home/arnabb/anaconda3/envs/py_k/lib/python3.8/site-packages/lightgbm/basic.py:1286: UserWarning: Overriding the parameters from Reference Dataset.\n",
      "  warnings.warn('Overriding the parameters from Reference Dataset.')\n",
      "/home/arnabb/anaconda3/envs/py_k/lib/python3.8/site-packages/lightgbm/basic.py:1098: UserWarning: categorical_column in param dict is overridden.\n",
      "  warnings.warn('{} in param dict is overridden.'.format(cat_alias))\n"
     ]
    },
    {
     "name": "stdout",
     "output_type": "stream",
     "text": [
      "Training until validation scores don't improve for 100 rounds\n",
      "[100]\ttraining's auc: 0.90439\tvalid_1's auc: 0.893218\n",
      "[200]\ttraining's auc: 0.914146\tvalid_1's auc: 0.894507\n",
      "[300]\ttraining's auc: 0.921166\tvalid_1's auc: 0.894784\n",
      "Early stopping, best iteration is:\n",
      "[267]\ttraining's auc: 0.918997\tvalid_1's auc: 0.894837\n",
      "[INFO]2021-03-23 10:07:16,308:main:CV OOF Score for fold 3 is 0.8948369264823768\n",
      "[INFO]2021-03-23 10:07:16,348:main:fold 4 of 10\n"
     ]
    },
    {
     "name": "stderr",
     "output_type": "stream",
     "text": [
      "/home/arnabb/anaconda3/envs/py_k/lib/python3.8/site-packages/lightgbm/basic.py:1554: UserWarning: categorical_feature in Dataset is overridden.\n",
      "New categorical_feature is ['cat0', 'cat1', 'cat10', 'cat11', 'cat12', 'cat13', 'cat14', 'cat15', 'cat16', 'cat17', 'cat18', 'cat2', 'cat3', 'cat4', 'cat5', 'cat6', 'cat7', 'cat8', 'cat9']\n",
      "  warnings.warn('categorical_feature in Dataset is overridden.\\n'\n",
      "/home/arnabb/anaconda3/envs/py_k/lib/python3.8/site-packages/lightgbm/basic.py:1286: UserWarning: Overriding the parameters from Reference Dataset.\n",
      "  warnings.warn('Overriding the parameters from Reference Dataset.')\n",
      "/home/arnabb/anaconda3/envs/py_k/lib/python3.8/site-packages/lightgbm/basic.py:1098: UserWarning: categorical_column in param dict is overridden.\n",
      "  warnings.warn('{} in param dict is overridden.'.format(cat_alias))\n"
     ]
    },
    {
     "name": "stdout",
     "output_type": "stream",
     "text": [
      "Training until validation scores don't improve for 100 rounds\n",
      "[100]\ttraining's auc: 0.904569\tvalid_1's auc: 0.891442\n",
      "[200]\ttraining's auc: 0.913978\tvalid_1's auc: 0.892328\n",
      "[300]\ttraining's auc: 0.921102\tvalid_1's auc: 0.892389\n",
      "Early stopping, best iteration is:\n",
      "[228]\ttraining's auc: 0.91608\tvalid_1's auc: 0.892522\n",
      "[INFO]2021-03-23 10:07:24,858:main:CV OOF Score for fold 4 is 0.8925215961343859\n",
      "[INFO]2021-03-23 10:07:24,897:main:fold 5 of 10\n"
     ]
    },
    {
     "name": "stderr",
     "output_type": "stream",
     "text": [
      "/home/arnabb/anaconda3/envs/py_k/lib/python3.8/site-packages/lightgbm/basic.py:1554: UserWarning: categorical_feature in Dataset is overridden.\n",
      "New categorical_feature is ['cat0', 'cat1', 'cat10', 'cat11', 'cat12', 'cat13', 'cat14', 'cat15', 'cat16', 'cat17', 'cat18', 'cat2', 'cat3', 'cat4', 'cat5', 'cat6', 'cat7', 'cat8', 'cat9']\n",
      "  warnings.warn('categorical_feature in Dataset is overridden.\\n'\n",
      "/home/arnabb/anaconda3/envs/py_k/lib/python3.8/site-packages/lightgbm/basic.py:1286: UserWarning: Overriding the parameters from Reference Dataset.\n",
      "  warnings.warn('Overriding the parameters from Reference Dataset.')\n",
      "/home/arnabb/anaconda3/envs/py_k/lib/python3.8/site-packages/lightgbm/basic.py:1098: UserWarning: categorical_column in param dict is overridden.\n",
      "  warnings.warn('{} in param dict is overridden.'.format(cat_alias))\n"
     ]
    },
    {
     "name": "stdout",
     "output_type": "stream",
     "text": [
      "Training until validation scores don't improve for 100 rounds\n",
      "[100]\ttraining's auc: 0.904619\tvalid_1's auc: 0.892951\n",
      "[200]\ttraining's auc: 0.913791\tvalid_1's auc: 0.893959\n",
      "[300]\ttraining's auc: 0.920615\tvalid_1's auc: 0.893815\n",
      "Early stopping, best iteration is:\n",
      "[230]\ttraining's auc: 0.915981\tvalid_1's auc: 0.894065\n",
      "[INFO]2021-03-23 10:07:33,241:main:CV OOF Score for fold 5 is 0.8940646361215158\n",
      "[INFO]2021-03-23 10:07:33,282:main:fold 6 of 10\n"
     ]
    },
    {
     "name": "stderr",
     "output_type": "stream",
     "text": [
      "/home/arnabb/anaconda3/envs/py_k/lib/python3.8/site-packages/lightgbm/basic.py:1554: UserWarning: categorical_feature in Dataset is overridden.\n",
      "New categorical_feature is ['cat0', 'cat1', 'cat10', 'cat11', 'cat12', 'cat13', 'cat14', 'cat15', 'cat16', 'cat17', 'cat18', 'cat2', 'cat3', 'cat4', 'cat5', 'cat6', 'cat7', 'cat8', 'cat9']\n",
      "  warnings.warn('categorical_feature in Dataset is overridden.\\n'\n",
      "/home/arnabb/anaconda3/envs/py_k/lib/python3.8/site-packages/lightgbm/basic.py:1286: UserWarning: Overriding the parameters from Reference Dataset.\n",
      "  warnings.warn('Overriding the parameters from Reference Dataset.')\n",
      "/home/arnabb/anaconda3/envs/py_k/lib/python3.8/site-packages/lightgbm/basic.py:1098: UserWarning: categorical_column in param dict is overridden.\n",
      "  warnings.warn('{} in param dict is overridden.'.format(cat_alias))\n"
     ]
    },
    {
     "name": "stdout",
     "output_type": "stream",
     "text": [
      "Training until validation scores don't improve for 100 rounds\n",
      "[100]\ttraining's auc: 0.904383\tvalid_1's auc: 0.891602\n",
      "[200]\ttraining's auc: 0.913907\tvalid_1's auc: 0.892497\n",
      "[300]\ttraining's auc: 0.920975\tvalid_1's auc: 0.892624\n",
      "Early stopping, best iteration is:\n",
      "[274]\ttraining's auc: 0.91915\tvalid_1's auc: 0.892695\n",
      "[INFO]2021-03-23 10:07:42,756:main:CV OOF Score for fold 6 is 0.8926953681706283\n",
      "[INFO]2021-03-23 10:07:42,794:main:fold 7 of 10\n"
     ]
    },
    {
     "name": "stderr",
     "output_type": "stream",
     "text": [
      "/home/arnabb/anaconda3/envs/py_k/lib/python3.8/site-packages/lightgbm/basic.py:1554: UserWarning: categorical_feature in Dataset is overridden.\n",
      "New categorical_feature is ['cat0', 'cat1', 'cat10', 'cat11', 'cat12', 'cat13', 'cat14', 'cat15', 'cat16', 'cat17', 'cat18', 'cat2', 'cat3', 'cat4', 'cat5', 'cat6', 'cat7', 'cat8', 'cat9']\n",
      "  warnings.warn('categorical_feature in Dataset is overridden.\\n'\n",
      "/home/arnabb/anaconda3/envs/py_k/lib/python3.8/site-packages/lightgbm/basic.py:1286: UserWarning: Overriding the parameters from Reference Dataset.\n",
      "  warnings.warn('Overriding the parameters from Reference Dataset.')\n",
      "/home/arnabb/anaconda3/envs/py_k/lib/python3.8/site-packages/lightgbm/basic.py:1098: UserWarning: categorical_column in param dict is overridden.\n",
      "  warnings.warn('{} in param dict is overridden.'.format(cat_alias))\n"
     ]
    },
    {
     "name": "stdout",
     "output_type": "stream",
     "text": [
      "Training until validation scores don't improve for 100 rounds\n",
      "[100]\ttraining's auc: 0.904779\tvalid_1's auc: 0.887345\n",
      "[200]\ttraining's auc: 0.914073\tvalid_1's auc: 0.888388\n",
      "[300]\ttraining's auc: 0.920976\tvalid_1's auc: 0.888543\n",
      "Early stopping, best iteration is:\n",
      "[287]\ttraining's auc: 0.920124\tvalid_1's auc: 0.888592\n",
      "[INFO]2021-03-23 10:07:52,628:main:CV OOF Score for fold 7 is 0.8885918213105781\n",
      "[INFO]2021-03-23 10:07:52,671:main:fold 8 of 10\n"
     ]
    },
    {
     "name": "stderr",
     "output_type": "stream",
     "text": [
      "/home/arnabb/anaconda3/envs/py_k/lib/python3.8/site-packages/lightgbm/basic.py:1554: UserWarning: categorical_feature in Dataset is overridden.\n",
      "New categorical_feature is ['cat0', 'cat1', 'cat10', 'cat11', 'cat12', 'cat13', 'cat14', 'cat15', 'cat16', 'cat17', 'cat18', 'cat2', 'cat3', 'cat4', 'cat5', 'cat6', 'cat7', 'cat8', 'cat9']\n",
      "  warnings.warn('categorical_feature in Dataset is overridden.\\n'\n",
      "/home/arnabb/anaconda3/envs/py_k/lib/python3.8/site-packages/lightgbm/basic.py:1286: UserWarning: Overriding the parameters from Reference Dataset.\n",
      "  warnings.warn('Overriding the parameters from Reference Dataset.')\n",
      "/home/arnabb/anaconda3/envs/py_k/lib/python3.8/site-packages/lightgbm/basic.py:1098: UserWarning: categorical_column in param dict is overridden.\n",
      "  warnings.warn('{} in param dict is overridden.'.format(cat_alias))\n"
     ]
    },
    {
     "name": "stdout",
     "output_type": "stream",
     "text": [
      "Training until validation scores don't improve for 100 rounds\n",
      "[100]\ttraining's auc: 0.904475\tvalid_1's auc: 0.890753\n",
      "[200]\ttraining's auc: 0.913768\tvalid_1's auc: 0.891295\n",
      "[300]\ttraining's auc: 0.921011\tvalid_1's auc: 0.891071\n",
      "Early stopping, best iteration is:\n",
      "[215]\ttraining's auc: 0.915027\tvalid_1's auc: 0.891323\n",
      "[INFO]2021-03-23 10:08:00,540:main:CV OOF Score for fold 8 is 0.8913228304385516\n",
      "[INFO]2021-03-23 10:08:00,579:main:fold 9 of 10\n"
     ]
    },
    {
     "name": "stderr",
     "output_type": "stream",
     "text": [
      "/home/arnabb/anaconda3/envs/py_k/lib/python3.8/site-packages/lightgbm/basic.py:1554: UserWarning: categorical_feature in Dataset is overridden.\n",
      "New categorical_feature is ['cat0', 'cat1', 'cat10', 'cat11', 'cat12', 'cat13', 'cat14', 'cat15', 'cat16', 'cat17', 'cat18', 'cat2', 'cat3', 'cat4', 'cat5', 'cat6', 'cat7', 'cat8', 'cat9']\n",
      "  warnings.warn('categorical_feature in Dataset is overridden.\\n'\n",
      "/home/arnabb/anaconda3/envs/py_k/lib/python3.8/site-packages/lightgbm/basic.py:1286: UserWarning: Overriding the parameters from Reference Dataset.\n",
      "  warnings.warn('Overriding the parameters from Reference Dataset.')\n",
      "/home/arnabb/anaconda3/envs/py_k/lib/python3.8/site-packages/lightgbm/basic.py:1098: UserWarning: categorical_column in param dict is overridden.\n",
      "  warnings.warn('{} in param dict is overridden.'.format(cat_alias))\n"
     ]
    },
    {
     "name": "stdout",
     "output_type": "stream",
     "text": [
      "Training until validation scores don't improve for 100 rounds\n",
      "[100]\ttraining's auc: 0.904635\tvalid_1's auc: 0.893019\n",
      "[200]\ttraining's auc: 0.91435\tvalid_1's auc: 0.893963\n",
      "Early stopping, best iteration is:\n",
      "[195]\ttraining's auc: 0.913939\tvalid_1's auc: 0.894012\n",
      "[INFO]2021-03-23 10:08:07,810:main:CV OOF Score for fold 9 is 0.8940121598426086\n",
      "[INFO]2021-03-23 10:08:07,852:main:fold 10 of 10\n"
     ]
    },
    {
     "name": "stderr",
     "output_type": "stream",
     "text": [
      "/home/arnabb/anaconda3/envs/py_k/lib/python3.8/site-packages/lightgbm/basic.py:1554: UserWarning: categorical_feature in Dataset is overridden.\n",
      "New categorical_feature is ['cat0', 'cat1', 'cat10', 'cat11', 'cat12', 'cat13', 'cat14', 'cat15', 'cat16', 'cat17', 'cat18', 'cat2', 'cat3', 'cat4', 'cat5', 'cat6', 'cat7', 'cat8', 'cat9']\n",
      "  warnings.warn('categorical_feature in Dataset is overridden.\\n'\n",
      "/home/arnabb/anaconda3/envs/py_k/lib/python3.8/site-packages/lightgbm/basic.py:1286: UserWarning: Overriding the parameters from Reference Dataset.\n",
      "  warnings.warn('Overriding the parameters from Reference Dataset.')\n",
      "/home/arnabb/anaconda3/envs/py_k/lib/python3.8/site-packages/lightgbm/basic.py:1098: UserWarning: categorical_column in param dict is overridden.\n",
      "  warnings.warn('{} in param dict is overridden.'.format(cat_alias))\n"
     ]
    },
    {
     "name": "stdout",
     "output_type": "stream",
     "text": [
      "Training until validation scores don't improve for 100 rounds\n",
      "[100]\ttraining's auc: 0.904875\tvalid_1's auc: 0.88927\n",
      "[200]\ttraining's auc: 0.914355\tvalid_1's auc: 0.890166\n",
      "Early stopping, best iteration is:\n",
      "[192]\ttraining's auc: 0.913711\tvalid_1's auc: 0.890207\n",
      "[INFO]2021-03-23 10:08:15,067:main:CV OOF Score for fold 10 is 0.8902072121789532\n",
      "[INFO]2021-03-23 10:08:15,213:main:Combined OOF score : 0.8925\n",
      "[INFO]2021-03-23 10:08:15,214:main:Average of 10 folds OOF score 0.89251\n",
      "[INFO]2021-03-23 10:08:15,214:main:std of 10 folds OOF score 0.00184\n",
      "[INFO]2021-03-23 10:08:15,285:main:Training/Prediction completed!\n"
     ]
    }
   ],
   "source": [
    "MODEL_TYPE = \"lgb\"\n",
    "OBJECTIVE = \"binary\"\n",
    "BOOSTING_TYPE = \"gbdt\"\n",
    "METRIC = \"auc\"\n",
    "VERBOSE = 100\n",
    "N_THREADS = -1\n",
    "NUM_LEAVES = 31\n",
    "MAX_DEPTH = -1\n",
    "N_ESTIMATORS = 10000\n",
    "LEARNING_RATE = 0.1\n",
    "EARLY_STOPPING_ROUNDS = 100\n",
    "\n",
    "\n",
    "lgb_params = {\n",
    "                'objective': OBJECTIVE,\n",
    "                'boosting_type': BOOSTING_TYPE,\n",
    "                'learning_rate': LEARNING_RATE,\n",
    "                'num_leaves': NUM_LEAVES,\n",
    "                'tree_learner': 'serial',\n",
    "                'n_jobs': N_THREADS,\n",
    "                'seed': SEED,\n",
    "                'max_depth': MAX_DEPTH,\n",
    "                'max_bin': 255,\n",
    "                'metric': METRIC,\n",
    "                'verbose': -1,\n",
    "                }\n",
    "\n",
    "predictors = list(train_X.columns)\n",
    "logger.info(f\"List of predictors {predictors}\")\n",
    "\n",
    "sk = StratifiedKFold(n_splits=10, shuffle=False)\n",
    "\n",
    "results_dict = lgb_train_validate_on_cv(\n",
    "    logger,\n",
    "    run_id=1234,\n",
    "    train_X=train_X,\n",
    "    train_Y=train_Y,\n",
    "    test_X=test_X,\n",
    "    kf=sk,\n",
    "    features=predictors,\n",
    "    params=lgb_params,\n",
    "    n_estimators=N_ESTIMATORS,\n",
    "    early_stopping_rounds=EARLY_STOPPING_ROUNDS,\n",
    "    cat_features=cat_fetaures,\n",
    "    is_test=False,\n",
    "    verbose_eval=100,\n",
    ")"
   ]
  },
  {
   "cell_type": "code",
   "execution_count": 12,
   "id": "optimum-tamil",
   "metadata": {},
   "outputs": [
    {
     "data": {
      "text/plain": [
       "(300000, 200000)"
      ]
     },
     "execution_count": 12,
     "metadata": {},
     "output_type": "execute_result"
    }
   ],
   "source": [
    "len(results_dict['y_oof']), len(results_dict['prediction'])"
   ]
  },
  {
   "cell_type": "code",
   "execution_count": 13,
   "id": "economic-worst",
   "metadata": {},
   "outputs": [],
   "source": [
    "lgb_le_oof = results_dict['y_oof']\n",
    "lgb_le_test_pred = results_dict['prediction']"
   ]
  },
  {
   "cell_type": "markdown",
   "id": "hidden-grenada",
   "metadata": {},
   "source": [
    "## LightGBM with OHE"
   ]
  },
  {
   "cell_type": "code",
   "execution_count": 14,
   "id": "supreme-sunrise",
   "metadata": {},
   "outputs": [
    {
     "name": "stdout",
     "output_type": "stream",
     "text": [
      "[INFO]2021-03-23 10:08:23,925:main:OH Encoding the categorcal features\n"
     ]
    }
   ],
   "source": [
    "combined_df = pd.concat([train_df.drop('target', axis=1), test_df])\n",
    "target = train_df[TARGET]\n",
    "\n",
    "cat_fetaures = [name for name in train_df.columns if \"cat\" in name]\n",
    "\n",
    "logger.info(\"OH Encoding the categorcal features\")\n",
    "\n",
    "combined_df = pd.get_dummies(data=combined_df, columns=cat_fetaures)\n",
    "\n",
    "train_df = combined_df.loc[train_df.index]\n",
    "train_df[TARGET] = target\n",
    "\n",
    "test_df = combined_df.loc[test_df.index]\n",
    "\n",
    "train_X = train_df.drop([TARGET], axis=1)\n",
    "train_Y = train_df[TARGET]\n",
    "test_X = test_df"
   ]
  },
  {
   "cell_type": "code",
   "execution_count": 15,
   "id": "lucky-authority",
   "metadata": {},
   "outputs": [
    {
     "name": "stdout",
     "output_type": "stream",
     "text": [
      "[INFO]2021-03-23 10:08:27,383:main:List of predictors ['cont0', 'cont1', 'cont2', 'cont3', 'cont4', 'cont5', 'cont6', 'cont7', 'cont8', 'cont9', 'cont10', 'cat0_0', 'cat0_1', 'cat1_0', 'cat1_1', 'cat1_2', 'cat1_3', 'cat1_4', 'cat1_5', 'cat1_6', 'cat1_7', 'cat1_8', 'cat1_9', 'cat1_10', 'cat1_11', 'cat1_12', 'cat1_13', 'cat1_14', 'cat2_0', 'cat2_1', 'cat2_2', 'cat2_3', 'cat2_4', 'cat2_5', 'cat2_6', 'cat2_7', 'cat2_8', 'cat2_9', 'cat2_10', 'cat2_11', 'cat2_12', 'cat2_13', 'cat2_14', 'cat2_15', 'cat2_16', 'cat2_17', 'cat2_18', 'cat3_0', 'cat3_1', 'cat3_2', 'cat3_3', 'cat3_4', 'cat3_5', 'cat3_6', 'cat3_7', 'cat3_8', 'cat3_9', 'cat3_10', 'cat3_11', 'cat3_12', 'cat4_0', 'cat4_1', 'cat4_2', 'cat4_3', 'cat4_4', 'cat4_5', 'cat4_6', 'cat4_7', 'cat4_8', 'cat4_9', 'cat4_10', 'cat4_11', 'cat4_12', 'cat4_13', 'cat4_14', 'cat4_15', 'cat4_16', 'cat4_17', 'cat4_18', 'cat4_19', 'cat5_0', 'cat5_1', 'cat5_2', 'cat5_3', 'cat5_4', 'cat5_5', 'cat5_6', 'cat5_7', 'cat5_8', 'cat5_9', 'cat5_10', 'cat5_11', 'cat5_12', 'cat5_13', 'cat5_14', 'cat5_15', 'cat5_16', 'cat5_17', 'cat5_18', 'cat5_19', 'cat5_20', 'cat5_21', 'cat5_22', 'cat5_23', 'cat5_24', 'cat5_25', 'cat5_26', 'cat5_27', 'cat5_28', 'cat5_29', 'cat5_30', 'cat5_31', 'cat5_32', 'cat5_33', 'cat5_34', 'cat5_35', 'cat5_36', 'cat5_37', 'cat5_38', 'cat5_39', 'cat5_40', 'cat5_41', 'cat5_42', 'cat5_43', 'cat5_44', 'cat5_45', 'cat5_46', 'cat5_47', 'cat5_48', 'cat5_49', 'cat5_50', 'cat5_51', 'cat5_52', 'cat5_53', 'cat5_54', 'cat5_55', 'cat5_56', 'cat5_57', 'cat5_58', 'cat5_59', 'cat5_60', 'cat5_61', 'cat5_62', 'cat5_63', 'cat5_64', 'cat5_65', 'cat5_66', 'cat5_67', 'cat5_68', 'cat5_69', 'cat5_70', 'cat5_71', 'cat5_72', 'cat5_73', 'cat5_74', 'cat5_75', 'cat5_76', 'cat5_77', 'cat5_78', 'cat5_79', 'cat5_80', 'cat5_81', 'cat5_82', 'cat5_83', 'cat6_0', 'cat6_1', 'cat6_2', 'cat6_3', 'cat6_4', 'cat6_5', 'cat6_6', 'cat6_7', 'cat6_8', 'cat6_9', 'cat6_10', 'cat6_11', 'cat6_12', 'cat6_13', 'cat6_14', 'cat6_15', 'cat7_0', 'cat7_1', 'cat7_2', 'cat7_3', 'cat7_4', 'cat7_5', 'cat7_6', 'cat7_7', 'cat7_8', 'cat7_9', 'cat7_10', 'cat7_11', 'cat7_12', 'cat7_13', 'cat7_14', 'cat7_15', 'cat7_16', 'cat7_17', 'cat7_18', 'cat7_19', 'cat7_20', 'cat7_21', 'cat7_22', 'cat7_23', 'cat7_24', 'cat7_25', 'cat7_26', 'cat7_27', 'cat7_28', 'cat7_29', 'cat7_30', 'cat7_31', 'cat7_32', 'cat7_33', 'cat7_34', 'cat7_35', 'cat7_36', 'cat7_37', 'cat7_38', 'cat7_39', 'cat7_40', 'cat7_41', 'cat7_42', 'cat7_43', 'cat7_44', 'cat7_45', 'cat7_46', 'cat7_47', 'cat7_48', 'cat7_49', 'cat7_50', 'cat8_0', 'cat8_1', 'cat8_2', 'cat8_3', 'cat8_4', 'cat8_5', 'cat8_6', 'cat8_7', 'cat8_8', 'cat8_9', 'cat8_10', 'cat8_11', 'cat8_12', 'cat8_13', 'cat8_14', 'cat8_15', 'cat8_16', 'cat8_17', 'cat8_18', 'cat8_19', 'cat8_20', 'cat8_21', 'cat8_22', 'cat8_23', 'cat8_24', 'cat8_25', 'cat8_26', 'cat8_27', 'cat8_28', 'cat8_29', 'cat8_30', 'cat8_31', 'cat8_32', 'cat8_33', 'cat8_34', 'cat8_35', 'cat8_36', 'cat8_37', 'cat8_38', 'cat8_39', 'cat8_40', 'cat8_41', 'cat8_42', 'cat8_43', 'cat8_44', 'cat8_45', 'cat8_46', 'cat8_47', 'cat8_48', 'cat8_49', 'cat8_50', 'cat8_51', 'cat8_52', 'cat8_53', 'cat8_54', 'cat8_55', 'cat8_56', 'cat8_57', 'cat8_58', 'cat8_59', 'cat8_60', 'cat9_0', 'cat9_1', 'cat9_2', 'cat9_3', 'cat9_4', 'cat9_5', 'cat9_6', 'cat9_7', 'cat9_8', 'cat9_9', 'cat9_10', 'cat9_11', 'cat9_12', 'cat9_13', 'cat9_14', 'cat9_15', 'cat9_16', 'cat9_17', 'cat9_18', 'cat10_0', 'cat10_1', 'cat10_2', 'cat10_3', 'cat10_4', 'cat10_5', 'cat10_6', 'cat10_7', 'cat10_8', 'cat10_9', 'cat10_10', 'cat10_11', 'cat10_12', 'cat10_13', 'cat10_14', 'cat10_15', 'cat10_16', 'cat10_17', 'cat10_18', 'cat10_19', 'cat10_20', 'cat10_21', 'cat10_22', 'cat10_23', 'cat10_24', 'cat10_25', 'cat10_26', 'cat10_27', 'cat10_28', 'cat10_29', 'cat10_30', 'cat10_31', 'cat10_32', 'cat10_33', 'cat10_34', 'cat10_35', 'cat10_36', 'cat10_37', 'cat10_38', 'cat10_39', 'cat10_40', 'cat10_41', 'cat10_42', 'cat10_43', 'cat10_44', 'cat10_45', 'cat10_46', 'cat10_47', 'cat10_48', 'cat10_49', 'cat10_50', 'cat10_51', 'cat10_52', 'cat10_53', 'cat10_54', 'cat10_55', 'cat10_56', 'cat10_57', 'cat10_58', 'cat10_59', 'cat10_60', 'cat10_61', 'cat10_62', 'cat10_63', 'cat10_64', 'cat10_65', 'cat10_66', 'cat10_67', 'cat10_68', 'cat10_69', 'cat10_70', 'cat10_71', 'cat10_72', 'cat10_73', 'cat10_74', 'cat10_75', 'cat10_76', 'cat10_77', 'cat10_78', 'cat10_79', 'cat10_80', 'cat10_81', 'cat10_82', 'cat10_83', 'cat10_84', 'cat10_85', 'cat10_86', 'cat10_87', 'cat10_88', 'cat10_89', 'cat10_90', 'cat10_91', 'cat10_92', 'cat10_93', 'cat10_94', 'cat10_95', 'cat10_96', 'cat10_97', 'cat10_98', 'cat10_99', 'cat10_100', 'cat10_101', 'cat10_102', 'cat10_103', 'cat10_104', 'cat10_105', 'cat10_106', 'cat10_107', 'cat10_108', 'cat10_109', 'cat10_110', 'cat10_111', 'cat10_112', 'cat10_113', 'cat10_114', 'cat10_115', 'cat10_116', 'cat10_117', 'cat10_118', 'cat10_119', 'cat10_120', 'cat10_121', 'cat10_122', 'cat10_123', 'cat10_124', 'cat10_125', 'cat10_126', 'cat10_127', 'cat10_128', 'cat10_129', 'cat10_130', 'cat10_131', 'cat10_132', 'cat10_133', 'cat10_134', 'cat10_135', 'cat10_136', 'cat10_137', 'cat10_138', 'cat10_139', 'cat10_140', 'cat10_141', 'cat10_142', 'cat10_143', 'cat10_144', 'cat10_145', 'cat10_146', 'cat10_147', 'cat10_148', 'cat10_149', 'cat10_150', 'cat10_151', 'cat10_152', 'cat10_153', 'cat10_154', 'cat10_155', 'cat10_156', 'cat10_157', 'cat10_158', 'cat10_159', 'cat10_160', 'cat10_161', 'cat10_162', 'cat10_163', 'cat10_164', 'cat10_165', 'cat10_166', 'cat10_167', 'cat10_168', 'cat10_169', 'cat10_170', 'cat10_171', 'cat10_172', 'cat10_173', 'cat10_174', 'cat10_175', 'cat10_176', 'cat10_177', 'cat10_178', 'cat10_179', 'cat10_180', 'cat10_181', 'cat10_182', 'cat10_183', 'cat10_184', 'cat10_185', 'cat10_186', 'cat10_187', 'cat10_188', 'cat10_189', 'cat10_190', 'cat10_191', 'cat10_192', 'cat10_193', 'cat10_194', 'cat10_195', 'cat10_196', 'cat10_197', 'cat10_198', 'cat10_199', 'cat10_200', 'cat10_201', 'cat10_202', 'cat10_203', 'cat10_204', 'cat10_205', 'cat10_206', 'cat10_207', 'cat10_208', 'cat10_209', 'cat10_210', 'cat10_211', 'cat10_212', 'cat10_213', 'cat10_214', 'cat10_215', 'cat10_216', 'cat10_217', 'cat10_218', 'cat10_219', 'cat10_220', 'cat10_221', 'cat10_222', 'cat10_223', 'cat10_224', 'cat10_225', 'cat10_226', 'cat10_227', 'cat10_228', 'cat10_229', 'cat10_230', 'cat10_231', 'cat10_232', 'cat10_233', 'cat10_234', 'cat10_235', 'cat10_236', 'cat10_237', 'cat10_238', 'cat10_239', 'cat10_240', 'cat10_241', 'cat10_242', 'cat10_243', 'cat10_244', 'cat10_245', 'cat10_246', 'cat10_247', 'cat10_248', 'cat10_249', 'cat10_250', 'cat10_251', 'cat10_252', 'cat10_253', 'cat10_254', 'cat10_255', 'cat10_256', 'cat10_257', 'cat10_258', 'cat10_259', 'cat10_260', 'cat10_261', 'cat10_262', 'cat10_263', 'cat10_264', 'cat10_265', 'cat10_266', 'cat10_267', 'cat10_268', 'cat10_269', 'cat10_270', 'cat10_271', 'cat10_272', 'cat10_273', 'cat10_274', 'cat10_275', 'cat10_276', 'cat10_277', 'cat10_278', 'cat10_279', 'cat10_280', 'cat10_281', 'cat10_282', 'cat10_283', 'cat10_284', 'cat10_285', 'cat10_286', 'cat10_287', 'cat10_288', 'cat10_289', 'cat10_290', 'cat10_291', 'cat10_292', 'cat10_293', 'cat10_294', 'cat10_295', 'cat10_296', 'cat10_297', 'cat10_298', 'cat10_299', 'cat10_300', 'cat10_301', 'cat10_302', 'cat10_303', 'cat10_304', 'cat10_305', 'cat10_306', 'cat11_0', 'cat11_1', 'cat12_0', 'cat12_1', 'cat13_0', 'cat13_1', 'cat14_0', 'cat14_1', 'cat15_0', 'cat15_1', 'cat15_2', 'cat15_3', 'cat16_0', 'cat16_1', 'cat16_2', 'cat16_3', 'cat17_0', 'cat17_1', 'cat17_2', 'cat17_3', 'cat18_0', 'cat18_1', 'cat18_2', 'cat18_3']\n",
      "[INFO]2021-03-23 10:08:27,410:main:fold 1 of 10\n"
     ]
    },
    {
     "name": "stderr",
     "output_type": "stream",
     "text": [
      "/home/arnabb/anaconda3/envs/py_k/lib/python3.8/site-packages/lightgbm/basic.py:1554: UserWarning: categorical_feature in Dataset is overridden.\n",
      "New categorical_feature is []\n",
      "  warnings.warn('categorical_feature in Dataset is overridden.\\n'\n"
     ]
    },
    {
     "name": "stdout",
     "output_type": "stream",
     "text": [
      "Training until validation scores don't improve for 100 rounds\n",
      "[100]\ttraining's auc: 0.895103\tvalid_1's auc: 0.891617\n",
      "[200]\ttraining's auc: 0.901922\tvalid_1's auc: 0.892701\n",
      "[300]\ttraining's auc: 0.907385\tvalid_1's auc: 0.892991\n",
      "[400]\ttraining's auc: 0.912249\tvalid_1's auc: 0.89328\n",
      "[500]\ttraining's auc: 0.916989\tvalid_1's auc: 0.893652\n",
      "Early stopping, best iteration is:\n",
      "[498]\ttraining's auc: 0.916914\tvalid_1's auc: 0.893667\n",
      "[INFO]2021-03-23 10:08:43,484:main:CV OOF Score for fold 1 is 0.8936672007803833\n",
      "[INFO]2021-03-23 10:08:43,536:main:fold 2 of 10\n"
     ]
    },
    {
     "name": "stderr",
     "output_type": "stream",
     "text": [
      "/home/arnabb/anaconda3/envs/py_k/lib/python3.8/site-packages/lightgbm/basic.py:1554: UserWarning: categorical_feature in Dataset is overridden.\n",
      "New categorical_feature is []\n",
      "  warnings.warn('categorical_feature in Dataset is overridden.\\n'\n"
     ]
    },
    {
     "name": "stdout",
     "output_type": "stream",
     "text": [
      "Training until validation scores don't improve for 100 rounds\n",
      "[100]\ttraining's auc: 0.89522\tvalid_1's auc: 0.890598\n",
      "[200]\ttraining's auc: 0.90215\tvalid_1's auc: 0.8916\n",
      "[300]\ttraining's auc: 0.907581\tvalid_1's auc: 0.892256\n",
      "[400]\ttraining's auc: 0.912493\tvalid_1's auc: 0.892464\n",
      "[500]\ttraining's auc: 0.91719\tvalid_1's auc: 0.892736\n",
      "Early stopping, best iteration is:\n",
      "[498]\ttraining's auc: 0.917108\tvalid_1's auc: 0.892753\n",
      "[INFO]2021-03-23 10:08:59,132:main:CV OOF Score for fold 2 is 0.8927527690938045\n",
      "[INFO]2021-03-23 10:08:59,182:main:fold 3 of 10\n"
     ]
    },
    {
     "name": "stderr",
     "output_type": "stream",
     "text": [
      "/home/arnabb/anaconda3/envs/py_k/lib/python3.8/site-packages/lightgbm/basic.py:1554: UserWarning: categorical_feature in Dataset is overridden.\n",
      "New categorical_feature is []\n",
      "  warnings.warn('categorical_feature in Dataset is overridden.\\n'\n"
     ]
    },
    {
     "name": "stdout",
     "output_type": "stream",
     "text": [
      "Training until validation scores don't improve for 100 rounds\n",
      "[100]\ttraining's auc: 0.895247\tvalid_1's auc: 0.891921\n",
      "[200]\ttraining's auc: 0.902314\tvalid_1's auc: 0.893347\n",
      "[300]\ttraining's auc: 0.907788\tvalid_1's auc: 0.893929\n",
      "[400]\ttraining's auc: 0.912868\tvalid_1's auc: 0.894029\n",
      "[500]\ttraining's auc: 0.917223\tvalid_1's auc: 0.894257\n",
      "[600]\ttraining's auc: 0.921457\tvalid_1's auc: 0.894451\n",
      "[700]\ttraining's auc: 0.925696\tvalid_1's auc: 0.894547\n",
      "Early stopping, best iteration is:\n",
      "[649]\ttraining's auc: 0.923647\tvalid_1's auc: 0.894566\n",
      "[INFO]2021-03-23 10:09:19,174:main:CV OOF Score for fold 3 is 0.894565877029156\n",
      "[INFO]2021-03-23 10:09:19,217:main:fold 4 of 10\n"
     ]
    },
    {
     "name": "stderr",
     "output_type": "stream",
     "text": [
      "/home/arnabb/anaconda3/envs/py_k/lib/python3.8/site-packages/lightgbm/basic.py:1554: UserWarning: categorical_feature in Dataset is overridden.\n",
      "New categorical_feature is []\n",
      "  warnings.warn('categorical_feature in Dataset is overridden.\\n'\n"
     ]
    },
    {
     "name": "stdout",
     "output_type": "stream",
     "text": [
      "Training until validation scores don't improve for 100 rounds\n",
      "[100]\ttraining's auc: 0.895473\tvalid_1's auc: 0.889164\n",
      "[200]\ttraining's auc: 0.902254\tvalid_1's auc: 0.890321\n",
      "[300]\ttraining's auc: 0.907803\tvalid_1's auc: 0.890645\n",
      "[400]\ttraining's auc: 0.91256\tvalid_1's auc: 0.890799\n",
      "Early stopping, best iteration is:\n",
      "[336]\ttraining's auc: 0.909675\tvalid_1's auc: 0.890804\n",
      "[INFO]2021-03-23 10:09:35,836:main:CV OOF Score for fold 4 is 0.8908038311381365\n",
      "[INFO]2021-03-23 10:09:35,885:main:fold 5 of 10\n"
     ]
    },
    {
     "name": "stderr",
     "output_type": "stream",
     "text": [
      "/home/arnabb/anaconda3/envs/py_k/lib/python3.8/site-packages/lightgbm/basic.py:1554: UserWarning: categorical_feature in Dataset is overridden.\n",
      "New categorical_feature is []\n",
      "  warnings.warn('categorical_feature in Dataset is overridden.\\n'\n"
     ]
    },
    {
     "name": "stdout",
     "output_type": "stream",
     "text": [
      "Training until validation scores don't improve for 100 rounds\n",
      "[100]\ttraining's auc: 0.895064\tvalid_1's auc: 0.892148\n",
      "[200]\ttraining's auc: 0.901964\tvalid_1's auc: 0.893124\n",
      "[300]\ttraining's auc: 0.907514\tvalid_1's auc: 0.893669\n",
      "[400]\ttraining's auc: 0.912435\tvalid_1's auc: 0.894044\n",
      "[500]\ttraining's auc: 0.916829\tvalid_1's auc: 0.894238\n",
      "[600]\ttraining's auc: 0.920816\tvalid_1's auc: 0.894255\n",
      "Early stopping, best iteration is:\n",
      "[531]\ttraining's auc: 0.918074\tvalid_1's auc: 0.894292\n",
      "[INFO]2021-03-23 10:10:03,085:main:CV OOF Score for fold 5 is 0.8942923338684665\n",
      "[INFO]2021-03-23 10:10:03,128:main:fold 6 of 10\n"
     ]
    },
    {
     "name": "stderr",
     "output_type": "stream",
     "text": [
      "/home/arnabb/anaconda3/envs/py_k/lib/python3.8/site-packages/lightgbm/basic.py:1554: UserWarning: categorical_feature in Dataset is overridden.\n",
      "New categorical_feature is []\n",
      "  warnings.warn('categorical_feature in Dataset is overridden.\\n'\n"
     ]
    },
    {
     "name": "stdout",
     "output_type": "stream",
     "text": [
      "Training until validation scores don't improve for 100 rounds\n",
      "[100]\ttraining's auc: 0.895426\tvalid_1's auc: 0.889921\n",
      "[200]\ttraining's auc: 0.902541\tvalid_1's auc: 0.891332\n",
      "[300]\ttraining's auc: 0.908193\tvalid_1's auc: 0.891591\n",
      "[400]\ttraining's auc: 0.91309\tvalid_1's auc: 0.891445\n",
      "Early stopping, best iteration is:\n",
      "[324]\ttraining's auc: 0.909416\tvalid_1's auc: 0.891673\n",
      "[INFO]2021-03-23 10:10:18,875:main:CV OOF Score for fold 6 is 0.8916733247324583\n",
      "[INFO]2021-03-23 10:10:18,913:main:fold 7 of 10\n"
     ]
    },
    {
     "name": "stderr",
     "output_type": "stream",
     "text": [
      "/home/arnabb/anaconda3/envs/py_k/lib/python3.8/site-packages/lightgbm/basic.py:1554: UserWarning: categorical_feature in Dataset is overridden.\n",
      "New categorical_feature is []\n",
      "  warnings.warn('categorical_feature in Dataset is overridden.\\n'\n"
     ]
    },
    {
     "name": "stdout",
     "output_type": "stream",
     "text": [
      "Training until validation scores don't improve for 100 rounds\n",
      "[100]\ttraining's auc: 0.895603\tvalid_1's auc: 0.88672\n",
      "[200]\ttraining's auc: 0.902543\tvalid_1's auc: 0.888312\n",
      "[300]\ttraining's auc: 0.90806\tvalid_1's auc: 0.889061\n",
      "[400]\ttraining's auc: 0.913077\tvalid_1's auc: 0.889152\n",
      "Early stopping, best iteration is:\n",
      "[332]\ttraining's auc: 0.909699\tvalid_1's auc: 0.88929\n",
      "[INFO]2021-03-23 10:10:30,797:main:CV OOF Score for fold 7 is 0.8892899281540623\n",
      "[INFO]2021-03-23 10:10:30,837:main:fold 8 of 10\n"
     ]
    },
    {
     "name": "stderr",
     "output_type": "stream",
     "text": [
      "/home/arnabb/anaconda3/envs/py_k/lib/python3.8/site-packages/lightgbm/basic.py:1554: UserWarning: categorical_feature in Dataset is overridden.\n",
      "New categorical_feature is []\n",
      "  warnings.warn('categorical_feature in Dataset is overridden.\\n'\n"
     ]
    },
    {
     "name": "stdout",
     "output_type": "stream",
     "text": [
      "Training until validation scores don't improve for 100 rounds\n",
      "[100]\ttraining's auc: 0.895473\tvalid_1's auc: 0.889304\n",
      "[200]\ttraining's auc: 0.902475\tvalid_1's auc: 0.890489\n",
      "[300]\ttraining's auc: 0.907959\tvalid_1's auc: 0.89076\n",
      "[400]\ttraining's auc: 0.912511\tvalid_1's auc: 0.890865\n",
      "[500]\ttraining's auc: 0.91713\tvalid_1's auc: 0.89098\n",
      "[600]\ttraining's auc: 0.921327\tvalid_1's auc: 0.891229\n",
      "[700]\ttraining's auc: 0.925187\tvalid_1's auc: 0.891208\n",
      "Early stopping, best iteration is:\n",
      "[610]\ttraining's auc: 0.921865\tvalid_1's auc: 0.891339\n",
      "[INFO]2021-03-23 10:10:49,163:main:CV OOF Score for fold 8 is 0.8913391108674036\n",
      "[INFO]2021-03-23 10:10:49,207:main:fold 9 of 10\n"
     ]
    },
    {
     "name": "stderr",
     "output_type": "stream",
     "text": [
      "/home/arnabb/anaconda3/envs/py_k/lib/python3.8/site-packages/lightgbm/basic.py:1554: UserWarning: categorical_feature in Dataset is overridden.\n",
      "New categorical_feature is []\n",
      "  warnings.warn('categorical_feature in Dataset is overridden.\\n'\n"
     ]
    },
    {
     "name": "stdout",
     "output_type": "stream",
     "text": [
      "Training until validation scores don't improve for 100 rounds\n",
      "[100]\ttraining's auc: 0.895051\tvalid_1's auc: 0.892356\n",
      "[200]\ttraining's auc: 0.902144\tvalid_1's auc: 0.893382\n",
      "[300]\ttraining's auc: 0.907822\tvalid_1's auc: 0.893868\n",
      "[400]\ttraining's auc: 0.91281\tvalid_1's auc: 0.894109\n",
      "[500]\ttraining's auc: 0.917491\tvalid_1's auc: 0.894277\n",
      "[600]\ttraining's auc: 0.921441\tvalid_1's auc: 0.894414\n",
      "[700]\ttraining's auc: 0.925612\tvalid_1's auc: 0.894558\n",
      "[800]\ttraining's auc: 0.929224\tvalid_1's auc: 0.894464\n",
      "Early stopping, best iteration is:\n",
      "[742]\ttraining's auc: 0.927154\tvalid_1's auc: 0.894593\n",
      "[INFO]2021-03-23 10:11:10,361:main:CV OOF Score for fold 9 is 0.8945932393342191\n",
      "[INFO]2021-03-23 10:11:10,402:main:fold 10 of 10\n"
     ]
    },
    {
     "name": "stderr",
     "output_type": "stream",
     "text": [
      "/home/arnabb/anaconda3/envs/py_k/lib/python3.8/site-packages/lightgbm/basic.py:1554: UserWarning: categorical_feature in Dataset is overridden.\n",
      "New categorical_feature is []\n",
      "  warnings.warn('categorical_feature in Dataset is overridden.\\n'\n"
     ]
    },
    {
     "name": "stdout",
     "output_type": "stream",
     "text": [
      "Training until validation scores don't improve for 100 rounds\n",
      "[100]\ttraining's auc: 0.895665\tvalid_1's auc: 0.887131\n",
      "[200]\ttraining's auc: 0.902573\tvalid_1's auc: 0.888066\n",
      "[300]\ttraining's auc: 0.907868\tvalid_1's auc: 0.888574\n",
      "[400]\ttraining's auc: 0.912799\tvalid_1's auc: 0.888646\n",
      "[500]\ttraining's auc: 0.917276\tvalid_1's auc: 0.888833\n",
      "[600]\ttraining's auc: 0.921515\tvalid_1's auc: 0.888991\n",
      "Early stopping, best iteration is:\n",
      "[543]\ttraining's auc: 0.919362\tvalid_1's auc: 0.889129\n",
      "[INFO]2021-03-23 10:11:27,160:main:CV OOF Score for fold 10 is 0.8891286193057756\n",
      "[INFO]2021-03-23 10:11:27,306:main:Combined OOF score : 0.89221\n",
      "[INFO]2021-03-23 10:11:27,307:main:Average of 10 folds OOF score 0.89221\n",
      "[INFO]2021-03-23 10:11:27,307:main:std of 10 folds OOF score 0.00198\n",
      "[INFO]2021-03-23 10:11:27,351:main:Training/Prediction completed!\n"
     ]
    }
   ],
   "source": [
    "MODEL_TYPE = \"lgb\"\n",
    "OBJECTIVE = \"binary\"\n",
    "BOOSTING_TYPE = \"gbdt\"\n",
    "METRIC = \"auc\"\n",
    "VERBOSE = 100\n",
    "N_THREADS = -1\n",
    "NUM_LEAVES = 31\n",
    "MAX_DEPTH = -1\n",
    "N_ESTIMATORS = 10000\n",
    "LEARNING_RATE = 0.1\n",
    "EARLY_STOPPING_ROUNDS = 100\n",
    "\n",
    "\n",
    "lgb_params = {\n",
    "                'objective': OBJECTIVE,\n",
    "                'boosting_type': BOOSTING_TYPE,\n",
    "                'learning_rate': LEARNING_RATE,\n",
    "                'num_leaves': NUM_LEAVES,\n",
    "                'tree_learner': 'serial',\n",
    "                'n_jobs': N_THREADS,\n",
    "                'seed': SEED,\n",
    "                'max_depth': MAX_DEPTH,\n",
    "                'max_bin': 255,\n",
    "                'metric': METRIC,\n",
    "                'verbose': -1,\n",
    "                }\n",
    "\n",
    "predictors = list(train_X.columns)\n",
    "logger.info(f\"List of predictors {predictors}\")\n",
    "\n",
    "sk = StratifiedKFold(n_splits=10, shuffle=False)\n",
    "\n",
    "results_dict = lgb_train_validate_on_cv(\n",
    "    logger,\n",
    "    run_id=1234,\n",
    "    train_X=train_X,\n",
    "    train_Y=train_Y,\n",
    "    test_X=test_X,\n",
    "    kf=sk,\n",
    "    features=predictors,\n",
    "    params=lgb_params,\n",
    "    n_estimators=N_ESTIMATORS,\n",
    "    early_stopping_rounds=EARLY_STOPPING_ROUNDS,\n",
    "    cat_features=\"\",\n",
    "    is_test=False,\n",
    "    verbose_eval=100,\n",
    ")"
   ]
  },
  {
   "cell_type": "code",
   "execution_count": 17,
   "id": "pretty-cheese",
   "metadata": {},
   "outputs": [
    {
     "data": {
      "text/plain": [
       "(300000, 200000)"
      ]
     },
     "execution_count": 17,
     "metadata": {},
     "output_type": "execute_result"
    }
   ],
   "source": [
    "lgb_ohe_oof = results_dict['y_oof']\n",
    "lgb_ohe_test_pred = results_dict['prediction']\n",
    "\n",
    "len(lgb_ohe_oof), len(lgb_ohe_test_pred)"
   ]
  },
  {
   "cell_type": "markdown",
   "id": "absolute-angle",
   "metadata": {},
   "source": [
    "# Create the dataset for Level 2"
   ]
  },
  {
   "cell_type": "code",
   "execution_count": 18,
   "id": "further-hepatitis",
   "metadata": {},
   "outputs": [],
   "source": [
    "l1_train_df = pd.DataFrame(data={\n",
    "    \"lgb_le\": lgb_le_oof,\n",
    "    \"lgb_ohe_oof\": lgb_ohe_oof\n",
    "}, index=train_df.index)\n",
    "\n",
    "\n",
    "l1_test_df = pd.DataFrame(data={\n",
    "    \"lgb_le\": lgb_le_test_pred,\n",
    "    \"lgb_ohe_oof\": lgb_ohe_test_pred\n",
    "}, index=test_df.index)"
   ]
  },
  {
   "cell_type": "code",
   "execution_count": 19,
   "id": "statewide-summary",
   "metadata": {},
   "outputs": [
    {
     "data": {
      "text/html": [
       "<div>\n",
       "<style scoped>\n",
       "    .dataframe tbody tr th:only-of-type {\n",
       "        vertical-align: middle;\n",
       "    }\n",
       "\n",
       "    .dataframe tbody tr th {\n",
       "        vertical-align: top;\n",
       "    }\n",
       "\n",
       "    .dataframe thead th {\n",
       "        text-align: right;\n",
       "    }\n",
       "</style>\n",
       "<table border=\"1\" class=\"dataframe\">\n",
       "  <thead>\n",
       "    <tr style=\"text-align: right;\">\n",
       "      <th></th>\n",
       "      <th>lgb_le</th>\n",
       "      <th>lgb_ohe_oof</th>\n",
       "    </tr>\n",
       "    <tr>\n",
       "      <th>id</th>\n",
       "      <th></th>\n",
       "      <th></th>\n",
       "    </tr>\n",
       "  </thead>\n",
       "  <tbody>\n",
       "    <tr>\n",
       "      <th>0</th>\n",
       "      <td>0.135424</td>\n",
       "      <td>0.079853</td>\n",
       "    </tr>\n",
       "    <tr>\n",
       "      <th>1</th>\n",
       "      <td>0.255094</td>\n",
       "      <td>0.427562</td>\n",
       "    </tr>\n",
       "    <tr>\n",
       "      <th>2</th>\n",
       "      <td>0.043780</td>\n",
       "      <td>0.052041</td>\n",
       "    </tr>\n",
       "    <tr>\n",
       "      <th>3</th>\n",
       "      <td>0.064838</td>\n",
       "      <td>0.061243</td>\n",
       "    </tr>\n",
       "    <tr>\n",
       "      <th>4</th>\n",
       "      <td>0.187040</td>\n",
       "      <td>0.243900</td>\n",
       "    </tr>\n",
       "  </tbody>\n",
       "</table>\n",
       "</div>"
      ],
      "text/plain": [
       "      lgb_le  lgb_ohe_oof\n",
       "id                       \n",
       "0   0.135424     0.079853\n",
       "1   0.255094     0.427562\n",
       "2   0.043780     0.052041\n",
       "3   0.064838     0.061243\n",
       "4   0.187040     0.243900"
      ]
     },
     "execution_count": 19,
     "metadata": {},
     "output_type": "execute_result"
    }
   ],
   "source": [
    "l1_train_df.head()"
   ]
  },
  {
   "cell_type": "code",
   "execution_count": 20,
   "id": "worthy-robert",
   "metadata": {},
   "outputs": [
    {
     "data": {
      "text/html": [
       "<div>\n",
       "<style scoped>\n",
       "    .dataframe tbody tr th:only-of-type {\n",
       "        vertical-align: middle;\n",
       "    }\n",
       "\n",
       "    .dataframe tbody tr th {\n",
       "        vertical-align: top;\n",
       "    }\n",
       "\n",
       "    .dataframe thead th {\n",
       "        text-align: right;\n",
       "    }\n",
       "</style>\n",
       "<table border=\"1\" class=\"dataframe\">\n",
       "  <thead>\n",
       "    <tr style=\"text-align: right;\">\n",
       "      <th></th>\n",
       "      <th>lgb_le</th>\n",
       "      <th>lgb_ohe_oof</th>\n",
       "    </tr>\n",
       "    <tr>\n",
       "      <th>id</th>\n",
       "      <th></th>\n",
       "      <th></th>\n",
       "    </tr>\n",
       "  </thead>\n",
       "  <tbody>\n",
       "    <tr>\n",
       "      <th>5</th>\n",
       "      <td>0.128911</td>\n",
       "      <td>0.160895</td>\n",
       "    </tr>\n",
       "    <tr>\n",
       "      <th>6</th>\n",
       "      <td>0.326869</td>\n",
       "      <td>0.444791</td>\n",
       "    </tr>\n",
       "    <tr>\n",
       "      <th>8</th>\n",
       "      <td>0.019060</td>\n",
       "      <td>0.023641</td>\n",
       "    </tr>\n",
       "    <tr>\n",
       "      <th>9</th>\n",
       "      <td>0.216979</td>\n",
       "      <td>0.201414</td>\n",
       "    </tr>\n",
       "    <tr>\n",
       "      <th>11</th>\n",
       "      <td>0.109366</td>\n",
       "      <td>0.118352</td>\n",
       "    </tr>\n",
       "  </tbody>\n",
       "</table>\n",
       "</div>"
      ],
      "text/plain": [
       "      lgb_le  lgb_ohe_oof\n",
       "id                       \n",
       "5   0.128911     0.160895\n",
       "6   0.326869     0.444791\n",
       "8   0.019060     0.023641\n",
       "9   0.216979     0.201414\n",
       "11  0.109366     0.118352"
      ]
     },
     "execution_count": 20,
     "metadata": {},
     "output_type": "execute_result"
    }
   ],
   "source": [
    "l1_test_df.head()"
   ]
  },
  {
   "cell_type": "code",
   "execution_count": 21,
   "id": "endangered-texture",
   "metadata": {},
   "outputs": [],
   "source": [
    "train_X = l1_train_df\n",
    "train_Y = train_df[TARGET]\n",
    "test_X = l1_test_df"
   ]
  },
  {
   "cell_type": "code",
   "execution_count": 22,
   "id": "according-second",
   "metadata": {},
   "outputs": [],
   "source": [
    "def CCCV_train_validate_on_cv(\n",
    "    logger,\n",
    "    run_id,\n",
    "    train_X,\n",
    "    train_Y,\n",
    "    test_X,\n",
    "    kf,\n",
    "    is_test=False,\n",
    "):\n",
    "    \"\"\"Train a LightGBM model, validate using cross validation. If `test_X` has\n",
    "    a valid value, creates a new model with number of best iteration found during\n",
    "    holdout phase using training as well as validation data.\n",
    "\n",
    "    startify_by_labels: Used as the label for StartifiedKFold on top of continous\n",
    "    variables\n",
    "    \"\"\"\n",
    "\n",
    "    y_oof = np.zeros(len(train_X))\n",
    "    y_predicted = np.zeros(len(test_X))\n",
    "    cv_scores = []\n",
    "    result_dict = {}\n",
    "\n",
    "    n_folds = kf.get_n_splits()\n",
    "    for fold, (train_index, validation_index) in enumerate(kf.split(X=train_X, y=train_Y)):\n",
    "        fold += 1\n",
    "        logger.info(f\"fold {fold} of {n_folds}\")\n",
    "\n",
    "        X_train, X_validation, y_train, y_validation = __get_X_Y_from_CV(\n",
    "            train_X, train_Y, train_index, validation_index\n",
    "        )\n",
    "\n",
    "        model = CalibratedClassifierCV(RidgeClassifier(random_state=SEED), cv=5)\n",
    "        model.fit(X_train, y_train)\n",
    "\n",
    "        y_oof[validation_index] = model.predict_proba(X_validation)[:, -1]\n",
    "        y_predicted += model.predict_proba(test_X.values)[:, -1]\n",
    "\n",
    "        cv_oof_score = __calculate_perf_metric(y_validation, y_oof[validation_index])\n",
    "        cv_scores.append(cv_oof_score)\n",
    "        logger.info(f\"CV OOF Score for fold {fold} is {cv_oof_score}\")\n",
    "\n",
    "        del validation_index, X_validation, y_validation\n",
    "        gc.collect()\n",
    "\n",
    "    result_dict = __evaluate_and_log(\n",
    "        logger,\n",
    "        run_id,\n",
    "        train_Y,\n",
    "        y_oof,\n",
    "        y_predicted,\n",
    "        n_folds,\n",
    "        result_dict,\n",
    "        cv_scores,\n",
    "        best_iterations=0\n",
    "    )\n",
    "\n",
    "    del y_oof\n",
    "    gc.collect()\n",
    "\n",
    "    logger.info(\"Training/Prediction completed!\")\n",
    "    return result_dict"
   ]
  },
  {
   "cell_type": "code",
   "execution_count": 23,
   "id": "functioning-violation",
   "metadata": {},
   "outputs": [
    {
     "name": "stdout",
     "output_type": "stream",
     "text": [
      "[INFO]2021-03-23 10:12:13,991:main:List of predictors ['lgb_le', 'lgb_ohe_oof']\n",
      "[INFO]2021-03-23 10:12:14,033:main:fold 1 of 10\n",
      "[INFO]2021-03-23 10:12:14,755:main:CV OOF Score for fold 1 is 0.8953651816031907\n",
      "[INFO]2021-03-23 10:12:14,818:main:fold 2 of 10\n",
      "[INFO]2021-03-23 10:12:15,498:main:CV OOF Score for fold 2 is 0.8947129487055673\n",
      "[INFO]2021-03-23 10:12:15,558:main:fold 3 of 10\n",
      "[INFO]2021-03-23 10:12:16,637:main:CV OOF Score for fold 3 is 0.8964197117155474\n",
      "[INFO]2021-03-23 10:12:16,695:main:fold 4 of 10\n",
      "[INFO]2021-03-23 10:12:17,396:main:CV OOF Score for fold 4 is 0.8933180988540336\n",
      "[INFO]2021-03-23 10:12:17,449:main:fold 5 of 10\n",
      "[INFO]2021-03-23 10:12:18,290:main:CV OOF Score for fold 5 is 0.8958314649548733\n",
      "[INFO]2021-03-23 10:12:18,343:main:fold 6 of 10\n",
      "[INFO]2021-03-23 10:12:19,204:main:CV OOF Score for fold 6 is 0.8938522829498133\n",
      "[INFO]2021-03-23 10:12:19,253:main:fold 7 of 10\n",
      "[INFO]2021-03-23 10:12:19,951:main:CV OOF Score for fold 7 is 0.8908003673385176\n",
      "[INFO]2021-03-23 10:12:20,006:main:fold 8 of 10\n",
      "[INFO]2021-03-23 10:12:20,817:main:CV OOF Score for fold 8 is 0.8930553065969393\n",
      "[INFO]2021-03-23 10:12:20,876:main:fold 9 of 10\n",
      "[INFO]2021-03-23 10:12:21,584:main:CV OOF Score for fold 9 is 0.8959702337837627\n",
      "[INFO]2021-03-23 10:12:21,636:main:fold 10 of 10\n",
      "[INFO]2021-03-23 10:12:22,332:main:CV OOF Score for fold 10 is 0.8912108229650099\n",
      "[INFO]2021-03-23 10:12:22,477:main:Combined OOF score : 0.89405\n",
      "[INFO]2021-03-23 10:12:22,478:main:Average of 10 folds OOF score 0.89405\n",
      "[INFO]2021-03-23 10:12:22,478:main:std of 10 folds OOF score 0.00187\n",
      "[INFO]2021-03-23 10:12:22,526:main:Training/Prediction completed!\n"
     ]
    }
   ],
   "source": [
    "predictors = list(train_X.columns)\n",
    "logger.info(f\"List of predictors {predictors}\")\n",
    "\n",
    "sk = StratifiedKFold(n_splits=10, shuffle=False)\n",
    "\n",
    "results_dict = CCCV_train_validate_on_cv(\n",
    "    logger,\n",
    "    run_id=1234,\n",
    "    train_X=train_X,\n",
    "    train_Y=train_Y,\n",
    "    test_X=test_X,\n",
    "    kf=sk,\n",
    "    is_test=True,\n",
    ")"
   ]
  },
  {
   "cell_type": "code",
   "execution_count": 24,
   "id": "valuable-provincial",
   "metadata": {},
   "outputs": [
    {
     "data": {
      "text/plain": [
       "array([0.10928265, 0.33402923, 0.05623773, ..., 0.66344367, 0.0817689 ,\n",
       "       0.53300568])"
      ]
     },
     "execution_count": 24,
     "metadata": {},
     "output_type": "execute_result"
    }
   ],
   "source": [
    "results_dict['prediction']"
   ]
  },
  {
   "cell_type": "code",
   "execution_count": null,
   "id": "seven-island",
   "metadata": {},
   "outputs": [],
   "source": []
  }
 ],
 "metadata": {
  "kernelspec": {
   "display_name": "Python 3",
   "language": "python",
   "name": "python3"
  },
  "language_info": {
   "codemirror_mode": {
    "name": "ipython",
    "version": 3
   },
   "file_extension": ".py",
   "mimetype": "text/x-python",
   "name": "python",
   "nbconvert_exporter": "python",
   "pygments_lexer": "ipython3",
   "version": "3.8.6"
  }
 },
 "nbformat": 4,
 "nbformat_minor": 5
}
